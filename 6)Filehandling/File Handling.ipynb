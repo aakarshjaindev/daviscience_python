{
 "cells": [
  {
   "cell_type": "markdown",
   "id": "338e5543",
   "metadata": {},
   "source": [
    "# File Handling"
   ]
  },
  {
   "cell_type": "markdown",
   "id": "2b4d4270",
   "metadata": {},
   "source": [
    "# Files"
   ]
  },
  {
   "cell_type": "markdown",
   "id": "20528266",
   "metadata": {},
   "source": [
    "Files are named locations on disk to store related information. They are used to permanently store data in a non-volatile memory."
   ]
  },
  {
   "cell_type": "markdown",
   "id": "65a26b00",
   "metadata": {},
   "source": [
    "several operation for creating, reading, updating, and deleting files.\n",
    "\n"
   ]
  },
  {
   "cell_type": "markdown",
   "id": "7fd3040e",
   "metadata": {},
   "source": [
    "The open() function takes two parameters; filename, and mode."
   ]
  },
  {
   "cell_type": "markdown",
   "id": "ec84ef9e",
   "metadata": {},
   "source": [
    "\"r\" - Read - Default value. Opens a file for reading, error if the file does not exist\n",
    "\n",
    "\"a\" - Append - Opens a file for appending, creates the file if it does not exist\n",
    "\n",
    "\"w\" - Write - Opens a file for writing, creates the file if it does not exist\n",
    "\n",
    "\"x\" - Create - Creates the specified file, returns an error if the file exists"
   ]
  },
  {
   "cell_type": "markdown",
   "id": "b05fad40",
   "metadata": {},
   "source": [
    "# Create a New File"
   ]
  },
  {
   "cell_type": "markdown",
   "id": "fcd7e039",
   "metadata": {},
   "source": [
    "\"x\" - Create - will create a file, returns an error if the file exist\n",
    "\n",
    "\"a\" - Append - will create a file if the specified file does not exist\n",
    "\n",
    "\"w\" - Write - will create a file if the specified file does not exist"
   ]
  },
  {
   "cell_type": "markdown",
   "id": "c803426b",
   "metadata": {},
   "source": [
    "Create a file called \"firstfile.txt\":"
   ]
  },
  {
   "cell_type": "code",
   "execution_count": 3,
   "id": "558c56a2",
   "metadata": {},
   "outputs": [],
   "source": [
    "f = open('C:/Users/Lenovo/Desktop/Module/firstfile.txt','x')"
   ]
  },
  {
   "cell_type": "code",
   "execution_count": 4,
   "id": "141ac0e0",
   "metadata": {},
   "outputs": [],
   "source": [
    "f.close()"
   ]
  },
  {
   "cell_type": "markdown",
   "id": "c6fef3b6",
   "metadata": {},
   "source": [
    "the \"w\" method will overwrite the entire file."
   ]
  },
  {
   "cell_type": "markdown",
   "id": "0286b9a6",
   "metadata": {},
   "source": [
    "# Write to an Existing File"
   ]
  },
  {
   "cell_type": "markdown",
   "id": "dcfde705",
   "metadata": {},
   "source": [
    "write to an existing file, you must add a parameter to the open() function:\n",
    "\n",
    "\"a\" - Append - will append to the end of the file\n",
    "\n",
    "\"w\" - Write - will overwrite any existing content"
   ]
  },
  {
   "cell_type": "markdown",
   "id": "8816134d",
   "metadata": {},
   "source": [
    "Open the file \"firstfile.txt\" and append content to the file:"
   ]
  },
  {
   "cell_type": "code",
   "execution_count": 10,
   "id": "d5523734",
   "metadata": {},
   "outputs": [],
   "source": [
    "f = open('C:/Users/Lenovo/Desktop/Module/firstfile.txt', \"a\")\n",
    "f.write(\"\\n --@ 9 O'clock-- \")\n",
    "f.close()\n",
    "\n"
   ]
  },
  {
   "cell_type": "code",
   "execution_count": 11,
   "id": "8d811b5d",
   "metadata": {
    "scrolled": true
   },
   "outputs": [
    {
     "name": "stdout",
     "output_type": "stream",
     "text": [
      "I am python developer.\n",
      " --@ 9 O'clock-- \n"
     ]
    }
   ],
   "source": [
    "#open and read the file after the appending:\n",
    "f = open('C:/Users/Lenovo/Desktop/Module/firstfile.txt', \"r\")\n",
    "print(f.read())\n",
    "f.close()"
   ]
  },
  {
   "cell_type": "markdown",
   "id": "a87d0e5a",
   "metadata": {},
   "source": [
    "Open the file \"firstfile.txt\" and overwrite the content:"
   ]
  },
  {
   "cell_type": "code",
   "execution_count": 12,
   "id": "f6b63fd8",
   "metadata": {},
   "outputs": [],
   "source": [
    "f = open('C:/Users/Lenovo/Desktop/Module/firstfile.txt', \"w\")\n",
    "f.write(\"This is my file handling data\")\n",
    "#f.write(\"oops! I have deleted the content!\")\n",
    "f.close()\n",
    "\n"
   ]
  },
  {
   "cell_type": "code",
   "execution_count": 9,
   "id": "89343dfc",
   "metadata": {},
   "outputs": [
    {
     "name": "stdout",
     "output_type": "stream",
     "text": [
      "I am python developer.\n"
     ]
    }
   ],
   "source": [
    "#open and read the file after the appending:\n",
    "f = open('C:/Users/Lenovo/Desktop/Module/firstfile.txt','r')\n",
    "print(f.read())\n",
    "f.close()"
   ]
  },
  {
   "cell_type": "markdown",
   "id": "14d34eb4",
   "metadata": {},
   "source": [
    "The open() function returns a file object, which has a read() method for reading the content of the file:"
   ]
  },
  {
   "cell_type": "code",
   "execution_count": 19,
   "id": "e30744bf",
   "metadata": {},
   "outputs": [
    {
     "name": "stdout",
     "output_type": "stream",
     "text": [
      "This is my file hand\n"
     ]
    }
   ],
   "source": [
    "f = open('C:/Users/Lenovo/Desktop/Module/firstfile.txt')\n",
    "print(f.read(20))\n",
    "f.close()"
   ]
  },
  {
   "cell_type": "markdown",
   "id": "d0f6fcc1",
   "metadata": {},
   "source": [
    "Read Only Parts of the File"
   ]
  },
  {
   "cell_type": "markdown",
   "id": "1958502c",
   "metadata": {},
   "source": [
    " the read() method returns the whole text, but you can also specify how many characters you want to return:"
   ]
  },
  {
   "cell_type": "code",
   "execution_count": 20,
   "id": "d716baa8",
   "metadata": {},
   "outputs": [
    {
     "name": "stdout",
     "output_type": "stream",
     "text": [
      "Karnataka Bandh Live Updates: Schools, Colleges Closed In Bengaluru Today\n",
      "Karnataka Bandh News Live Updates: Karnataka is witnessing massive protests after Cauvery \n",
      "Regulatory Committee (CWRC) has ordered to release of 3000 cusecs of water to Tamil Nadu.\n"
     ]
    }
   ],
   "source": [
    "f = open('C:/Users/Lenovo/Desktop/Module/firstfile.txt', \"r\")\n",
    "print(f.read())"
   ]
  },
  {
   "cell_type": "markdown",
   "id": "a64dca3b",
   "metadata": {},
   "source": [
    "Read Lines"
   ]
  },
  {
   "cell_type": "markdown",
   "id": "8dc991cb",
   "metadata": {},
   "source": [
    "return one line by using the readline() method:"
   ]
  },
  {
   "cell_type": "code",
   "execution_count": 36,
   "id": "c5cd9fa1",
   "metadata": {},
   "outputs": [
    {
     "name": "stdout",
     "output_type": "stream",
     "text": [
      "Karnataka Bandh Live Updates: Schools, Colleges Closed In Bengaluru Today\n",
      "\n",
      "Karnataka Bandh News Live Updates: Karnataka is witnessing massive protests after Cauvery \n",
      "\n",
      "Regulatory Committee (CWRC) has ordered to release of 3000 cusecs of water to Tamil Nadu.\n"
     ]
    }
   ],
   "source": [
    "f = open('C:/Users/Lenovo/Desktop/Module/firstfile.txt', \"r\")\n",
    "print(f.readline())\n",
    "print(f.readline())\n",
    "print(f.readline())\n",
    "\n"
   ]
  },
  {
   "cell_type": "markdown",
   "id": "89de743f",
   "metadata": {},
   "source": [
    "By calling readline() two times, you can read the two first lines:"
   ]
  },
  {
   "cell_type": "markdown",
   "id": "a5d5d67a",
   "metadata": {},
   "source": [
    "By looping through the lines of the file, you can read the whole file, line by line:"
   ]
  },
  {
   "cell_type": "code",
   "execution_count": 37,
   "id": "3b82a2f6",
   "metadata": {
    "scrolled": true
   },
   "outputs": [
    {
     "name": "stdout",
     "output_type": "stream",
     "text": [
      "Karnataka Bandh Live Updates: Schools, Colleges Closed In Bengaluru Today\n",
      "\n",
      "Karnataka Bandh News Live Updates: Karnataka is witnessing massive protests after Cauvery \n",
      "\n",
      "Regulatory Committee (CWRC) has ordered to release of 3000 cusecs of water to Tamil Nadu.\n"
     ]
    },
    {
     "data": {
      "text/plain": [
       "_io.TextIOWrapper"
      ]
     },
     "execution_count": 37,
     "metadata": {},
     "output_type": "execute_result"
    }
   ],
   "source": [
    "f = open('C:/Users/Lenovo/Desktop/Module/firstfile.txt', \"r\")\n",
    "for x in f:\n",
    "    print(x)\n",
    "type(f)"
   ]
  },
  {
   "cell_type": "code",
   "execution_count": 25,
   "id": "9a1cc8bd",
   "metadata": {},
   "outputs": [
    {
     "data": {
      "text/plain": [
       "_io.TextIOWrapper"
      ]
     },
     "execution_count": 25,
     "metadata": {},
     "output_type": "execute_result"
    }
   ],
   "source": [
    "type(f)"
   ]
  },
  {
   "cell_type": "markdown",
   "id": "403af145",
   "metadata": {},
   "source": [
    "# Close Files"
   ]
  },
  {
   "cell_type": "markdown",
   "id": "0f8f685e",
   "metadata": {},
   "source": [
    "It is a good practice to always close the file when you are done with it."
   ]
  },
  {
   "cell_type": "markdown",
   "id": "6f8bb9b0",
   "metadata": {},
   "source": [
    "Close the file when you are finish with it:"
   ]
  },
  {
   "cell_type": "code",
   "execution_count": 38,
   "id": "a33e6bd2",
   "metadata": {},
   "outputs": [
    {
     "name": "stdout",
     "output_type": "stream",
     "text": [
      "Karnataka Bandh Live Updates: Schools, Colleges Closed In Bengaluru Today\n",
      "\n"
     ]
    }
   ],
   "source": [
    "f = open('C:/Users/Lenovo/Desktop/Module/firstfile.txt', \"r\")\n",
    "print(f.readline())\n",
    "#f.close()\n",
    "f.close()"
   ]
  },
  {
   "cell_type": "markdown",
   "id": "43a6fb0c",
   "metadata": {},
   "source": [
    "# Delete a File"
   ]
  },
  {
   "cell_type": "markdown",
   "id": "ea122c5a",
   "metadata": {},
   "source": [
    "To delete a file, you must import the OS module, and run its os.remove() function:"
   ]
  },
  {
   "cell_type": "markdown",
   "id": "21d04dac",
   "metadata": {},
   "source": [
    "Remove the file"
   ]
  },
  {
   "cell_type": "code",
   "execution_count": 40,
   "id": "f47b95fc",
   "metadata": {},
   "outputs": [
    {
     "ename": "FileNotFoundError",
     "evalue": "[WinError 2] The system cannot find the file specified: 'C:/Users/Lenovo/Desktop/Module/firstfile.txt'",
     "output_type": "error",
     "traceback": [
      "\u001b[1;31m---------------------------------------------------------------------------\u001b[0m",
      "\u001b[1;31mFileNotFoundError\u001b[0m                         Traceback (most recent call last)",
      "Cell \u001b[1;32mIn[40], line 2\u001b[0m\n\u001b[0;32m      1\u001b[0m \u001b[38;5;28;01mimport\u001b[39;00m \u001b[38;5;21;01mos\u001b[39;00m\n\u001b[1;32m----> 2\u001b[0m \u001b[43mos\u001b[49m\u001b[38;5;241;43m.\u001b[39;49m\u001b[43mremove\u001b[49m\u001b[43m(\u001b[49m\u001b[38;5;124;43m'\u001b[39;49m\u001b[38;5;124;43mC:/Users/Lenovo/Desktop/Module/firstfile.txt\u001b[39;49m\u001b[38;5;124;43m'\u001b[39;49m\u001b[43m)\u001b[49m\n",
      "\u001b[1;31mFileNotFoundError\u001b[0m: [WinError 2] The system cannot find the file specified: 'C:/Users/Lenovo/Desktop/Module/firstfile.txt'"
     ]
    }
   ],
   "source": [
    "import os\n",
    "os.remove('C:/Users/Lenovo/Desktop/Module/firstfile.txt')"
   ]
  },
  {
   "cell_type": "markdown",
   "id": "2c45b01f",
   "metadata": {},
   "source": [
    "Check if File exist"
   ]
  },
  {
   "cell_type": "markdown",
   "id": "e338b1c9",
   "metadata": {},
   "source": [
    "Check if file exists, then delete it:"
   ]
  },
  {
   "cell_type": "code",
   "execution_count": 41,
   "id": "f9fcf33e",
   "metadata": {},
   "outputs": [
    {
     "name": "stdout",
     "output_type": "stream",
     "text": [
      "The file does not exist\n"
     ]
    }
   ],
   "source": [
    "import os\n",
    "if os.path.exists('C:/Users/Lenovo/Desktop/Module/firstfile.txt'):\n",
    "    os.remove('C:/Users/Lenovo/Desktop/Module/firstfile.txt')\n",
    "    print(\"File is deleted.\")\n",
    "else:\n",
    "    print(\"The file does not exist\")\n"
   ]
  },
  {
   "cell_type": "code",
   "execution_count": null,
   "id": "26a97aa9",
   "metadata": {},
   "outputs": [],
   "source": []
  }
 ],
 "metadata": {
  "kernelspec": {
   "display_name": "Python 3 (ipykernel)",
   "language": "python",
   "name": "python3"
  },
  "language_info": {
   "codemirror_mode": {
    "name": "ipython",
    "version": 3
   },
   "file_extension": ".py",
   "mimetype": "text/x-python",
   "name": "python",
   "nbconvert_exporter": "python",
   "pygments_lexer": "ipython3",
   "version": "3.11.0"
  }
 },
 "nbformat": 4,
 "nbformat_minor": 5
}
