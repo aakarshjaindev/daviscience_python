{
 "cells": [
  {
   "cell_type": "markdown",
   "id": "b1fdab2c",
   "metadata": {},
   "source": [
    "Function : where we can perform any specific task."
   ]
  },
  {
   "cell_type": "markdown",
   "id": "a7c72625",
   "metadata": {},
   "source": [
    "divided into two parts :\n",
    "\n",
    "inbuilt function : input(),pow(),print(),sqrt() etc.\n",
    "\n",
    "user define function : Developer written function\n",
    "\n",
    "        - function declaration \n",
    "\n",
    "        - function definition\n",
    "\n",
    "        - function calling"
   ]
  },
  {
   "cell_type": "code",
   "execution_count": null,
   "id": "3cebb051",
   "metadata": {},
   "outputs": [],
   "source": [
    "def function_name():"
   ]
  },
  {
   "cell_type": "markdown",
   "id": "c5ed2c87",
   "metadata": {},
   "source": [
    "# Function Declaration"
   ]
  },
  {
   "cell_type": "code",
   "execution_count": 2,
   "id": "e9877329",
   "metadata": {},
   "outputs": [],
   "source": [
    "def add():\n",
    "    ..."
   ]
  },
  {
   "cell_type": "markdown",
   "id": "4f8d6d96",
   "metadata": {},
   "source": [
    "# Function Definition"
   ]
  },
  {
   "cell_type": "code",
   "execution_count": 3,
   "id": "63b5e7f0",
   "metadata": {},
   "outputs": [],
   "source": [
    "def add():\n",
    "    a,b = 10,20\n",
    "    print(\"Result is  : \",a+b)"
   ]
  },
  {
   "cell_type": "markdown",
   "id": "86400000",
   "metadata": {},
   "source": [
    "# Function Calling"
   ]
  },
  {
   "cell_type": "code",
   "execution_count": 5,
   "id": "00cc3a67",
   "metadata": {},
   "outputs": [
    {
     "name": "stdout",
     "output_type": "stream",
     "text": [
      "Result is  :  30\n"
     ]
    }
   ],
   "source": [
    "add()"
   ]
  },
  {
   "cell_type": "markdown",
   "id": "6083966f",
   "metadata": {},
   "source": [
    "Code Optimized \n",
    "\n",
    "Code reusability"
   ]
  },
  {
   "cell_type": "code",
   "execution_count": 7,
   "id": "4d2d8bc2",
   "metadata": {},
   "outputs": [
    {
     "name": "stdout",
     "output_type": "stream",
     "text": [
      "Result is  :  30\n",
      "Result is  :  30\n",
      "Result is  :  30\n",
      "Result is  :  30\n"
     ]
    }
   ],
   "source": [
    "for i in range(4):\n",
    "    add()"
   ]
  },
  {
   "cell_type": "markdown",
   "id": "a3cd3de4",
   "metadata": {},
   "source": [
    "# Parameter and Arguments"
   ]
  },
  {
   "cell_type": "code",
   "execution_count": 8,
   "id": "1270e63a",
   "metadata": {},
   "outputs": [
    {
     "name": "stdout",
     "output_type": "stream",
     "text": [
      "Value of a is  :  2\n"
     ]
    }
   ],
   "source": [
    "def fun(a):\n",
    "    print(\"Value of a is  : \",a)\n",
    "\n",
    "fun(2)"
   ]
  },
  {
   "cell_type": "code",
   "execution_count": 9,
   "id": "2d2cb0d2",
   "metadata": {},
   "outputs": [
    {
     "name": "stdout",
     "output_type": "stream",
     "text": [
      "Value of a is :  2 Value of b is :  3\n"
     ]
    }
   ],
   "source": [
    "def fun(a,b):\n",
    "    print(\"Value of a is : \",a,\"Value of b is : \",b)\n",
    "\n",
    "fun(2,3)"
   ]
  },
  {
   "cell_type": "code",
   "execution_count": 10,
   "id": "5442b6c0",
   "metadata": {},
   "outputs": [
    {
     "ename": "TypeError",
     "evalue": "fun() missing 1 required positional argument: 'b'",
     "output_type": "error",
     "traceback": [
      "\u001b[1;31m---------------------------------------------------------------------------\u001b[0m",
      "\u001b[1;31mTypeError\u001b[0m                                 Traceback (most recent call last)",
      "Cell \u001b[1;32mIn[10], line 4\u001b[0m\n\u001b[0;32m      1\u001b[0m \u001b[38;5;28;01mdef\u001b[39;00m \u001b[38;5;21mfun\u001b[39m(a,b):\n\u001b[0;32m      2\u001b[0m     \u001b[38;5;28mprint\u001b[39m(\u001b[38;5;124m\"\u001b[39m\u001b[38;5;124mValue of a is : \u001b[39m\u001b[38;5;124m\"\u001b[39m,a,\u001b[38;5;124m\"\u001b[39m\u001b[38;5;124mValue of b is : \u001b[39m\u001b[38;5;124m\"\u001b[39m,b)\n\u001b[1;32m----> 4\u001b[0m \u001b[43mfun\u001b[49m\u001b[43m(\u001b[49m\u001b[38;5;241;43m2\u001b[39;49m\u001b[43m)\u001b[49m\n",
      "\u001b[1;31mTypeError\u001b[0m: fun() missing 1 required positional argument: 'b'"
     ]
    }
   ],
   "source": [
    "def fun(a,b):\n",
    "    print(\"Value of a is : \",a,\"Value of b is : \",b)\n",
    "\n",
    "fun(2)"
   ]
  },
  {
   "cell_type": "code",
   "execution_count": 11,
   "id": "edf33d94",
   "metadata": {},
   "outputs": [
    {
     "ename": "TypeError",
     "evalue": "fun() takes 2 positional arguments but 3 were given",
     "output_type": "error",
     "traceback": [
      "\u001b[1;31m---------------------------------------------------------------------------\u001b[0m",
      "\u001b[1;31mTypeError\u001b[0m                                 Traceback (most recent call last)",
      "Cell \u001b[1;32mIn[11], line 4\u001b[0m\n\u001b[0;32m      1\u001b[0m \u001b[38;5;28;01mdef\u001b[39;00m \u001b[38;5;21mfun\u001b[39m(a,b):\n\u001b[0;32m      2\u001b[0m     \u001b[38;5;28mprint\u001b[39m(\u001b[38;5;124m\"\u001b[39m\u001b[38;5;124mValue of a is : \u001b[39m\u001b[38;5;124m\"\u001b[39m,a,\u001b[38;5;124m\"\u001b[39m\u001b[38;5;124mValue of b is : \u001b[39m\u001b[38;5;124m\"\u001b[39m,b)\n\u001b[1;32m----> 4\u001b[0m \u001b[43mfun\u001b[49m\u001b[43m(\u001b[49m\u001b[38;5;241;43m2\u001b[39;49m\u001b[43m,\u001b[49m\u001b[38;5;241;43m3\u001b[39;49m\u001b[43m,\u001b[49m\u001b[38;5;241;43m4\u001b[39;49m\u001b[43m)\u001b[49m\n",
      "\u001b[1;31mTypeError\u001b[0m: fun() takes 2 positional arguments but 3 were given"
     ]
    }
   ],
   "source": [
    "def fun(a,b):\n",
    "    print(\"Value of a is : \",a,\"Value of b is : \",b)\n",
    "\n",
    "fun(2,3,4)"
   ]
  },
  {
   "cell_type": "code",
   "execution_count": 12,
   "id": "3781a56b",
   "metadata": {},
   "outputs": [
    {
     "name": "stdout",
     "output_type": "stream",
     "text": [
      "Value of a is :  30\n"
     ]
    }
   ],
   "source": [
    "def fun(a = 30):\n",
    "    print(\"Value of a is : \",a)\n",
    "\n",
    "fun()"
   ]
  },
  {
   "cell_type": "code",
   "execution_count": 13,
   "id": "406f0166",
   "metadata": {},
   "outputs": [
    {
     "name": "stdout",
     "output_type": "stream",
     "text": [
      "Value of a is :  46\n"
     ]
    }
   ],
   "source": [
    "def fun(a = 30):\n",
    "    print(\"Value of a is : \",a)\n",
    "\n",
    "fun(46)"
   ]
  },
  {
   "cell_type": "markdown",
   "id": "638f389d",
   "metadata": {},
   "source": [
    "# Passing by value / call by value"
   ]
  },
  {
   "cell_type": "code",
   "execution_count": 14,
   "id": "2fca294e",
   "metadata": {},
   "outputs": [
    {
     "name": "stdout",
     "output_type": "stream",
     "text": [
      "before function calling value of n is  :  12345\n",
      "before value assignment value of n is :  12345\n",
      "After value assignnment value of n is :  67890\n",
      "After function calling value of n is  :  12345\n"
     ]
    }
   ],
   "source": [
    "def fun(n):\n",
    "    print(\"before value assignment value of n is : \",n)#12345\n",
    "    n = 67890\n",
    "    print(\"After value assignnment value of n is : \",n)#67890\n",
    "    \n",
    "    \n",
    "n = 12345\n",
    "print(\"before function calling value of n is  : \",n)#12345\n",
    "fun(n)#12345\n",
    "print(\"After function calling value of n is  : \",n)#12345"
   ]
  },
  {
   "cell_type": "markdown",
   "id": "1a35779c",
   "metadata": {},
   "source": [
    "# Passing by reference / call by reference"
   ]
  },
  {
   "cell_type": "code",
   "execution_count": 21,
   "id": "06faa3d9",
   "metadata": {},
   "outputs": [
    {
     "name": "stdout",
     "output_type": "stream",
     "text": [
      "Before function calling lt is : [2, 3, 4, 5, 6, 7]\n",
      "before value assignment lt is : [2, 3, 4, 5, 6, 7]\n",
      "After value assingment lt is :  [34, 3, 4, 5, 6, 7]\n",
      "After function calling lt is :  [34, 3, 4, 5, 6, 7]\n"
     ]
    }
   ],
   "source": [
    "def fun(lt):\n",
    "    print(\"before value assignment lt is :\",lt)#[2,3,4,5,6,7]\n",
    "    lt [0] = 34\n",
    "    print(\"After value assingment lt is : \",lt)#[34,3,4,5,6,7]\n",
    "    \n",
    "    \n",
    "lt = [2,3,4,5,6,7]\n",
    "print(\"Before function calling lt is :\",lt)#[2,3,4,5,6,7]\n",
    "fun(lt)#[2,3,4,5,6,7]\n",
    "print(\"After function calling lt is : \",lt)#[34,3,4,5,6,7]"
   ]
  },
  {
   "cell_type": "markdown",
   "id": "6a5235e2",
   "metadata": {},
   "source": [
    "# Nested Function"
   ]
  },
  {
   "cell_type": "code",
   "execution_count": 25,
   "id": "4bd01f80",
   "metadata": {},
   "outputs": [
    {
     "name": "stdout",
     "output_type": "stream",
     "text": [
      "Outer Function\n",
      "inner Function\n",
      "Outer Function\n"
     ]
    }
   ],
   "source": [
    "def outer():\n",
    "    print(\"Outer Function\")\n",
    "    def inner():\n",
    "        print(\"inner Function\")\n",
    "    inner()\n",
    "    print(\"Outer Function\")\n",
    "    \n",
    "outer()"
   ]
  },
  {
   "cell_type": "markdown",
   "id": "5c981a2e",
   "metadata": {},
   "source": [
    "# Local Variable"
   ]
  },
  {
   "cell_type": "code",
   "execution_count": 26,
   "id": "ec15b1c3",
   "metadata": {},
   "outputs": [
    {
     "name": "stdout",
     "output_type": "stream",
     "text": [
      "Outer Function :  Outer\n",
      "Inner Function :  Inner\n",
      "Outer Function :  Outer\n"
     ]
    }
   ],
   "source": [
    "def outer():\n",
    "    x = \"Outer\"\n",
    "    print(\"Outer Function : \",x)\n",
    "    def inner():\n",
    "        x = \"Inner\"\n",
    "        print(\"Inner Function : \",x)\n",
    "    inner()\n",
    "    print(\"Outer Function : \",x)\n",
    "outer()"
   ]
  },
  {
   "cell_type": "markdown",
   "id": "beac86af",
   "metadata": {},
   "source": [
    "# NonLocal Variable"
   ]
  },
  {
   "cell_type": "code",
   "execution_count": 27,
   "id": "020294a7",
   "metadata": {},
   "outputs": [
    {
     "name": "stdout",
     "output_type": "stream",
     "text": [
      "Outer Function :  Outer\n",
      "Inner Function :  Inner\n",
      "Outer Function :  Inner\n"
     ]
    }
   ],
   "source": [
    "def outer():\n",
    "    x = \"Outer\"\n",
    "    print(\"Outer Function : \",x)\n",
    "    def inner():\n",
    "        nonlocal x\n",
    "        x = \"Inner\"\n",
    "        print(\"Inner Function : \",x)\n",
    "    inner()\n",
    "    print(\"Outer Function : \",x)\n",
    "outer()"
   ]
  },
  {
   "cell_type": "markdown",
   "id": "28cc7972",
   "metadata": {},
   "source": [
    "# Global Variable"
   ]
  },
  {
   "cell_type": "code",
   "execution_count": 31,
   "id": "fef7333b",
   "metadata": {},
   "outputs": [
    {
     "name": "stdout",
     "output_type": "stream",
     "text": [
      "Value of a is :  10\n",
      "Value of fun a is :  20\n"
     ]
    }
   ],
   "source": [
    "def fun():\n",
    "    global a\n",
    "    a = 10\n",
    "    print(\"Value of a is : \",a)\n",
    "    \n",
    "    \n",
    "fun()\n",
    "a = 20\n",
    "print(\"Value of fun a is : \",a)"
   ]
  },
  {
   "cell_type": "code",
   "execution_count": null,
   "id": "c7bd8b5a",
   "metadata": {},
   "outputs": [],
   "source": []
  }
 ],
 "metadata": {
  "kernelspec": {
   "display_name": "Python 3 (ipykernel)",
   "language": "python",
   "name": "python3"
  },
  "language_info": {
   "codemirror_mode": {
    "name": "ipython",
    "version": 3
   },
   "file_extension": ".py",
   "mimetype": "text/x-python",
   "name": "python",
   "nbconvert_exporter": "python",
   "pygments_lexer": "ipython3",
   "version": "3.11.0"
  }
 },
 "nbformat": 4,
 "nbformat_minor": 5
}
