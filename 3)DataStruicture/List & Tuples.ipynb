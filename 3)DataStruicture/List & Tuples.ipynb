{
 "cells": [
  {
   "cell_type": "markdown",
   "id": "9423a26c",
   "metadata": {},
   "source": [
    "List : [],heterogenous, random access, changeable(mutable),indexing,duplicate allow. "
   ]
  },
  {
   "cell_type": "code",
   "execution_count": 1,
   "id": "b67ba17b",
   "metadata": {},
   "outputs": [],
   "source": [
    "lt = [2,3,4,5,\"Kirti\",\"Tanisha\",(2+3j),1.2,1.4,1.1,1.6,5,4]"
   ]
  },
  {
   "cell_type": "code",
   "execution_count": 6,
   "id": "5cc7f951",
   "metadata": {},
   "outputs": [
    {
     "name": "stdout",
     "output_type": "stream",
     "text": [
      "[2, 3, 4, 5, 'Kirti', 'Tanisha', (2+3j), 1.2, 1.4, 1.1, 1.6, 5, 4]\n"
     ]
    }
   ],
   "source": [
    "print(lt)"
   ]
  },
  {
   "cell_type": "code",
   "execution_count": 7,
   "id": "70f00707",
   "metadata": {},
   "outputs": [
    {
     "name": "stdout",
     "output_type": "stream",
     "text": [
      "<class 'list'>\n"
     ]
    }
   ],
   "source": [
    "print(type(lt))"
   ]
  },
  {
   "cell_type": "code",
   "execution_count": 8,
   "id": "fc756aa0",
   "metadata": {},
   "outputs": [
    {
     "name": "stdout",
     "output_type": "stream",
     "text": [
      "13\n"
     ]
    }
   ],
   "source": [
    "print(len(lt))"
   ]
  },
  {
   "cell_type": "markdown",
   "id": "49a156d8",
   "metadata": {},
   "source": [
    "# Positive Indexing"
   ]
  },
  {
   "cell_type": "markdown",
   "id": "0e01f050",
   "metadata": {},
   "source": [
    "0 - (len(lt)-1)"
   ]
  },
  {
   "cell_type": "markdown",
   "id": "fd19781a",
   "metadata": {},
   "source": [
    "Left to right"
   ]
  },
  {
   "cell_type": "code",
   "execution_count": 9,
   "id": "be19c06f",
   "metadata": {},
   "outputs": [
    {
     "data": {
      "text/plain": [
       "2"
      ]
     },
     "execution_count": 9,
     "metadata": {},
     "output_type": "execute_result"
    }
   ],
   "source": [
    "lt[0]"
   ]
  },
  {
   "cell_type": "code",
   "execution_count": 10,
   "id": "34882d8f",
   "metadata": {},
   "outputs": [
    {
     "data": {
      "text/plain": [
       "4"
      ]
     },
     "execution_count": 10,
     "metadata": {},
     "output_type": "execute_result"
    }
   ],
   "source": [
    "lt[12]"
   ]
  },
  {
   "cell_type": "code",
   "execution_count": 11,
   "id": "f44ea2af",
   "metadata": {},
   "outputs": [
    {
     "data": {
      "text/plain": [
       "4"
      ]
     },
     "execution_count": 11,
     "metadata": {},
     "output_type": "execute_result"
    }
   ],
   "source": [
    "lt[len(lt)-1]"
   ]
  },
  {
   "cell_type": "code",
   "execution_count": 12,
   "id": "8773394f",
   "metadata": {},
   "outputs": [
    {
     "name": "stdout",
     "output_type": "stream",
     "text": [
      "[2, 3, 4, 5, 'Kirti', 'Tanisha', (2+3j), 1.2, 1.4, 1.1, 1.6, 5, 4]\n"
     ]
    }
   ],
   "source": [
    "print(lt)"
   ]
  },
  {
   "cell_type": "code",
   "execution_count": 13,
   "id": "65481ca7",
   "metadata": {},
   "outputs": [
    {
     "ename": "IndexError",
     "evalue": "list index out of range",
     "output_type": "error",
     "traceback": [
      "\u001b[1;31m---------------------------------------------------------------------------\u001b[0m",
      "\u001b[1;31mIndexError\u001b[0m                                Traceback (most recent call last)",
      "Cell \u001b[1;32mIn[13], line 1\u001b[0m\n\u001b[1;32m----> 1\u001b[0m \u001b[43mlt\u001b[49m\u001b[43m[\u001b[49m\u001b[38;5;241;43m13\u001b[39;49m\u001b[43m]\u001b[49m\n",
      "\u001b[1;31mIndexError\u001b[0m: list index out of range"
     ]
    }
   ],
   "source": [
    "lt[13]"
   ]
  },
  {
   "cell_type": "code",
   "execution_count": 19,
   "id": "3251e254",
   "metadata": {},
   "outputs": [
    {
     "data": {
      "text/plain": [
       "'Tanisha'"
      ]
     },
     "execution_count": 19,
     "metadata": {},
     "output_type": "execute_result"
    }
   ],
   "source": [
    "lt[5]"
   ]
  },
  {
   "cell_type": "markdown",
   "id": "867fb933",
   "metadata": {},
   "source": [
    "# Negative Indexing"
   ]
  },
  {
   "cell_type": "markdown",
   "id": "cbc2fc89",
   "metadata": {},
   "source": [
    "-1 to (-len(lt))"
   ]
  },
  {
   "cell_type": "markdown",
   "id": "aa434f6c",
   "metadata": {},
   "source": [
    "Right to left"
   ]
  },
  {
   "cell_type": "code",
   "execution_count": 14,
   "id": "3b43791f",
   "metadata": {},
   "outputs": [
    {
     "name": "stdout",
     "output_type": "stream",
     "text": [
      "[2, 3, 4, 5, 'Kirti', 'Tanisha', (2+3j), 1.2, 1.4, 1.1, 1.6, 5, 4]\n"
     ]
    }
   ],
   "source": [
    "print(lt)"
   ]
  },
  {
   "cell_type": "code",
   "execution_count": 15,
   "id": "115a7bb4",
   "metadata": {},
   "outputs": [
    {
     "data": {
      "text/plain": [
       "4"
      ]
     },
     "execution_count": 15,
     "metadata": {},
     "output_type": "execute_result"
    }
   ],
   "source": [
    "lt[-1]"
   ]
  },
  {
   "cell_type": "code",
   "execution_count": 16,
   "id": "395fb264",
   "metadata": {},
   "outputs": [
    {
     "data": {
      "text/plain": [
       "2"
      ]
     },
     "execution_count": 16,
     "metadata": {},
     "output_type": "execute_result"
    }
   ],
   "source": [
    "lt[-13]"
   ]
  },
  {
   "cell_type": "code",
   "execution_count": 17,
   "id": "e0c7194c",
   "metadata": {},
   "outputs": [
    {
     "data": {
      "text/plain": [
       "2"
      ]
     },
     "execution_count": 17,
     "metadata": {},
     "output_type": "execute_result"
    }
   ],
   "source": [
    "lt[-len(lt)]"
   ]
  },
  {
   "cell_type": "code",
   "execution_count": 18,
   "id": "30bbe84a",
   "metadata": {},
   "outputs": [
    {
     "ename": "IndexError",
     "evalue": "list index out of range",
     "output_type": "error",
     "traceback": [
      "\u001b[1;31m---------------------------------------------------------------------------\u001b[0m",
      "\u001b[1;31mIndexError\u001b[0m                                Traceback (most recent call last)",
      "Cell \u001b[1;32mIn[18], line 1\u001b[0m\n\u001b[1;32m----> 1\u001b[0m \u001b[43mlt\u001b[49m\u001b[43m[\u001b[49m\u001b[38;5;241;43m-\u001b[39;49m\u001b[38;5;241;43m14\u001b[39;49m\u001b[43m]\u001b[49m\n",
      "\u001b[1;31mIndexError\u001b[0m: list index out of range"
     ]
    }
   ],
   "source": [
    "lt[-14]"
   ]
  },
  {
   "cell_type": "code",
   "execution_count": 20,
   "id": "b17d003b",
   "metadata": {},
   "outputs": [
    {
     "data": {
      "text/plain": [
       "1.2"
      ]
     },
     "execution_count": 20,
     "metadata": {},
     "output_type": "execute_result"
    }
   ],
   "source": [
    "lt[-6]"
   ]
  },
  {
   "cell_type": "code",
   "execution_count": 21,
   "id": "7f7fbe4f",
   "metadata": {},
   "outputs": [
    {
     "data": {
      "text/plain": [
       "[2, 3, 4, 5, 'Kirti', 'Tanisha', (2+3j), 1.2, 1.4, 1.1, 1.6, 5, 4]"
      ]
     },
     "execution_count": 21,
     "metadata": {},
     "output_type": "execute_result"
    }
   ],
   "source": [
    "lt"
   ]
  },
  {
   "cell_type": "code",
   "execution_count": 22,
   "id": "bb3feb9b",
   "metadata": {},
   "outputs": [
    {
     "data": {
      "text/plain": [
       "'Kirti'"
      ]
     },
     "execution_count": 22,
     "metadata": {},
     "output_type": "execute_result"
    }
   ],
   "source": [
    "lt[4]"
   ]
  },
  {
   "cell_type": "code",
   "execution_count": 23,
   "id": "469ffe80",
   "metadata": {},
   "outputs": [],
   "source": [
    "lt[4]=\"Rahul\""
   ]
  },
  {
   "cell_type": "code",
   "execution_count": 24,
   "id": "0757a893",
   "metadata": {},
   "outputs": [
    {
     "data": {
      "text/plain": [
       "[2, 3, 4, 5, 'Rahul', 'Tanisha', (2+3j), 1.2, 1.4, 1.1, 1.6, 5, 4]"
      ]
     },
     "execution_count": 24,
     "metadata": {},
     "output_type": "execute_result"
    }
   ],
   "source": [
    "lt"
   ]
  },
  {
   "cell_type": "code",
   "execution_count": 26,
   "id": "c6ad25e6",
   "metadata": {},
   "outputs": [
    {
     "name": "stdout",
     "output_type": "stream",
     "text": [
      "2 3 4 5 Rahul Tanisha (2+3j) 1.2 1.4 1.1 1.6 5 4 "
     ]
    }
   ],
   "source": [
    "for i in range(len(lt)):\n",
    "    #print(i,end=\" \")\n",
    "    print(lt[i],end=\" \")"
   ]
  },
  {
   "cell_type": "code",
   "execution_count": 29,
   "id": "05c0e9a6",
   "metadata": {},
   "outputs": [
    {
     "name": "stdout",
     "output_type": "stream",
     "text": [
      "2 3 4 5 Rahul Tanisha (2+3j) 1.2 1.4 1.1 1.6 5 4 "
     ]
    }
   ],
   "source": [
    "for i in lt:\n",
    "    print(i,end=\" \")"
   ]
  },
  {
   "cell_type": "code",
   "execution_count": 30,
   "id": "3f6bbd00",
   "metadata": {},
   "outputs": [
    {
     "name": "stdout",
     "output_type": "stream",
     "text": [
      "<class 'int'> <class 'int'> <class 'int'> <class 'int'> <class 'str'> <class 'str'> <class 'complex'> <class 'float'> <class 'float'> <class 'float'> <class 'float'> <class 'int'> <class 'int'> "
     ]
    }
   ],
   "source": [
    "for i in lt:\n",
    "    print(type(i),end=\" \")"
   ]
  },
  {
   "cell_type": "code",
   "execution_count": 31,
   "id": "f557d682",
   "metadata": {},
   "outputs": [
    {
     "name": "stdout",
     "output_type": "stream",
     "text": [
      "<class 'int'> <class 'int'> <class 'int'> <class 'int'> <class 'str'> <class 'str'> <class 'complex'> <class 'float'> <class 'float'> <class 'float'> <class 'float'> <class 'int'> <class 'int'> "
     ]
    }
   ],
   "source": [
    "for i in range(len(lt)):\n",
    "    #print(i,end=\" \")\n",
    "    print(type(lt[i]),end=\" \")"
   ]
  },
  {
   "cell_type": "code",
   "execution_count": 32,
   "id": "47d4fc76",
   "metadata": {},
   "outputs": [],
   "source": [
    "x = [2,3,4,5,6,8]"
   ]
  },
  {
   "cell_type": "code",
   "execution_count": 33,
   "id": "e786b22a",
   "metadata": {},
   "outputs": [
    {
     "name": "stdout",
     "output_type": "stream",
     "text": [
      "Sum of list element is  :  28\n"
     ]
    }
   ],
   "source": [
    "#sum of list element\n",
    "res = 0\n",
    "for i in x:\n",
    "    res += i\n",
    "\n",
    "print(\"Sum of list element is  : \",res)"
   ]
  },
  {
   "cell_type": "code",
   "execution_count": 34,
   "id": "d8b6ff95",
   "metadata": {},
   "outputs": [
    {
     "data": {
      "text/plain": [
       "28"
      ]
     },
     "execution_count": 34,
     "metadata": {},
     "output_type": "execute_result"
    }
   ],
   "source": [
    "sum(x)"
   ]
  },
  {
   "cell_type": "code",
   "execution_count": 35,
   "id": "2786741d",
   "metadata": {},
   "outputs": [
    {
     "data": {
      "text/plain": [
       "[2, 3, 4, 5, 6, 8]"
      ]
     },
     "execution_count": 35,
     "metadata": {},
     "output_type": "execute_result"
    }
   ],
   "source": [
    "x"
   ]
  },
  {
   "cell_type": "code",
   "execution_count": 36,
   "id": "508e5e19",
   "metadata": {},
   "outputs": [
    {
     "name": "stdout",
     "output_type": "stream",
     "text": [
      "2 4 6 8 "
     ]
    }
   ],
   "source": [
    "#find out the even element\n",
    "for i in x:\n",
    "    if i%2==0:\n",
    "        print(i,end=\" \")"
   ]
  },
  {
   "cell_type": "code",
   "execution_count": 37,
   "id": "0fc6bf19",
   "metadata": {},
   "outputs": [
    {
     "name": "stdout",
     "output_type": "stream",
     "text": [
      "Sum of Odd Number is  :  8\n"
     ]
    }
   ],
   "source": [
    "# sum of odd element\n",
    "res = 0\n",
    "for i in x:\n",
    "    if i%2!=0:\n",
    "        res += i\n",
    "print(\"Sum of Odd Number is  : \",res)"
   ]
  },
  {
   "cell_type": "code",
   "execution_count": 38,
   "id": "507dc3fc",
   "metadata": {},
   "outputs": [
    {
     "data": {
      "text/plain": [
       "'A'"
      ]
     },
     "execution_count": 38,
     "metadata": {},
     "output_type": "execute_result"
    }
   ],
   "source": [
    "chr(65)"
   ]
  },
  {
   "cell_type": "code",
   "execution_count": 39,
   "id": "0f848c83",
   "metadata": {},
   "outputs": [
    {
     "data": {
      "text/plain": [
       "65"
      ]
     },
     "execution_count": 39,
     "metadata": {},
     "output_type": "execute_result"
    }
   ],
   "source": [
    "ord(\"A\")"
   ]
  },
  {
   "cell_type": "markdown",
   "id": "5e60e696",
   "metadata": {},
   "source": [
    "# List Function"
   ]
  },
  {
   "cell_type": "code",
   "execution_count": 6,
   "id": "4152ada0",
   "metadata": {},
   "outputs": [
    {
     "data": {
      "text/plain": [
       "[2, 3, 4, 5, 'Kirti', 'Tanisha', (2+3j), 1.2, 1.4, 1.1, 1.6, 5, 4, 23, 'HI']"
      ]
     },
     "execution_count": 6,
     "metadata": {},
     "output_type": "execute_result"
    }
   ],
   "source": [
    "lt"
   ]
  },
  {
   "cell_type": "code",
   "execution_count": 5,
   "id": "7c9031c9",
   "metadata": {},
   "outputs": [],
   "source": [
    "lt.append(\"HI\")"
   ]
  },
  {
   "cell_type": "code",
   "execution_count": 13,
   "id": "95e5a4b5",
   "metadata": {},
   "outputs": [
    {
     "data": {
      "text/plain": [
       "16"
      ]
     },
     "execution_count": 13,
     "metadata": {},
     "output_type": "execute_result"
    }
   ],
   "source": [
    "len(lt)"
   ]
  },
  {
   "cell_type": "code",
   "execution_count": 9,
   "id": "be3baa4c",
   "metadata": {},
   "outputs": [
    {
     "data": {
      "text/plain": [
       "4"
      ]
     },
     "execution_count": 9,
     "metadata": {},
     "output_type": "execute_result"
    }
   ],
   "source": [
    "lt.index(\"Kirti\")"
   ]
  },
  {
   "cell_type": "code",
   "execution_count": 10,
   "id": "a5384438",
   "metadata": {},
   "outputs": [],
   "source": [
    "lt.insert(4,56)"
   ]
  },
  {
   "cell_type": "code",
   "execution_count": 18,
   "id": "2230cf56",
   "metadata": {},
   "outputs": [
    {
     "name": "stdout",
     "output_type": "stream",
     "text": [
      "[2, 3, 4, 5, 56, 'Kirti', 'Tanisha', (2+3j), 1.2, 1.4, 1.1, 1.6, 5, 4, 23, 'HI', [31, 44, 23, 65], 31, 44, 23, 65]\n"
     ]
    }
   ],
   "source": [
    "print(lt)"
   ]
  },
  {
   "cell_type": "code",
   "execution_count": 14,
   "id": "deba49a6",
   "metadata": {},
   "outputs": [],
   "source": [
    "x = [31,44,23,65]"
   ]
  },
  {
   "cell_type": "code",
   "execution_count": 15,
   "id": "f2fbb82f",
   "metadata": {},
   "outputs": [],
   "source": [
    "lt.append(x)"
   ]
  },
  {
   "cell_type": "code",
   "execution_count": 17,
   "id": "9ce0aec3",
   "metadata": {},
   "outputs": [],
   "source": [
    "lt.extend(x)"
   ]
  },
  {
   "cell_type": "code",
   "execution_count": 20,
   "id": "88b5c0f0",
   "metadata": {},
   "outputs": [
    {
     "data": {
      "text/plain": [
       "21"
      ]
     },
     "execution_count": 20,
     "metadata": {},
     "output_type": "execute_result"
    }
   ],
   "source": [
    "len(lt)"
   ]
  },
  {
   "cell_type": "code",
   "execution_count": 21,
   "id": "813ea845",
   "metadata": {},
   "outputs": [
    {
     "data": {
      "text/plain": [
       "16"
      ]
     },
     "execution_count": 21,
     "metadata": {},
     "output_type": "execute_result"
    }
   ],
   "source": [
    "lt.index([31, 44, 23, 65])"
   ]
  },
  {
   "cell_type": "code",
   "execution_count": 23,
   "id": "7b3740d0",
   "metadata": {},
   "outputs": [
    {
     "data": {
      "text/plain": [
       "44"
      ]
     },
     "execution_count": 23,
     "metadata": {},
     "output_type": "execute_result"
    }
   ],
   "source": [
    "lt[16][1]"
   ]
  },
  {
   "cell_type": "code",
   "execution_count": 24,
   "id": "8948038f",
   "metadata": {},
   "outputs": [
    {
     "data": {
      "text/plain": [
       "2"
      ]
     },
     "execution_count": 24,
     "metadata": {},
     "output_type": "execute_result"
    }
   ],
   "source": [
    "lt.count(23)"
   ]
  },
  {
   "cell_type": "code",
   "execution_count": 41,
   "id": "44e2e93f",
   "metadata": {},
   "outputs": [
    {
     "name": "stdout",
     "output_type": "stream",
     "text": [
      "[2, 3, 4, 5, 56, 1.2, 1.4, 1.1, 1.6, 5, 4, 23, 31, 44]\n"
     ]
    }
   ],
   "source": [
    "print(lt)"
   ]
  },
  {
   "cell_type": "code",
   "execution_count": 29,
   "id": "61a8e463",
   "metadata": {},
   "outputs": [
    {
     "data": {
      "text/plain": [
       "23"
      ]
     },
     "execution_count": 29,
     "metadata": {},
     "output_type": "execute_result"
    }
   ],
   "source": [
    "lt.pop()"
   ]
  },
  {
   "cell_type": "code",
   "execution_count": 31,
   "id": "c9bc82ec",
   "metadata": {},
   "outputs": [
    {
     "data": {
      "text/plain": [
       "'Kirti'"
      ]
     },
     "execution_count": 31,
     "metadata": {},
     "output_type": "execute_result"
    }
   ],
   "source": [
    "lt.pop(5)"
   ]
  },
  {
   "cell_type": "code",
   "execution_count": 40,
   "id": "6ad1aa49",
   "metadata": {},
   "outputs": [
    {
     "data": {
      "text/plain": [
       "[31, 44, 23, 65]"
      ]
     },
     "execution_count": 40,
     "metadata": {},
     "output_type": "execute_result"
    }
   ],
   "source": [
    "lt.pop(lt.index([31, 44, 23, 65]))"
   ]
  },
  {
   "cell_type": "code",
   "execution_count": 38,
   "id": "083ca13a",
   "metadata": {},
   "outputs": [],
   "source": [
    "lt.remove(\"HI\")"
   ]
  },
  {
   "cell_type": "code",
   "execution_count": 42,
   "id": "d390b8cd",
   "metadata": {},
   "outputs": [],
   "source": [
    "lt.sort()"
   ]
  },
  {
   "cell_type": "code",
   "execution_count": 43,
   "id": "1b6e2cb7",
   "metadata": {},
   "outputs": [
    {
     "name": "stdout",
     "output_type": "stream",
     "text": [
      "[1.1, 1.2, 1.4, 1.6, 2, 3, 4, 4, 5, 5, 23, 31, 44, 56]\n"
     ]
    }
   ],
   "source": [
    "print(lt)"
   ]
  },
  {
   "cell_type": "code",
   "execution_count": 44,
   "id": "f99f0181",
   "metadata": {},
   "outputs": [],
   "source": [
    "lt.reverse()"
   ]
  },
  {
   "cell_type": "code",
   "execution_count": 45,
   "id": "fec21505",
   "metadata": {},
   "outputs": [
    {
     "name": "stdout",
     "output_type": "stream",
     "text": [
      "[56, 44, 31, 23, 5, 5, 4, 4, 3, 2, 1.6, 1.4, 1.2, 1.1]\n"
     ]
    }
   ],
   "source": [
    "print(lt)"
   ]
  },
  {
   "cell_type": "code",
   "execution_count": 46,
   "id": "f232f10f",
   "metadata": {},
   "outputs": [],
   "source": [
    "x = [2, 3, 4, 5, 56, 1.2, 1.4, 1.1, 1.6, 5, 4, 23, 31, 44]"
   ]
  },
  {
   "cell_type": "code",
   "execution_count": 47,
   "id": "8b2b5cd2",
   "metadata": {},
   "outputs": [
    {
     "data": {
      "text/plain": [
       "[2, 3, 4, 5, 56, 1.2, 1.4, 1.1, 1.6, 5, 4, 23, 31, 44]"
      ]
     },
     "execution_count": 47,
     "metadata": {},
     "output_type": "execute_result"
    }
   ],
   "source": [
    "x"
   ]
  },
  {
   "cell_type": "code",
   "execution_count": 48,
   "id": "02fdab63",
   "metadata": {},
   "outputs": [],
   "source": [
    "x.sort(reverse=True)"
   ]
  },
  {
   "cell_type": "code",
   "execution_count": 49,
   "id": "6db560ea",
   "metadata": {},
   "outputs": [
    {
     "data": {
      "text/plain": [
       "[56, 44, 31, 23, 5, 5, 4, 4, 3, 2, 1.6, 1.4, 1.2, 1.1]"
      ]
     },
     "execution_count": 49,
     "metadata": {},
     "output_type": "execute_result"
    }
   ],
   "source": [
    "x"
   ]
  },
  {
   "cell_type": "code",
   "execution_count": 50,
   "id": "8b1efa3c",
   "metadata": {},
   "outputs": [],
   "source": [
    "y = x.copy()"
   ]
  },
  {
   "cell_type": "code",
   "execution_count": 51,
   "id": "9eff632f",
   "metadata": {},
   "outputs": [
    {
     "data": {
      "text/plain": [
       "[56, 44, 31, 23, 5, 5, 4, 4, 3, 2, 1.6, 1.4, 1.2, 1.1]"
      ]
     },
     "execution_count": 51,
     "metadata": {},
     "output_type": "execute_result"
    }
   ],
   "source": [
    "y"
   ]
  },
  {
   "cell_type": "code",
   "execution_count": 52,
   "id": "47fe63cf",
   "metadata": {},
   "outputs": [],
   "source": [
    "y.clear()"
   ]
  },
  {
   "cell_type": "code",
   "execution_count": 53,
   "id": "f2fc08f8",
   "metadata": {},
   "outputs": [
    {
     "data": {
      "text/plain": [
       "[]"
      ]
     },
     "execution_count": 53,
     "metadata": {},
     "output_type": "execute_result"
    }
   ],
   "source": [
    "y"
   ]
  },
  {
   "cell_type": "code",
   "execution_count": 54,
   "id": "2c5bdd42",
   "metadata": {},
   "outputs": [],
   "source": [
    "del y"
   ]
  },
  {
   "cell_type": "code",
   "execution_count": 55,
   "id": "40856d5c",
   "metadata": {},
   "outputs": [
    {
     "ename": "NameError",
     "evalue": "name 'y' is not defined",
     "output_type": "error",
     "traceback": [
      "\u001b[1;31m---------------------------------------------------------------------------\u001b[0m",
      "\u001b[1;31mNameError\u001b[0m                                 Traceback (most recent call last)",
      "Cell \u001b[1;32mIn[55], line 1\u001b[0m\n\u001b[1;32m----> 1\u001b[0m \u001b[43my\u001b[49m\n",
      "\u001b[1;31mNameError\u001b[0m: name 'y' is not defined"
     ]
    }
   ],
   "source": [
    "y"
   ]
  },
  {
   "cell_type": "markdown",
   "id": "a6a02d8a",
   "metadata": {},
   "source": [
    "# List Slicing"
   ]
  },
  {
   "cell_type": "code",
   "execution_count": 58,
   "id": "c3763c8f",
   "metadata": {},
   "outputs": [
    {
     "data": {
      "text/plain": [
       "[56, 44, 31, 23, 5, 5, 4, 4, 3, 2, 1.6, 1.4, 1.2, 1.1]"
      ]
     },
     "execution_count": 58,
     "metadata": {},
     "output_type": "execute_result"
    }
   ],
   "source": [
    "x"
   ]
  },
  {
   "cell_type": "code",
   "execution_count": 59,
   "id": "f3f1f1d5",
   "metadata": {},
   "outputs": [
    {
     "data": {
      "text/plain": [
       "14"
      ]
     },
     "execution_count": 59,
     "metadata": {},
     "output_type": "execute_result"
    }
   ],
   "source": [
    "len(x)"
   ]
  },
  {
   "cell_type": "markdown",
   "id": "3b9acd44",
   "metadata": {},
   "source": [
    "var [start:stop-1:step]"
   ]
  },
  {
   "cell_type": "code",
   "execution_count": 60,
   "id": "3f60328f",
   "metadata": {},
   "outputs": [
    {
     "data": {
      "text/plain": [
       "[31, 23, 5]"
      ]
     },
     "execution_count": 60,
     "metadata": {},
     "output_type": "execute_result"
    }
   ],
   "source": [
    "x[2:5:1]"
   ]
  },
  {
   "cell_type": "code",
   "execution_count": 61,
   "id": "0c969434",
   "metadata": {},
   "outputs": [
    {
     "data": {
      "text/plain": [
       "[31, 23, 5, 5, 4]"
      ]
     },
     "execution_count": 61,
     "metadata": {},
     "output_type": "execute_result"
    }
   ],
   "source": [
    "x[2:7:1]"
   ]
  },
  {
   "cell_type": "code",
   "execution_count": 62,
   "id": "49178f88",
   "metadata": {},
   "outputs": [
    {
     "data": {
      "text/plain": [
       "[44, 31, 23]"
      ]
     },
     "execution_count": 62,
     "metadata": {},
     "output_type": "execute_result"
    }
   ],
   "source": [
    "x[1:4:1]"
   ]
  },
  {
   "cell_type": "code",
   "execution_count": 63,
   "id": "5ae07c0a",
   "metadata": {},
   "outputs": [
    {
     "data": {
      "text/plain": [
       "[44, 23, 5, 4]"
      ]
     },
     "execution_count": 63,
     "metadata": {},
     "output_type": "execute_result"
    }
   ],
   "source": [
    "x[1:8:2]"
   ]
  },
  {
   "cell_type": "code",
   "execution_count": 64,
   "id": "62ce44b7",
   "metadata": {},
   "outputs": [
    {
     "data": {
      "text/plain": [
       "[44, 31, 23]"
      ]
     },
     "execution_count": 64,
     "metadata": {},
     "output_type": "execute_result"
    }
   ],
   "source": [
    "x[1:4]"
   ]
  },
  {
   "cell_type": "code",
   "execution_count": 65,
   "id": "a777d65d",
   "metadata": {},
   "outputs": [
    {
     "data": {
      "text/plain": [
       "[56, 44, 31, 23, 5]"
      ]
     },
     "execution_count": 65,
     "metadata": {},
     "output_type": "execute_result"
    }
   ],
   "source": [
    "x[:5]"
   ]
  },
  {
   "cell_type": "code",
   "execution_count": 66,
   "id": "f8bd76bc",
   "metadata": {},
   "outputs": [
    {
     "data": {
      "text/plain": [
       "[23, 5, 5, 4, 4, 3, 2, 1.6, 1.4, 1.2, 1.1]"
      ]
     },
     "execution_count": 66,
     "metadata": {},
     "output_type": "execute_result"
    }
   ],
   "source": [
    "x[3:]"
   ]
  },
  {
   "cell_type": "code",
   "execution_count": 67,
   "id": "8587672a",
   "metadata": {},
   "outputs": [
    {
     "data": {
      "text/plain": [
       "[56, 44, 31, 23, 5, 5, 4, 4, 3, 2, 1.6, 1.4, 1.2, 1.1]"
      ]
     },
     "execution_count": 67,
     "metadata": {},
     "output_type": "execute_result"
    }
   ],
   "source": [
    "x[::]"
   ]
  },
  {
   "cell_type": "code",
   "execution_count": 68,
   "id": "937e69b3",
   "metadata": {},
   "outputs": [
    {
     "data": {
      "text/plain": [
       "[56, 31, 5, 4, 3, 1.6, 1.2]"
      ]
     },
     "execution_count": 68,
     "metadata": {},
     "output_type": "execute_result"
    }
   ],
   "source": [
    "x[::2]"
   ]
  },
  {
   "cell_type": "code",
   "execution_count": 69,
   "id": "9d31b72b",
   "metadata": {},
   "outputs": [
    {
     "data": {
      "text/plain": [
       "[]"
      ]
     },
     "execution_count": 69,
     "metadata": {},
     "output_type": "execute_result"
    }
   ],
   "source": [
    "x[45:63:3]"
   ]
  },
  {
   "cell_type": "markdown",
   "id": "c5d7f7f9",
   "metadata": {},
   "source": [
    "# Negative Slicing"
   ]
  },
  {
   "cell_type": "code",
   "execution_count": 70,
   "id": "2a9ae50a",
   "metadata": {},
   "outputs": [
    {
     "data": {
      "text/plain": [
       "[56, 44, 31, 23, 5, 5, 4, 4, 3, 2, 1.6, 1.4, 1.2, 1.1]"
      ]
     },
     "execution_count": 70,
     "metadata": {},
     "output_type": "execute_result"
    }
   ],
   "source": [
    "x"
   ]
  },
  {
   "cell_type": "code",
   "execution_count": 71,
   "id": "23015f7c",
   "metadata": {},
   "outputs": [
    {
     "data": {
      "text/plain": [
       "[1.1, 1.2, 1.4, 1.6]"
      ]
     },
     "execution_count": 71,
     "metadata": {},
     "output_type": "execute_result"
    }
   ],
   "source": [
    "x[-1:-5:-1]"
   ]
  },
  {
   "cell_type": "code",
   "execution_count": 72,
   "id": "c85cfc45",
   "metadata": {},
   "outputs": [
    {
     "data": {
      "text/plain": [
       "[1.2, 1.6]"
      ]
     },
     "execution_count": 72,
     "metadata": {},
     "output_type": "execute_result"
    }
   ],
   "source": [
    "x[-2:-6:-2]"
   ]
  },
  {
   "cell_type": "code",
   "execution_count": 75,
   "id": "b16e8882",
   "metadata": {},
   "outputs": [
    {
     "data": {
      "text/plain": [
       "[1.1, 1.2, 1.4, 1.6, 2, 3, 4, 4, 5, 5, 23, 31, 44, 56]"
      ]
     },
     "execution_count": 75,
     "metadata": {},
     "output_type": "execute_result"
    }
   ],
   "source": [
    "x[-1:-15:-1]"
   ]
  },
  {
   "cell_type": "code",
   "execution_count": 74,
   "id": "f1c19a55",
   "metadata": {},
   "outputs": [
    {
     "data": {
      "text/plain": [
       "[1.1, 1.2, 1.4, 1.6, 2, 3, 4, 4, 5, 5, 23, 31, 44, 56]"
      ]
     },
     "execution_count": 74,
     "metadata": {},
     "output_type": "execute_result"
    }
   ],
   "source": [
    "x[::-1]"
   ]
  },
  {
   "cell_type": "markdown",
   "id": "7307a7ac",
   "metadata": {},
   "source": [
    "# Tuple"
   ]
  },
  {
   "cell_type": "markdown",
   "id": "e318268e",
   "metadata": {},
   "source": [
    "Tuple : (),heterogenous, random access, immutable,indexing,duplicate allow."
   ]
  },
  {
   "cell_type": "code",
   "execution_count": 76,
   "id": "5d564e18",
   "metadata": {},
   "outputs": [],
   "source": [
    "tup = (56, 44, 31, 23, 5, 5, 4, 4, 3, 2, 1.6, 1.4, 1.2, 1.1)"
   ]
  },
  {
   "cell_type": "code",
   "execution_count": 77,
   "id": "4fe3a0a6",
   "metadata": {},
   "outputs": [
    {
     "data": {
      "text/plain": [
       "(56, 44, 31, 23, 5, 5, 4, 4, 3, 2, 1.6, 1.4, 1.2, 1.1)"
      ]
     },
     "execution_count": 77,
     "metadata": {},
     "output_type": "execute_result"
    }
   ],
   "source": [
    "tup"
   ]
  },
  {
   "cell_type": "code",
   "execution_count": 78,
   "id": "bfcafbf5",
   "metadata": {},
   "outputs": [
    {
     "data": {
      "text/plain": [
       "31"
      ]
     },
     "execution_count": 78,
     "metadata": {},
     "output_type": "execute_result"
    }
   ],
   "source": [
    "tup[2]"
   ]
  },
  {
   "cell_type": "code",
   "execution_count": 79,
   "id": "526bad2f",
   "metadata": {},
   "outputs": [
    {
     "name": "stdout",
     "output_type": "stream",
     "text": [
      "56 44 31 23 5 5 4 4 3 2 1.6 1.4 1.2 1.1 "
     ]
    }
   ],
   "source": [
    "for i in range(len(tup)):\n",
    "    print(tup[i],end=\" \")"
   ]
  },
  {
   "cell_type": "code",
   "execution_count": 80,
   "id": "abc100d0",
   "metadata": {},
   "outputs": [
    {
     "name": "stdout",
     "output_type": "stream",
     "text": [
      "56 44 31 23 5 5 4 4 3 2 1.6 1.4 1.2 1.1 "
     ]
    }
   ],
   "source": [
    "for i in tup:\n",
    "    print(i,end=\" \")"
   ]
  },
  {
   "cell_type": "code",
   "execution_count": 81,
   "id": "3827f535",
   "metadata": {},
   "outputs": [
    {
     "data": {
      "text/plain": [
       "14"
      ]
     },
     "execution_count": 81,
     "metadata": {},
     "output_type": "execute_result"
    }
   ],
   "source": [
    "len(tup)"
   ]
  },
  {
   "cell_type": "code",
   "execution_count": 82,
   "id": "34889d90",
   "metadata": {},
   "outputs": [
    {
     "ename": "TypeError",
     "evalue": "'tuple' object does not support item assignment",
     "output_type": "error",
     "traceback": [
      "\u001b[1;31m---------------------------------------------------------------------------\u001b[0m",
      "\u001b[1;31mTypeError\u001b[0m                                 Traceback (most recent call last)",
      "Cell \u001b[1;32mIn[82], line 1\u001b[0m\n\u001b[1;32m----> 1\u001b[0m \u001b[43mtup\u001b[49m\u001b[43m[\u001b[49m\u001b[38;5;241;43m2\u001b[39;49m\u001b[43m]\u001b[49m\u001b[38;5;241m=\u001b[39m\u001b[38;5;241m56\u001b[39m\n",
      "\u001b[1;31mTypeError\u001b[0m: 'tuple' object does not support item assignment"
     ]
    }
   ],
   "source": [
    "tup[2]=56"
   ]
  },
  {
   "cell_type": "markdown",
   "id": "ef244bde",
   "metadata": {},
   "source": [
    "# Tuple Function "
   ]
  },
  {
   "cell_type": "code",
   "execution_count": 84,
   "id": "c67e604d",
   "metadata": {},
   "outputs": [
    {
     "data": {
      "text/plain": [
       "(56, 44, 31, 23, 5, 5, 4, 4, 3, 2, 1.6, 1.4, 1.2, 1.1)"
      ]
     },
     "execution_count": 84,
     "metadata": {},
     "output_type": "execute_result"
    }
   ],
   "source": [
    "tup"
   ]
  },
  {
   "cell_type": "code",
   "execution_count": 85,
   "id": "d0276009",
   "metadata": {},
   "outputs": [
    {
     "data": {
      "text/plain": [
       "2"
      ]
     },
     "execution_count": 85,
     "metadata": {},
     "output_type": "execute_result"
    }
   ],
   "source": [
    "tup.index(31)"
   ]
  },
  {
   "cell_type": "code",
   "execution_count": 86,
   "id": "305a05a4",
   "metadata": {},
   "outputs": [
    {
     "data": {
      "text/plain": [
       "2"
      ]
     },
     "execution_count": 86,
     "metadata": {},
     "output_type": "execute_result"
    }
   ],
   "source": [
    "tup.count(4)"
   ]
  },
  {
   "cell_type": "markdown",
   "id": "18c8db9c",
   "metadata": {},
   "source": [
    "# Tuple Unpacking"
   ]
  },
  {
   "cell_type": "code",
   "execution_count": 89,
   "id": "fdc4d760",
   "metadata": {},
   "outputs": [
    {
     "name": "stdout",
     "output_type": "stream",
     "text": [
      "apple\n",
      "Kiwi\n",
      "Berry\n"
     ]
    }
   ],
   "source": [
    "tup = (\"apple\",\"Kiwi\",\"Berry\")\n",
    "a,b,c = tup\n",
    "print(a)\n",
    "print(b)\n",
    "print(c)"
   ]
  },
  {
   "cell_type": "code",
   "execution_count": 94,
   "id": "c67264da",
   "metadata": {},
   "outputs": [
    {
     "name": "stdout",
     "output_type": "stream",
     "text": [
      "apple\n",
      "vivo\n",
      "asus\n"
     ]
    }
   ],
   "source": [
    "tup = \"apple\",\"vivo\",\"asus\"\n",
    "a,b,c = tup\n",
    "print(a)\n",
    "print(b)\n",
    "print(c)"
   ]
  },
  {
   "cell_type": "markdown",
   "id": "c973f895",
   "metadata": {},
   "source": [
    "# tuple slicing"
   ]
  },
  {
   "cell_type": "code",
   "execution_count": 95,
   "id": "73ed941c",
   "metadata": {},
   "outputs": [],
   "source": [
    "tup = (56, 44, 31, 23, 5, 5, 4, 4, 3, 2, 1.6, 1.4, 1.2, 1.1)"
   ]
  },
  {
   "cell_type": "code",
   "execution_count": 96,
   "id": "83a0e086",
   "metadata": {},
   "outputs": [
    {
     "data": {
      "text/plain": [
       "(31, 23, 5, 5)"
      ]
     },
     "execution_count": 96,
     "metadata": {},
     "output_type": "execute_result"
    }
   ],
   "source": [
    "tup[2:6:1]"
   ]
  },
  {
   "cell_type": "code",
   "execution_count": 97,
   "id": "ccd452dd",
   "metadata": {},
   "outputs": [
    {
     "data": {
      "text/plain": [
       "(1.1, 1.2, 1.4, 1.6, 2, 3, 4, 4, 5, 5, 23, 31, 44, 56)"
      ]
     },
     "execution_count": 97,
     "metadata": {},
     "output_type": "execute_result"
    }
   ],
   "source": [
    "tup[::-1]"
   ]
  },
  {
   "cell_type": "code",
   "execution_count": 105,
   "id": "efd3316f",
   "metadata": {},
   "outputs": [],
   "source": [
    "# remove first three element\n",
    "lt = list(tup)"
   ]
  },
  {
   "cell_type": "code",
   "execution_count": 106,
   "id": "60396208",
   "metadata": {},
   "outputs": [
    {
     "data": {
      "text/plain": [
       "list"
      ]
     },
     "execution_count": 106,
     "metadata": {},
     "output_type": "execute_result"
    }
   ],
   "source": [
    "type(lt)"
   ]
  },
  {
   "cell_type": "code",
   "execution_count": 107,
   "id": "3b3c1f41",
   "metadata": {},
   "outputs": [
    {
     "name": "stdout",
     "output_type": "stream",
     "text": [
      "[56, 44, 31, 23, 5, 5, 4, 4, 3, 2, 1.6, 1.4, 1.2, 1.1]\n"
     ]
    }
   ],
   "source": [
    "print(lt)"
   ]
  },
  {
   "cell_type": "code",
   "execution_count": 108,
   "id": "94893a50",
   "metadata": {},
   "outputs": [],
   "source": [
    "del lt[:3]"
   ]
  },
  {
   "cell_type": "code",
   "execution_count": 109,
   "id": "f202f3a8",
   "metadata": {},
   "outputs": [
    {
     "name": "stdout",
     "output_type": "stream",
     "text": [
      "[23, 5, 5, 4, 4, 3, 2, 1.6, 1.4, 1.2, 1.1]\n"
     ]
    }
   ],
   "source": [
    "print(lt)"
   ]
  },
  {
   "cell_type": "code",
   "execution_count": 110,
   "id": "46a5413e",
   "metadata": {},
   "outputs": [],
   "source": [
    "tup = tuple(lt)"
   ]
  },
  {
   "cell_type": "code",
   "execution_count": 111,
   "id": "113e05e3",
   "metadata": {},
   "outputs": [
    {
     "data": {
      "text/plain": [
       "(23, 5, 5, 4, 4, 3, 2, 1.6, 1.4, 1.2, 1.1)"
      ]
     },
     "execution_count": 111,
     "metadata": {},
     "output_type": "execute_result"
    }
   ],
   "source": [
    "tup"
   ]
  },
  {
   "cell_type": "code",
   "execution_count": null,
   "id": "e9bea256",
   "metadata": {},
   "outputs": [],
   "source": []
  }
 ],
 "metadata": {
  "kernelspec": {
   "display_name": "Python 3 (ipykernel)",
   "language": "python",
   "name": "python3"
  },
  "language_info": {
   "codemirror_mode": {
    "name": "ipython",
    "version": 3
   },
   "file_extension": ".py",
   "mimetype": "text/x-python",
   "name": "python",
   "nbconvert_exporter": "python",
   "pygments_lexer": "ipython3",
   "version": "3.11.0"
  }
 },
 "nbformat": 4,
 "nbformat_minor": 5
}
