{
 "cells": [
  {
   "cell_type": "code",
   "execution_count": 1,
   "id": "15b638ce",
   "metadata": {},
   "outputs": [],
   "source": [
    "members = {\n",
    "    \"model\" : \"gallardo\",\n",
    "    \"company\": \"toyota\",\n",
    "    \"year\" : \"2202\"\n",
    "}\n",
    "asdfas\n",
    "\n",
    "# ordered , changeable and do not allow duplicates\n",
    "\n",
    "\n"
   ]
  },
  {
   "cell_type": "code",
   "execution_count": 2,
   "id": "464bd82f",
   "metadata": {},
   "outputs": [
    {
     "name": "stdout",
     "output_type": "stream",
     "text": [
      "{'model': 'gallardo', 'company': 'toyota', 'year': '2202'}\n"
     ]
    }
   ],
   "source": [
    "print(members)"
   ]
  },
  {
   "cell_type": "code",
   "execution_count": 5,
   "id": "a90d9a2a",
   "metadata": {},
   "outputs": [
    {
     "name": "stdout",
     "output_type": "stream",
     "text": [
      "1\n"
     ]
    }
   ],
   "source": [
    "print(len(members))"
   ]
  },
  {
   "cell_type": "code",
   "execution_count": 6,
   "id": "e7b0e954",
   "metadata": {},
   "outputs": [
    {
     "name": "stdout",
     "output_type": "stream",
     "text": [
      "{'name': 'john', 'age': 24, 'country': 'norway'}\n"
     ]
    }
   ],
   "source": [
    "members = dict(name = \"john\", age  =24, country = \"norway\")\n",
    "print(members)"
   ]
  },
  {
   "cell_type": "code",
   "execution_count": 7,
   "id": "a370bb82",
   "metadata": {},
   "outputs": [],
   "source": [
    "x = members[\"name\"]"
   ]
  },
  {
   "cell_type": "code",
   "execution_count": 12,
   "id": "bc931d1f",
   "metadata": {},
   "outputs": [],
   "source": [
    "x = members.keys()"
   ]
  },
  {
   "cell_type": "code",
   "execution_count": 13,
   "id": "2183328d",
   "metadata": {},
   "outputs": [
    {
     "name": "stdout",
     "output_type": "stream",
     "text": [
      "dict_keys(['brand', 'model', 'year'])\n",
      "dict_keys(['brand', 'model', 'year', 'color'])\n"
     ]
    }
   ],
   "source": [
    "car = {\n",
    "\"brand\": \"Ford\",\n",
    "\"model\": \"Mustang\",\n",
    "\"year\": 1964\n",
    "}\n",
    "\n",
    "x = car.keys()\n",
    "\n",
    "print(x) #before the change\n",
    "\n",
    "car[\"color\"] = \"white\"\n",
    "\n",
    "print(x) #after the change"
   ]
  },
  {
   "cell_type": "code",
   "execution_count": 1,
   "id": "30363f53",
   "metadata": {},
   "outputs": [
    {
     "name": "stdout",
     "output_type": "stream",
     "text": [
      "Ascending Order: {'b': 5, 'a': 10, 'd': 20, 'c': 30}\n",
      "Descending Order: {'c': 30, 'd': 20, 'a': 10, 'b': 5}\n"
     ]
    }
   ],
   "source": [
    "# Sample dictionary\n",
    "sample_dict = {'a': 10, 'b': 5, 'c': 30, 'd': 20}\n",
    "\n",
    "# Sorting in ascending order by value\n",
    "ascending_sorted = dict(sorted(sample_dict.items(), key=lambda item: item[1]))\n",
    "print(\"Ascending Order:\", ascending_sorted)\n",
    "\n",
    "# Sorting in descending order by value\n",
    "descending_sorted = dict(sorted(sample_dict.items(), key=lambda item: item[1], reverse=True))\n",
    "print(\"Descending Order:\", descending_sorted)\n"
   ]
  },
  {
   "cell_type": "code",
   "execution_count": null,
   "id": "8a65eed6",
   "metadata": {},
   "outputs": [],
   "source": []
  },
  {
   "cell_type": "code",
   "execution_count": null,
   "id": "88fc5877",
   "metadata": {},
   "outputs": [],
   "source": []
  },
  {
   "cell_type": "code",
   "execution_count": null,
   "id": "55d3cebe",
   "metadata": {},
   "outputs": [],
   "source": []
  }
 ],
 "metadata": {
  "kernelspec": {
   "display_name": "Python 3 (ipykernel)",
   "language": "python",
   "name": "python3"
  },
  "language_info": {
   "codemirror_mode": {
    "name": "ipython",
    "version": 3
   },
   "file_extension": ".py",
   "mimetype": "text/x-python",
   "name": "python",
   "nbconvert_exporter": "python",
   "pygments_lexer": "ipython3",
   "version": "3.13.3"
  }
 },
 "nbformat": 4,
 "nbformat_minor": 5
}
