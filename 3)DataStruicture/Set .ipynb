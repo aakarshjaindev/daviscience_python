{
 "cells": [
  {
   "cell_type": "markdown",
   "id": "c6ecf152",
   "metadata": {},
   "source": [
    "Set : unordered, {} ,no dups allow,no random access, unchangeable"
   ]
  },
  {
   "cell_type": "code",
   "execution_count": 1,
   "id": "963b6a0d",
   "metadata": {},
   "outputs": [],
   "source": [
    "st = {1,2,3,4,5.2,\"ji\",5.26,6,89,6,34,56,\"hello\"}"
   ]
  },
  {
   "cell_type": "code",
   "execution_count": 2,
   "id": "45890876",
   "metadata": {},
   "outputs": [
    {
     "data": {
      "text/plain": [
       "{1, 2, 3, 34, 4, 5.2, 5.26, 56, 6, 89, 'hello', 'ji'}"
      ]
     },
     "execution_count": 2,
     "metadata": {},
     "output_type": "execute_result"
    }
   ],
   "source": [
    "st"
   ]
  },
  {
   "cell_type": "code",
   "execution_count": 3,
   "id": "8995ec32",
   "metadata": {},
   "outputs": [
    {
     "ename": "TypeError",
     "evalue": "'set' object is not subscriptable",
     "output_type": "error",
     "traceback": [
      "\u001b[1;31m---------------------------------------------------------------------------\u001b[0m",
      "\u001b[1;31mTypeError\u001b[0m                                 Traceback (most recent call last)",
      "Cell \u001b[1;32mIn[3], line 1\u001b[0m\n\u001b[1;32m----> 1\u001b[0m \u001b[43mst\u001b[49m\u001b[43m[\u001b[49m\u001b[38;5;241;43m0\u001b[39;49m\u001b[43m]\u001b[49m\n",
      "\u001b[1;31mTypeError\u001b[0m: 'set' object is not subscriptable"
     ]
    }
   ],
   "source": [
    "st[0]"
   ]
  },
  {
   "cell_type": "code",
   "execution_count": 4,
   "id": "94342b0d",
   "metadata": {},
   "outputs": [
    {
     "data": {
      "text/plain": [
       "12"
      ]
     },
     "execution_count": 4,
     "metadata": {},
     "output_type": "execute_result"
    }
   ],
   "source": [
    "len(st)"
   ]
  },
  {
   "cell_type": "code",
   "execution_count": 5,
   "id": "26e765cf",
   "metadata": {},
   "outputs": [
    {
     "name": "stdout",
     "output_type": "stream",
     "text": [
      "1 2 3 4 5.2 5.26 6 34 hello 56 89 ji "
     ]
    }
   ],
   "source": [
    "for i in st:\n",
    "    print(i,end=\" \")"
   ]
  },
  {
   "cell_type": "code",
   "execution_count": 6,
   "id": "ec5c7501",
   "metadata": {},
   "outputs": [
    {
     "name": "stdout",
     "output_type": "stream",
     "text": [
      "<class 'set'>\n"
     ]
    }
   ],
   "source": [
    "print(type(st))"
   ]
  },
  {
   "cell_type": "markdown",
   "id": "41cac3cc",
   "metadata": {},
   "source": [
    "# Set Function"
   ]
  },
  {
   "cell_type": "code",
   "execution_count": 15,
   "id": "5b918989",
   "metadata": {},
   "outputs": [
    {
     "data": {
      "text/plain": [
       "{1, 2, 22, 25, 3, 34, 4, 5.2, 5.26, 56, 6, 89, 'Yogesh', 'hello', 'ji'}"
      ]
     },
     "execution_count": 15,
     "metadata": {},
     "output_type": "execute_result"
    }
   ],
   "source": [
    "st"
   ]
  },
  {
   "cell_type": "code",
   "execution_count": 14,
   "id": "1ac21d11",
   "metadata": {},
   "outputs": [],
   "source": [
    "st.add(\"Yogesh\")"
   ]
  },
  {
   "cell_type": "code",
   "execution_count": 16,
   "id": "11355566",
   "metadata": {},
   "outputs": [
    {
     "name": "stdout",
     "output_type": "stream",
     "text": [
      "Set a is  :  {34, 98, 24, 56, 78} Set b is :  {98, 55, 24, 12, 45}\n"
     ]
    }
   ],
   "source": [
    "a = {24,56,78,98,34}\n",
    "b = {24,55,45,98,12}\n",
    "print(\"Set a is  : \",a,\"Set b is : \",b)"
   ]
  },
  {
   "cell_type": "code",
   "execution_count": 17,
   "id": "c2181b09",
   "metadata": {},
   "outputs": [],
   "source": [
    "c = a - b"
   ]
  },
  {
   "cell_type": "code",
   "execution_count": 18,
   "id": "fdaea901",
   "metadata": {},
   "outputs": [
    {
     "data": {
      "text/plain": [
       "{34, 56, 78}"
      ]
     },
     "execution_count": 18,
     "metadata": {},
     "output_type": "execute_result"
    }
   ],
   "source": [
    "c"
   ]
  },
  {
   "cell_type": "code",
   "execution_count": 19,
   "id": "2d799cff",
   "metadata": {},
   "outputs": [
    {
     "data": {
      "text/plain": [
       "{34, 56, 78}"
      ]
     },
     "execution_count": 19,
     "metadata": {},
     "output_type": "execute_result"
    }
   ],
   "source": [
    "a.difference(b)"
   ]
  },
  {
   "cell_type": "code",
   "execution_count": 20,
   "id": "d60a210b",
   "metadata": {},
   "outputs": [
    {
     "name": "stdout",
     "output_type": "stream",
     "text": [
      "Set a is  :  {34, 98, 24, 56, 78} Set b is :  {98, 55, 24, 12, 45}\n"
     ]
    }
   ],
   "source": [
    "print(\"Set a is  : \",a,\"Set b is : \",b)"
   ]
  },
  {
   "cell_type": "code",
   "execution_count": 25,
   "id": "f39e9780",
   "metadata": {},
   "outputs": [
    {
     "data": {
      "text/plain": [
       "{12, 34, 45, 55, 56, 78}"
      ]
     },
     "execution_count": 25,
     "metadata": {},
     "output_type": "execute_result"
    }
   ],
   "source": [
    "a.symmetric_difference(b)"
   ]
  },
  {
   "cell_type": "code",
   "execution_count": 26,
   "id": "3b02b8d6",
   "metadata": {},
   "outputs": [
    {
     "name": "stdout",
     "output_type": "stream",
     "text": [
      "Set a is  :  {34, 98, 24, 56, 78} Set b is :  {98, 55, 24, 12, 45}\n"
     ]
    }
   ],
   "source": [
    "print(\"Set a is  : \",a,\"Set b is : \",b)"
   ]
  },
  {
   "cell_type": "code",
   "execution_count": 27,
   "id": "c8906ae2",
   "metadata": {},
   "outputs": [
    {
     "data": {
      "text/plain": [
       "{12, 24, 34, 45, 55, 56, 78, 98}"
      ]
     },
     "execution_count": 27,
     "metadata": {},
     "output_type": "execute_result"
    }
   ],
   "source": [
    "a.union(b)"
   ]
  },
  {
   "cell_type": "code",
   "execution_count": 28,
   "id": "c0702791",
   "metadata": {},
   "outputs": [],
   "source": [
    "c = {2,3,4,5,6}"
   ]
  },
  {
   "cell_type": "code",
   "execution_count": 37,
   "id": "477c8422",
   "metadata": {},
   "outputs": [
    {
     "data": {
      "text/plain": [
       "{22, 25, 3, 34, 4, 5.2, 5.26, 56, 6, 89, 'ji'}"
      ]
     },
     "execution_count": 37,
     "metadata": {},
     "output_type": "execute_result"
    }
   ],
   "source": [
    "st"
   ]
  },
  {
   "cell_type": "code",
   "execution_count": 32,
   "id": "df9b5577",
   "metadata": {},
   "outputs": [
    {
     "data": {
      "text/plain": [
       "2"
      ]
     },
     "execution_count": 32,
     "metadata": {},
     "output_type": "execute_result"
    }
   ],
   "source": [
    "st.pop()"
   ]
  },
  {
   "cell_type": "code",
   "execution_count": 39,
   "id": "340cf5be",
   "metadata": {},
   "outputs": [
    {
     "ename": "KeyError",
     "evalue": "'Yogesh'",
     "output_type": "error",
     "traceback": [
      "\u001b[1;31m---------------------------------------------------------------------------\u001b[0m",
      "\u001b[1;31mKeyError\u001b[0m                                  Traceback (most recent call last)",
      "Cell \u001b[1;32mIn[39], line 1\u001b[0m\n\u001b[1;32m----> 1\u001b[0m \u001b[43mst\u001b[49m\u001b[38;5;241;43m.\u001b[39;49m\u001b[43mremove\u001b[49m\u001b[43m(\u001b[49m\u001b[38;5;124;43m\"\u001b[39;49m\u001b[38;5;124;43mYogesh\u001b[39;49m\u001b[38;5;124;43m\"\u001b[39;49m\u001b[43m)\u001b[49m\n",
      "\u001b[1;31mKeyError\u001b[0m: 'Yogesh'"
     ]
    }
   ],
   "source": [
    "st.remove(\"Yogesh\")"
   ]
  },
  {
   "cell_type": "code",
   "execution_count": 38,
   "id": "520835bd",
   "metadata": {},
   "outputs": [],
   "source": [
    "st.discard(\"hello\")"
   ]
  },
  {
   "cell_type": "code",
   "execution_count": 40,
   "id": "8b739487",
   "metadata": {},
   "outputs": [
    {
     "name": "stdout",
     "output_type": "stream",
     "text": [
      "Set a is  :  {34, 98, 24, 56, 78} Set b is :  {98, 55, 24, 12, 45}\n"
     ]
    }
   ],
   "source": [
    "#intersection \n",
    "print(\"Set a is  : \",a,\"Set b is : \",b)"
   ]
  },
  {
   "cell_type": "code",
   "execution_count": 41,
   "id": "4d49244c",
   "metadata": {},
   "outputs": [
    {
     "data": {
      "text/plain": [
       "{24, 98}"
      ]
     },
     "execution_count": 41,
     "metadata": {},
     "output_type": "execute_result"
    }
   ],
   "source": [
    "a.intersection(b)"
   ]
  },
  {
   "cell_type": "code",
   "execution_count": 42,
   "id": "a049d89c",
   "metadata": {},
   "outputs": [
    {
     "data": {
      "text/plain": [
       "False"
      ]
     },
     "execution_count": 42,
     "metadata": {},
     "output_type": "execute_result"
    }
   ],
   "source": [
    "#isdisjoint()\n",
    "a.isdisjoint(b)"
   ]
  },
  {
   "cell_type": "code",
   "execution_count": 49,
   "id": "c100885f",
   "metadata": {},
   "outputs": [
    {
     "name": "stdout",
     "output_type": "stream",
     "text": [
      "Set C is  :  {2, 3, 4, 5, 6} \n",
      "Set a is  :  {34, 98, 24, 56, 78} \n",
      "Set b is  :  {98, 55, 24, 12, 45}\n"
     ]
    }
   ],
   "source": [
    "print(\"Set C is  : \",c,\"\\nSet a is  : \",a,\"\\nSet b is  : \",b)"
   ]
  },
  {
   "cell_type": "code",
   "execution_count": 51,
   "id": "2ac33018",
   "metadata": {},
   "outputs": [
    {
     "data": {
      "text/plain": [
       "True"
      ]
     },
     "execution_count": 51,
     "metadata": {},
     "output_type": "execute_result"
    }
   ],
   "source": [
    "c.isdisjoint(a)"
   ]
  },
  {
   "cell_type": "code",
   "execution_count": 52,
   "id": "218de661",
   "metadata": {},
   "outputs": [
    {
     "data": {
      "text/plain": [
       "False"
      ]
     },
     "execution_count": 52,
     "metadata": {},
     "output_type": "execute_result"
    }
   ],
   "source": [
    "a.issubset(b)"
   ]
  },
  {
   "cell_type": "code",
   "execution_count": 55,
   "id": "a8afc922",
   "metadata": {},
   "outputs": [],
   "source": [
    "y = a.union(b)"
   ]
  },
  {
   "cell_type": "code",
   "execution_count": 54,
   "id": "5cd72737",
   "metadata": {},
   "outputs": [
    {
     "name": "stdout",
     "output_type": "stream",
     "text": [
      "Set C is  :  {2, 3, 4, 5, 6} \n",
      "Set a is  :  {34, 98, 24, 56, 78} \n",
      "Set b is  :  {98, 55, 24, 12, 45}\n"
     ]
    }
   ],
   "source": [
    "print(\"Set C is  : \",c,\"\\nSet a is  : \",a,\"\\nSet b is  : \",b)"
   ]
  },
  {
   "cell_type": "code",
   "execution_count": 56,
   "id": "c1268e5e",
   "metadata": {},
   "outputs": [
    {
     "data": {
      "text/plain": [
       "{12, 24, 34, 45, 55, 56, 78, 98}"
      ]
     },
     "execution_count": 56,
     "metadata": {},
     "output_type": "execute_result"
    }
   ],
   "source": [
    "y"
   ]
  },
  {
   "cell_type": "code",
   "execution_count": 58,
   "id": "21391e01",
   "metadata": {},
   "outputs": [
    {
     "data": {
      "text/plain": [
       "True"
      ]
     },
     "execution_count": 58,
     "metadata": {},
     "output_type": "execute_result"
    }
   ],
   "source": [
    "a.issubset(y)"
   ]
  },
  {
   "cell_type": "code",
   "execution_count": 59,
   "id": "3f2c50f0",
   "metadata": {},
   "outputs": [],
   "source": [
    "a.update(b)"
   ]
  },
  {
   "cell_type": "code",
   "execution_count": 61,
   "id": "8a39f2ef",
   "metadata": {},
   "outputs": [],
   "source": [
    "a.update(c)"
   ]
  },
  {
   "cell_type": "code",
   "execution_count": 62,
   "id": "b20ecd46",
   "metadata": {},
   "outputs": [
    {
     "data": {
      "text/plain": [
       "{2, 3, 4, 5, 6, 12, 24, 34, 45, 55, 56, 78, 98}"
      ]
     },
     "execution_count": 62,
     "metadata": {},
     "output_type": "execute_result"
    }
   ],
   "source": [
    "a"
   ]
  },
  {
   "cell_type": "code",
   "execution_count": 63,
   "id": "dd2bacc1",
   "metadata": {},
   "outputs": [
    {
     "data": {
      "text/plain": [
       "True"
      ]
     },
     "execution_count": 63,
     "metadata": {},
     "output_type": "execute_result"
    }
   ],
   "source": [
    "a.issuperset(b)"
   ]
  },
  {
   "cell_type": "code",
   "execution_count": 64,
   "id": "dca79d45",
   "metadata": {},
   "outputs": [
    {
     "data": {
      "text/plain": [
       "True"
      ]
     },
     "execution_count": 64,
     "metadata": {},
     "output_type": "execute_result"
    }
   ],
   "source": [
    "a.issuperset(c)"
   ]
  },
  {
   "cell_type": "code",
   "execution_count": 67,
   "id": "0fdb5789",
   "metadata": {},
   "outputs": [
    {
     "name": "stdout",
     "output_type": "stream",
     "text": [
      "no\n"
     ]
    }
   ],
   "source": [
    "if c.issuperset(b):\n",
    "    print(\"yes\")\n",
    "else:\n",
    "    print(\"no\")"
   ]
  },
  {
   "cell_type": "code",
   "execution_count": 68,
   "id": "1a77a04e",
   "metadata": {},
   "outputs": [],
   "source": [
    "y = a.copy()"
   ]
  },
  {
   "cell_type": "code",
   "execution_count": 69,
   "id": "2c8a1854",
   "metadata": {},
   "outputs": [
    {
     "data": {
      "text/plain": [
       "{2, 3, 4, 5, 6, 12, 24, 34, 45, 55, 56, 78, 98}"
      ]
     },
     "execution_count": 69,
     "metadata": {},
     "output_type": "execute_result"
    }
   ],
   "source": [
    "y"
   ]
  },
  {
   "cell_type": "code",
   "execution_count": 70,
   "id": "9b62c2f0",
   "metadata": {},
   "outputs": [],
   "source": [
    "y.clear()"
   ]
  },
  {
   "cell_type": "code",
   "execution_count": 71,
   "id": "9c7ed35b",
   "metadata": {},
   "outputs": [
    {
     "data": {
      "text/plain": [
       "set()"
      ]
     },
     "execution_count": 71,
     "metadata": {},
     "output_type": "execute_result"
    }
   ],
   "source": [
    "y"
   ]
  },
  {
   "cell_type": "code",
   "execution_count": 72,
   "id": "3b645337",
   "metadata": {},
   "outputs": [],
   "source": [
    "del y"
   ]
  },
  {
   "cell_type": "code",
   "execution_count": 73,
   "id": "78e8f5fa",
   "metadata": {},
   "outputs": [
    {
     "ename": "NameError",
     "evalue": "name 'y' is not defined",
     "output_type": "error",
     "traceback": [
      "\u001b[1;31m---------------------------------------------------------------------------\u001b[0m",
      "\u001b[1;31mNameError\u001b[0m                                 Traceback (most recent call last)",
      "Cell \u001b[1;32mIn[73], line 1\u001b[0m\n\u001b[1;32m----> 1\u001b[0m \u001b[43my\u001b[49m\n",
      "\u001b[1;31mNameError\u001b[0m: name 'y' is not defined"
     ]
    }
   ],
   "source": [
    "y"
   ]
  },
  {
   "cell_type": "code",
   "execution_count": 75,
   "id": "e6d2938f",
   "metadata": {},
   "outputs": [
    {
     "data": {
      "text/plain": [
       "{2, 3, 4, 5, 6}"
      ]
     },
     "execution_count": 75,
     "metadata": {},
     "output_type": "execute_result"
    }
   ],
   "source": [
    "c"
   ]
  },
  {
   "cell_type": "code",
   "execution_count": 87,
   "id": "c07acef2",
   "metadata": {},
   "outputs": [
    {
     "name": "stdout",
     "output_type": "stream",
     "text": [
      "frozenset({2, 3, 4, 5, 6})\n",
      "<class 'frozenset'>\n"
     ]
    }
   ],
   "source": [
    "x = frozenset(c)\n",
    "print(x)\n",
    "print(type(x))"
   ]
  },
  {
   "cell_type": "code",
   "execution_count": 90,
   "id": "e79ff908",
   "metadata": {},
   "outputs": [],
   "source": [
    "v = set(x)"
   ]
  },
  {
   "cell_type": "code",
   "execution_count": 92,
   "id": "4e4ac3c4",
   "metadata": {},
   "outputs": [],
   "source": [
    "v.add(23)"
   ]
  },
  {
   "cell_type": "code",
   "execution_count": 94,
   "id": "53f08734",
   "metadata": {},
   "outputs": [],
   "source": [
    "x = frozenset(v)"
   ]
  },
  {
   "cell_type": "code",
   "execution_count": 95,
   "id": "543a0efe",
   "metadata": {},
   "outputs": [
    {
     "data": {
      "text/plain": [
       "frozenset({2, 3, 4, 5, 6, 23})"
      ]
     },
     "execution_count": 95,
     "metadata": {},
     "output_type": "execute_result"
    }
   ],
   "source": [
    "x"
   ]
  },
  {
   "cell_type": "code",
   "execution_count": 96,
   "id": "3fe5e65e",
   "metadata": {},
   "outputs": [
    {
     "data": {
      "text/plain": [
       "14"
      ]
     },
     "execution_count": 96,
     "metadata": {},
     "output_type": "execute_result"
    }
   ],
   "source": [
    "g = {2,3,4,5,7,8,9,78,55,43,21,11,12,56}\n",
    "len(g)"
   ]
  },
  {
   "cell_type": "code",
   "execution_count": 98,
   "id": "ef40177b",
   "metadata": {},
   "outputs": [
    {
     "name": "stdout",
     "output_type": "stream",
     "text": [
      "Total count of even number in set is  :  6\n"
     ]
    }
   ],
   "source": [
    "#count the even number in set \n",
    "count = 0\n",
    "for i in g:\n",
    "    if i%2==0:\n",
    "        count+=1\n",
    "print(\"Total count of even number in set is  : \",count)"
   ]
  },
  {
   "cell_type": "code",
   "execution_count": null,
   "id": "ecd26c38",
   "metadata": {},
   "outputs": [],
   "source": []
  }
 ],
 "metadata": {
  "kernelspec": {
   "display_name": "Python 3 (ipykernel)",
   "language": "python",
   "name": "python3"
  },
  "language_info": {
   "codemirror_mode": {
    "name": "ipython",
    "version": 3
   },
   "file_extension": ".py",
   "mimetype": "text/x-python",
   "name": "python",
   "nbconvert_exporter": "python",
   "pygments_lexer": "ipython3",
   "version": "3.11.0"
  }
 },
 "nbformat": 4,
 "nbformat_minor": 5
}
