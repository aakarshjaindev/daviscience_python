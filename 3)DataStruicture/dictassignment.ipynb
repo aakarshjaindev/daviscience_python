{
 "cells": [
  {
   "cell_type": "code",
   "execution_count": 1,
   "id": "25fa815b",
   "metadata": {},
   "outputs": [
    {
     "name": "stdout",
     "output_type": "stream",
     "text": [
      "Ascending Order: {'b': 5, 'a': 10, 'd': 20, 'c': 30}\n",
      "Descending Order: {'c': 30, 'd': 20, 'a': 10, 'b': 5}\n"
     ]
    }
   ],
   "source": [
    "# Sample dictionary\n",
    "sample_dict = {'a': 10, 'b': 5, 'c': 30, 'd': 20}\n",
    "\n",
    "# Sorting in ascending order by value\n",
    "ascending_sorted = dict(sorted(sample_dict.items(), key=lambda item: item[1]))\n",
    "print(\"Ascending Order:\", ascending_sorted)\n",
    "\n",
    "# Sorting in descending order by value\n",
    "descending_sorted = dict(sorted(sample_dict.items(), key=lambda item: item[1], reverse=True))\n",
    "print(\"Descending Order:\", descending_sorted)\n"
   ]
  },
  {
   "cell_type": "code",
   "execution_count": null,
   "id": "b74ec4d5",
   "metadata": {},
   "outputs": [],
   "source": [
    "for key in dii"
   ]
  }
 ],
 "metadata": {
  "kernelspec": {
   "display_name": "Python 3",
   "language": "python",
   "name": "python3"
  },
  "language_info": {
   "codemirror_mode": {
    "name": "ipython",
    "version": 3
   },
   "file_extension": ".py",
   "mimetype": "text/x-python",
   "name": "python",
   "nbconvert_exporter": "python",
   "pygments_lexer": "ipython3",
   "version": "3.12.1"
  }
 },
 "nbformat": 4,
 "nbformat_minor": 5
}
