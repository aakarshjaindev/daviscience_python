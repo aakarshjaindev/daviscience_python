{
 "cells": [
  {
   "cell_type": "markdown",
   "id": "f84832cf",
   "metadata": {},
   "source": [
    "unordered,Indexing, changeable, no duplicate keys allow , {}"
   ]
  },
  {
   "cell_type": "markdown",
   "id": "03524254",
   "metadata": {},
   "source": [
    "var = {key1:value,key2:[value1,value2]}"
   ]
  },
  {
   "cell_type": "code",
   "execution_count": 1,
   "id": "6c7afb88",
   "metadata": {},
   "outputs": [],
   "source": [
    "dt = {1:\"Anil\",\n",
    "      2:\"Shivam\",\n",
    "      3:[\"HP\",\"Dell\",\"Asus\"],\n",
    "      6:\"Muskaan\",\n",
    "      4:\"Ravi\",\n",
    "      4:\"Shanu\"}"
   ]
  },
  {
   "cell_type": "code",
   "execution_count": 2,
   "id": "6f2f72a4",
   "metadata": {},
   "outputs": [
    {
     "data": {
      "text/plain": [
       "{1: 'Anil', 2: 'Shivam', 3: ['HP', 'Dell', 'Asus'], 6: 'Muskaan', 4: 'Shanu'}"
      ]
     },
     "execution_count": 2,
     "metadata": {},
     "output_type": "execute_result"
    }
   ],
   "source": [
    "dt"
   ]
  },
  {
   "cell_type": "code",
   "execution_count": 4,
   "id": "654651ba",
   "metadata": {},
   "outputs": [
    {
     "data": {
      "text/plain": [
       "['HP', 'Dell', 'Asus']"
      ]
     },
     "execution_count": 4,
     "metadata": {},
     "output_type": "execute_result"
    }
   ],
   "source": [
    "dt[3]"
   ]
  },
  {
   "cell_type": "code",
   "execution_count": 5,
   "id": "c67de539",
   "metadata": {},
   "outputs": [],
   "source": [
    "dt[4]=\"Ravi\""
   ]
  },
  {
   "cell_type": "code",
   "execution_count": 6,
   "id": "80fb0d9a",
   "metadata": {},
   "outputs": [
    {
     "data": {
      "text/plain": [
       "{1: 'Anil', 2: 'Shivam', 3: ['HP', 'Dell', 'Asus'], 6: 'Muskaan', 4: 'Ravi'}"
      ]
     },
     "execution_count": 6,
     "metadata": {},
     "output_type": "execute_result"
    }
   ],
   "source": [
    "dt"
   ]
  },
  {
   "cell_type": "code",
   "execution_count": 7,
   "id": "4d506d1e",
   "metadata": {},
   "outputs": [
    {
     "name": "stdout",
     "output_type": "stream",
     "text": [
      "1 2 3 6 4 "
     ]
    }
   ],
   "source": [
    "for i in dt:\n",
    "    print(i,end=\" \")"
   ]
  },
  {
   "cell_type": "code",
   "execution_count": 8,
   "id": "e1d16836",
   "metadata": {},
   "outputs": [
    {
     "name": "stdout",
     "output_type": "stream",
     "text": [
      "Anil Shivam ['HP', 'Dell', 'Asus'] Muskaan Ravi "
     ]
    }
   ],
   "source": [
    "for i in dt:\n",
    "    print(dt[i],end=\" \")"
   ]
  },
  {
   "cell_type": "code",
   "execution_count": 9,
   "id": "ec2cde09",
   "metadata": {},
   "outputs": [
    {
     "data": {
      "text/plain": [
       "5"
      ]
     },
     "execution_count": 9,
     "metadata": {},
     "output_type": "execute_result"
    }
   ],
   "source": [
    "len(dt)"
   ]
  },
  {
   "cell_type": "markdown",
   "id": "04634467",
   "metadata": {},
   "source": [
    "# Dictionary Function"
   ]
  },
  {
   "cell_type": "code",
   "execution_count": 11,
   "id": "57c80b38",
   "metadata": {},
   "outputs": [
    {
     "data": {
      "text/plain": [
       "'Anil'"
      ]
     },
     "execution_count": 11,
     "metadata": {},
     "output_type": "execute_result"
    }
   ],
   "source": [
    "dt.get(1)"
   ]
  },
  {
   "cell_type": "code",
   "execution_count": 12,
   "id": "5a907455",
   "metadata": {},
   "outputs": [
    {
     "name": "stdout",
     "output_type": "stream",
     "text": [
      "Anil Shivam ['HP', 'Dell', 'Asus'] Muskaan Ravi "
     ]
    }
   ],
   "source": [
    "for i in dt:\n",
    "    print(dt.get(i),end=\" \")"
   ]
  },
  {
   "cell_type": "code",
   "execution_count": 13,
   "id": "f659e827",
   "metadata": {},
   "outputs": [
    {
     "data": {
      "text/plain": [
       "dict_keys([1, 2, 3, 6, 4])"
      ]
     },
     "execution_count": 13,
     "metadata": {},
     "output_type": "execute_result"
    }
   ],
   "source": [
    "dt.keys()"
   ]
  },
  {
   "cell_type": "code",
   "execution_count": 14,
   "id": "f45426b7",
   "metadata": {},
   "outputs": [
    {
     "name": "stdout",
     "output_type": "stream",
     "text": [
      "1 2 3 6 4 "
     ]
    }
   ],
   "source": [
    "for i in dt.keys():\n",
    "    print(i,end=\" \")"
   ]
  },
  {
   "cell_type": "code",
   "execution_count": 15,
   "id": "78d4e880",
   "metadata": {},
   "outputs": [
    {
     "data": {
      "text/plain": [
       "dict_values(['Anil', 'Shivam', ['HP', 'Dell', 'Asus'], 'Muskaan', 'Ravi'])"
      ]
     },
     "execution_count": 15,
     "metadata": {},
     "output_type": "execute_result"
    }
   ],
   "source": [
    "dt.values()"
   ]
  },
  {
   "cell_type": "code",
   "execution_count": 16,
   "id": "3e304f68",
   "metadata": {},
   "outputs": [
    {
     "name": "stdout",
     "output_type": "stream",
     "text": [
      "Anil Shivam ['HP', 'Dell', 'Asus'] Muskaan Ravi "
     ]
    }
   ],
   "source": [
    "for i in dt.values():\n",
    "    print(i,end=\" \")"
   ]
  },
  {
   "cell_type": "code",
   "execution_count": 17,
   "id": "e05c9280",
   "metadata": {},
   "outputs": [
    {
     "data": {
      "text/plain": [
       "dict_items([(1, 'Anil'), (2, 'Shivam'), (3, ['HP', 'Dell', 'Asus']), (6, 'Muskaan'), (4, 'Ravi')])"
      ]
     },
     "execution_count": 17,
     "metadata": {},
     "output_type": "execute_result"
    }
   ],
   "source": [
    "dt.items()"
   ]
  },
  {
   "cell_type": "code",
   "execution_count": 19,
   "id": "24923d6b",
   "metadata": {},
   "outputs": [
    {
     "name": "stdout",
     "output_type": "stream",
     "text": [
      "1  :  Anil\n",
      "<class 'int'>  :  <class 'str'>\n",
      "2  :  Shivam\n",
      "<class 'int'>  :  <class 'str'>\n",
      "3  :  ['HP', 'Dell', 'Asus']\n",
      "<class 'int'>  :  <class 'list'>\n",
      "6  :  Muskaan\n",
      "<class 'int'>  :  <class 'str'>\n",
      "4  :  Ravi\n",
      "<class 'int'>  :  <class 'str'>\n"
     ]
    }
   ],
   "source": [
    "for k,v in dt.items():\n",
    "    print(k,\" : \",v)\n",
    "    print(type(k),\" : \",type(v))"
   ]
  },
  {
   "cell_type": "code",
   "execution_count": 23,
   "id": "d54a4b5b",
   "metadata": {},
   "outputs": [
    {
     "data": {
      "text/plain": [
       "{1: 'Anil', 2: 'Shivam', 3: ['HP', 'Dell', 'Asus'], 4: 'Ravi'}"
      ]
     },
     "execution_count": 23,
     "metadata": {},
     "output_type": "execute_result"
    }
   ],
   "source": [
    "dt"
   ]
  },
  {
   "cell_type": "code",
   "execution_count": 22,
   "id": "7d0f138c",
   "metadata": {},
   "outputs": [
    {
     "data": {
      "text/plain": [
       "'Muskaan'"
      ]
     },
     "execution_count": 22,
     "metadata": {},
     "output_type": "execute_result"
    }
   ],
   "source": [
    "dt.pop(6)"
   ]
  },
  {
   "cell_type": "code",
   "execution_count": 24,
   "id": "5c84926b",
   "metadata": {},
   "outputs": [
    {
     "data": {
      "text/plain": [
       "(4, 'Ravi')"
      ]
     },
     "execution_count": 24,
     "metadata": {},
     "output_type": "execute_result"
    }
   ],
   "source": [
    "dt.popitem()"
   ]
  },
  {
   "cell_type": "code",
   "execution_count": 28,
   "id": "e89dc0c8",
   "metadata": {},
   "outputs": [
    {
     "data": {
      "text/plain": [
       "{1: 'Anil', 2: 'Shivam', 3: ['HP', 'Dell', 'Asus'], 4: 'Ritik'}"
      ]
     },
     "execution_count": 28,
     "metadata": {},
     "output_type": "execute_result"
    }
   ],
   "source": [
    "dt"
   ]
  },
  {
   "cell_type": "code",
   "execution_count": 26,
   "id": "3b36add3",
   "metadata": {},
   "outputs": [
    {
     "data": {
      "text/plain": [
       "['HP', 'Dell', 'Asus']"
      ]
     },
     "execution_count": 26,
     "metadata": {},
     "output_type": "execute_result"
    }
   ],
   "source": [
    "dt.setdefault(3,\"Shagun\")"
   ]
  },
  {
   "cell_type": "code",
   "execution_count": 27,
   "id": "a98cf9ee",
   "metadata": {},
   "outputs": [
    {
     "data": {
      "text/plain": [
       "'Ritik'"
      ]
     },
     "execution_count": 27,
     "metadata": {},
     "output_type": "execute_result"
    }
   ],
   "source": [
    "dt.setdefault(4,\"Ritik\")"
   ]
  },
  {
   "cell_type": "code",
   "execution_count": 29,
   "id": "f6336e48",
   "metadata": {},
   "outputs": [],
   "source": [
    "tup =(1,2,3,5,6,79,34,3)"
   ]
  },
  {
   "cell_type": "code",
   "execution_count": 42,
   "id": "acc33126",
   "metadata": {},
   "outputs": [],
   "source": [
    "x = dict.fromkeys(tup)"
   ]
  },
  {
   "cell_type": "code",
   "execution_count": 43,
   "id": "a3c2227f",
   "metadata": {},
   "outputs": [
    {
     "data": {
      "text/plain": [
       "{1: None, 2: None, 3: None, 5: None, 6: None, 79: None, 34: None}"
      ]
     },
     "execution_count": 43,
     "metadata": {},
     "output_type": "execute_result"
    }
   ],
   "source": [
    "x"
   ]
  },
  {
   "cell_type": "code",
   "execution_count": 44,
   "id": "5f47fc9d",
   "metadata": {},
   "outputs": [],
   "source": [
    "dt.clear()"
   ]
  },
  {
   "cell_type": "code",
   "execution_count": 45,
   "id": "b437d32c",
   "metadata": {},
   "outputs": [
    {
     "data": {
      "text/plain": [
       "{}"
      ]
     },
     "execution_count": 45,
     "metadata": {},
     "output_type": "execute_result"
    }
   ],
   "source": [
    "dt"
   ]
  },
  {
   "cell_type": "code",
   "execution_count": 46,
   "id": "929570b0",
   "metadata": {},
   "outputs": [
    {
     "data": {
      "text/plain": [
       "dict"
      ]
     },
     "execution_count": 46,
     "metadata": {},
     "output_type": "execute_result"
    }
   ],
   "source": [
    "type(dt)"
   ]
  },
  {
   "cell_type": "code",
   "execution_count": 47,
   "id": "434b2c35",
   "metadata": {},
   "outputs": [],
   "source": [
    "st = {}"
   ]
  },
  {
   "cell_type": "code",
   "execution_count": 48,
   "id": "1d32e028",
   "metadata": {},
   "outputs": [
    {
     "data": {
      "text/plain": [
       "dict"
      ]
     },
     "execution_count": 48,
     "metadata": {},
     "output_type": "execute_result"
    }
   ],
   "source": [
    "type(st)"
   ]
  },
  {
   "cell_type": "code",
   "execution_count": null,
   "id": "56b4f5fc",
   "metadata": {},
   "outputs": [],
   "source": []
  }
 ],
 "metadata": {
  "kernelspec": {
   "display_name": "Python 3 (ipykernel)",
   "language": "python",
   "name": "python3"
  },
  "language_info": {
   "codemirror_mode": {
    "name": "ipython",
    "version": 3
   },
   "file_extension": ".py",
   "mimetype": "text/x-python",
   "name": "python",
   "nbconvert_exporter": "python",
   "pygments_lexer": "ipython3",
   "version": "3.11.0"
  }
 },
 "nbformat": 4,
 "nbformat_minor": 5
}
