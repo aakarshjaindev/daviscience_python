{
 "cells": [
  {
   "cell_type": "code",
   "execution_count": 1,
   "id": "774e5e35",
   "metadata": {},
   "outputs": [
    {
     "name": "stdout",
     "output_type": "stream",
     "text": [
      "Q1 : Who is Developer of Python?\n",
      "A)Denis Ritchie\t B)James Gosling\n",
      "C)Ken Thomson\t D)Guido Van Russom\n"
     ]
    }
   ],
   "source": [
    "print(\"Q1 : Who is Developer of Python?\")\n",
    "print(\"A)Denis Ritchie\\t B)James Gosling\\nC)Ken Thomson\\t D)Guido Van Russom\")"
   ]
  },
  {
   "cell_type": "code",
   "execution_count": 6,
   "id": "a2a824bd",
   "metadata": {},
   "outputs": [
    {
     "name": "stdout",
     "output_type": "stream",
     "text": [
      "Please choose any one option from above : #\n",
      "Invalid Option\n"
     ]
    }
   ],
   "source": [
    "ch = input(\"Please choose any one option from above : \")\n",
    "match(ch):\n",
    "    case \"A\":print(\"Incorrect\")\n",
    "    case \"B\":print(\"Incorrect\")\n",
    "    case \"C\":print(\"Incorrect\")\n",
    "    case \"D\":print(\"Correct\")\n",
    "    case _ :print(\"Invalid Option\")"
   ]
  },
  {
   "cell_type": "code",
   "execution_count": 7,
   "id": "f46b1f12",
   "metadata": {},
   "outputs": [],
   "source": [
    "# Arithmatic Calculator "
   ]
  },
  {
   "cell_type": "code",
   "execution_count": 13,
   "id": "5968dc77",
   "metadata": {},
   "outputs": [
    {
     "name": "stdout",
     "output_type": "stream",
     "text": [
      "A) Addition\t\tB)Subtraction\n",
      "C) Multiplication\tD)Division\n"
     ]
    }
   ],
   "source": [
    "print(\"A) Addition\\t\\tB)Subtraction\\nC) Multiplication\\tD)Division\")"
   ]
  },
  {
   "cell_type": "code",
   "execution_count": 18,
   "id": "3268ab3b",
   "metadata": {},
   "outputs": [
    {
     "name": "stdout",
     "output_type": "stream",
     "text": [
      "Enter the first number : 2\n",
      "Enter the second number : 3\n",
      "A) Addition\t\tB)Subtraction\n",
      "C) Multiplication\tD)Division\n",
      "Choose any one option from above : F\n",
      "Kindly Please Choose option from above.\n"
     ]
    }
   ],
   "source": [
    "x = eval(input(\"Enter the first number : \"))\n",
    "y = eval(input(\"Enter the second number : \"))\n",
    "print(\"A) Addition\\t\\tB)Subtraction\\nC) Multiplication\\tD)Division\")\n",
    "ch = input(\"Choose any one option from above : \")\n",
    "if ch>=\"A\" and ch<=\"D\":\n",
    "    match(ch):\n",
    "        case \"A\":print(\"Addition of two numbers is  : \",x+y)\n",
    "        case \"B\":print(\"Subtraction of two numbers is  : \",x-y)\n",
    "        case \"C\":print(\"Multiplication of two numbers is  : \",x*y)\n",
    "        case \"D\":print(\"Division of two numbers is  : \",x/y)\n",
    "        case _ : print(\"Invalid Input\")\n",
    "else:\n",
    "    print(\"Kindly Please Choose option from above.\")\n"
   ]
  },
  {
   "cell_type": "code",
   "execution_count": null,
   "id": "eb1fdaba",
   "metadata": {},
   "outputs": [],
   "source": [
    "Write a Python program to input electricity unit charges and calculate total\n",
    "electricity bill according to the given condition:\n",
    "For first 50 units Rs. 8.50/unit\n",
    "For next 100 units Rs. 9.75/unit\n",
    "For next 100 units Rs. 10.20/unit\n",
    "For unit above 250 Rs. 12.50/unit\n",
    "An additional GST of 18% is added to the bill"
   ]
  },
  {
   "cell_type": "code",
   "execution_count": 19,
   "id": "92725c66",
   "metadata": {},
   "outputs": [
    {
     "name": "stdout",
     "output_type": "stream",
     "text": [
      "Enter the unit : 45\n",
      "Electricity Bill is  :  562.5\n",
      "Electricity Bill including gst 18% is  :  663.75\n"
     ]
    }
   ],
   "source": [
    "unit = int(input(\"Enter the unit : \"))\n",
    "if unit>=50:\n",
    "    bill = unit*8.50\n",
    "elif unit>50 and unit<=150:\n",
    "    bill = unit*9.75\n",
    "elif unit>150 and unit<=250:\n",
    "    bill = unit*10.20\n",
    "else:\n",
    "    bill = unit*12.50\n",
    "    \n",
    "total_bill = bill+bill*0.18\n",
    "print(\"Electricity Bill is  : \",bill)\n",
    "print(\"Electricity Bill including gst 18% is  : \",total_bill)"
   ]
  }
 ],
 "metadata": {
  "kernelspec": {
   "display_name": "Python 3 (ipykernel)",
   "language": "python",
   "name": "python3"
  },
  "language_info": {
   "codemirror_mode": {
    "name": "ipython",
    "version": 3
   },
   "file_extension": ".py",
   "mimetype": "text/x-python",
   "name": "python",
   "nbconvert_exporter": "python",
   "pygments_lexer": "ipython3",
   "version": "3.11.0"
  }
 },
 "nbformat": 4,
 "nbformat_minor": 5
}
