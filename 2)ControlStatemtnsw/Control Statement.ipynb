{
 "cells": [
  {
   "cell_type": "code",
   "execution_count": 1,
   "id": "65db8e9f",
   "metadata": {},
   "outputs": [
    {
     "ename": "SyntaxError",
     "evalue": "invalid syntax (23094773.py, line 1)",
     "output_type": "error",
     "traceback": [
      "\u001b[1;36m  Cell \u001b[1;32mIn[1], line 1\u001b[1;36m\u001b[0m\n\u001b[1;33m    Relational operator\u001b[0m\n\u001b[1;37m               ^\u001b[0m\n\u001b[1;31mSyntaxError\u001b[0m\u001b[1;31m:\u001b[0m invalid syntax\n"
     ]
    }
   ],
   "source": [
    "Relational operator \n",
    "logical operator \n",
    "identity operator \n",
    "membership operator\n",
    "\n",
    "Control Statement : \n",
    "    decision making : \n",
    "        - if-else\n",
    "        - if-elif\n",
    "        --only if \n",
    "        -- nested if-else\n",
    "    \n",
    "        -match-case \n",
    "    \n",
    "    looping : \n",
    "        -while \n",
    "        -for\n",
    "range(start,stop-1,step)\n",
    "branching statement/ transfer statement \n",
    " -- break\n",
    " -- continue\n",
    " -- pass(...)"
   ]
  },
  {
   "cell_type": "markdown",
   "id": "138e8553",
   "metadata": {},
   "source": [
    "# Relational Operator"
   ]
  },
  {
   "cell_type": "code",
   "execution_count": null,
   "id": "19834dbc",
   "metadata": {},
   "outputs": [],
   "source": [
    "== , > , <, >=, <=, !="
   ]
  },
  {
   "cell_type": "code",
   "execution_count": null,
   "id": "3f5f81e5",
   "metadata": {},
   "outputs": [],
   "source": [
    "0!=0"
   ]
  },
  {
   "cell_type": "markdown",
   "id": "553ace39",
   "metadata": {},
   "source": [
    "# Logical Operator"
   ]
  },
  {
   "cell_type": "markdown",
   "id": "8a68a8f4",
   "metadata": {},
   "source": [
    "and or not"
   ]
  },
  {
   "cell_type": "code",
   "execution_count": 2,
   "id": "f379cc27",
   "metadata": {},
   "outputs": [
    {
     "name": "stdout",
     "output_type": "stream",
     "text": [
      "True\n",
      "False\n",
      "False\n",
      "False\n"
     ]
    }
   ],
   "source": [
    "print(True and True)\n",
    "print(True and False)\n",
    "print(False and True)\n",
    "print(False and False)"
   ]
  },
  {
   "cell_type": "code",
   "execution_count": 3,
   "id": "c9f31f3e",
   "metadata": {},
   "outputs": [
    {
     "name": "stdout",
     "output_type": "stream",
     "text": [
      "True\n",
      "True\n",
      "True\n",
      "False\n"
     ]
    }
   ],
   "source": [
    "print(True or True)\n",
    "print(True or False)\n",
    "print(False or True)\n",
    "print(False or False)"
   ]
  },
  {
   "cell_type": "code",
   "execution_count": 4,
   "id": "f175d1ac",
   "metadata": {},
   "outputs": [
    {
     "name": "stdout",
     "output_type": "stream",
     "text": [
      "False\n",
      "True\n"
     ]
    }
   ],
   "source": [
    "print(not True)\n",
    "print(not False)"
   ]
  },
  {
   "cell_type": "markdown",
   "id": "0868db19",
   "metadata": {},
   "source": [
    "# Identity Operator "
   ]
  },
  {
   "cell_type": "markdown",
   "id": "6d1b31b7",
   "metadata": {},
   "source": [
    "is , is not"
   ]
  },
  {
   "cell_type": "code",
   "execution_count": 5,
   "id": "262b874d",
   "metadata": {},
   "outputs": [
    {
     "name": "stdout",
     "output_type": "stream",
     "text": [
      "2689255515568\n",
      "2689255517488\n",
      "False\n"
     ]
    }
   ],
   "source": [
    "x = 3456\n",
    "y = 3456\n",
    "print(id(x))\n",
    "print(id(y))\n",
    "print(x is y)"
   ]
  },
  {
   "cell_type": "code",
   "execution_count": 6,
   "id": "cfc3c758",
   "metadata": {},
   "outputs": [],
   "source": [
    "z = x"
   ]
  },
  {
   "cell_type": "code",
   "execution_count": 7,
   "id": "37d4e815",
   "metadata": {},
   "outputs": [
    {
     "name": "stdout",
     "output_type": "stream",
     "text": [
      "2689255515568\n"
     ]
    }
   ],
   "source": [
    "print(id(z))"
   ]
  },
  {
   "cell_type": "code",
   "execution_count": 8,
   "id": "222fdb9b",
   "metadata": {},
   "outputs": [
    {
     "name": "stdout",
     "output_type": "stream",
     "text": [
      "False\n"
     ]
    }
   ],
   "source": [
    "print(z is not x)"
   ]
  },
  {
   "cell_type": "markdown",
   "id": "e38cd1f3",
   "metadata": {},
   "source": [
    "# Membership operator "
   ]
  },
  {
   "cell_type": "code",
   "execution_count": 9,
   "id": "858442a5",
   "metadata": {},
   "outputs": [],
   "source": [
    "lt = [2,3,4,5,6,7,8]"
   ]
  },
  {
   "cell_type": "code",
   "execution_count": 10,
   "id": "7f98f1f9",
   "metadata": {},
   "outputs": [
    {
     "data": {
      "text/plain": [
       "True"
      ]
     },
     "execution_count": 10,
     "metadata": {},
     "output_type": "execute_result"
    }
   ],
   "source": [
    "4 in lt"
   ]
  },
  {
   "cell_type": "code",
   "execution_count": 11,
   "id": "2470d21b",
   "metadata": {},
   "outputs": [
    {
     "data": {
      "text/plain": [
       "True"
      ]
     },
     "execution_count": 11,
     "metadata": {},
     "output_type": "execute_result"
    }
   ],
   "source": [
    "45 not in lt"
   ]
  },
  {
   "cell_type": "markdown",
   "id": "7f84d3f6",
   "metadata": {},
   "source": [
    "# Decision Making"
   ]
  },
  {
   "cell_type": "code",
   "execution_count": 13,
   "id": "c14a5a3b",
   "metadata": {},
   "outputs": [
    {
     "name": "stdout",
     "output_type": "stream",
     "text": [
      "Enter the Last Balance : 7\n"
     ]
    }
   ],
   "source": [
    "# metro bal >10 (in)\n",
    "smart_card_bal = int(input(\"Enter the Last Balance : \"))\n",
    "if smart_card_bal>10:\n",
    "    print(\"please Enter!\")"
   ]
  },
  {
   "cell_type": "code",
   "execution_count": 15,
   "id": "b39cf583",
   "metadata": {},
   "outputs": [
    {
     "name": "stdout",
     "output_type": "stream",
     "text": [
      "Enter the Last Balance : 67\n",
      "please Enter!\n"
     ]
    }
   ],
   "source": [
    "# metro bal >10 (in)\n",
    "smart_card_bal = int(input(\"Enter the Last Balance : \"))\n",
    "if smart_card_bal>10:\n",
    "    print(\"please Enter!\")\n",
    "else:\n",
    "    print(\"Inssufient balance\")"
   ]
  },
  {
   "cell_type": "code",
   "execution_count": 20,
   "id": "fef899a8",
   "metadata": {},
   "outputs": [
    {
     "name": "stdout",
     "output_type": "stream",
     "text": [
      "Enter the Number : 0\n",
      "Even\n"
     ]
    }
   ],
   "source": [
    "#Even Odd\n",
    "n = int(input(\"Enter the Number : \"))\n",
    "if n%2==0:\n",
    "    print(\"Even\")\n",
    "else:\n",
    "    print(\"Odd\")"
   ]
  },
  {
   "cell_type": "code",
   "execution_count": 32,
   "id": "7d64524f",
   "metadata": {},
   "outputs": [
    {
     "name": "stdout",
     "output_type": "stream",
     "text": [
      "Enter the character : R\n",
      "Upper Case\n"
     ]
    }
   ],
   "source": [
    "#if-elif\n",
    "# alphaber is upper case or lower case \n",
    "ch = input(\"Enter the character : \")\n",
    "if ch>='A' and ch<='Z' :\n",
    "    print(\"Upper Case\")\n",
    "elif ch>='a' and ch<='z':\n",
    "    print(\"Lower Case\")\n",
    "else:\n",
    "    print(\"Invalid Input\")"
   ]
  },
  {
   "cell_type": "code",
   "execution_count": 34,
   "id": "53dd5e62",
   "metadata": {},
   "outputs": [
    {
     "name": "stdout",
     "output_type": "stream",
     "text": [
      "Enter the value1 :  23\n",
      "Enter the value2 :  54\n",
      "Enter the value3 :  65\n",
      "C is Greater\n"
     ]
    }
   ],
   "source": [
    "#Greater between three digits\n",
    "a = int(input(\"Enter the value1 :  \"))\n",
    "b = int(input(\"Enter the value2 :  \"))\n",
    "c = int(input(\"Enter the value3 :  \"))\n",
    "if a>b and a>c:\n",
    "    print(\"A is Greater\")\n",
    "elif b>a and b>c:\n",
    "    print(\"B is Greater\")\n",
    "else:\n",
    "    print(\"C is Greater\")"
   ]
  },
  {
   "cell_type": "code",
   "execution_count": 36,
   "id": "263042ca",
   "metadata": {},
   "outputs": [
    {
     "name": "stdout",
     "output_type": "stream",
     "text": [
      "Enter the value1 :  12\n",
      "Enter the value2 :  34\n",
      "Enter the value3 :  56\n",
      "C is Greater.\n"
     ]
    }
   ],
   "source": [
    "a = int(input(\"Enter the value1 :  \"))\n",
    "b = int(input(\"Enter the value2 :  \"))\n",
    "c = int(input(\"Enter the value3 :  \"))\n",
    "\n",
    "if a>b:\n",
    "    if a>c:\n",
    "        print(\"A is Greater.\")\n",
    "    else:\n",
    "        print(\"C is Greater.\")\n",
    "else:\n",
    "    if b>c:\n",
    "        print(\"B is Greater.\")\n",
    "    else:\n",
    "        print(\"C is Greater.\")"
   ]
  },
  {
   "cell_type": "code",
   "execution_count": null,
   "id": "4189ced0",
   "metadata": {},
   "outputs": [],
   "source": [
    "❏ Write a Python program to input basic salary of an employee and calculate its\n",
    "Gross salary according to following:\n",
    "Basic Salary <= 10000 : HRA = 20%, DA = 80%\n",
    "Basic Salary <= 20000 : HRA = 25%, DA = 90%\n",
    "Basic Salary > 20000 : HRA = 30%, DA = 95%"
   ]
  },
  {
   "cell_type": "code",
   "execution_count": 42,
   "id": "5775859c",
   "metadata": {},
   "outputs": [
    {
     "name": "stdout",
     "output_type": "stream",
     "text": [
      "Enter the Basic Salary : 56\n",
      "Gross Salary is  : 112.00\n"
     ]
    }
   ],
   "source": [
    "bs = eval(input(\"Enter the Basic Salary : \"))\n",
    "if bs<=10000:\n",
    "    gs=bs + (bs*20/100)+(bs*80/100)\n",
    "elif bs>10000 and bs<=20000:\n",
    "    gs=bs + (bs*25/100)+(bs*90/100)\n",
    "else:\n",
    "    gs=bs + (bs*30/100)+(bs*95/100)\n",
    "    \n",
    "    \n",
    "print(\"Gross Salary is  : %.2f\"%gs)"
   ]
  },
  {
   "cell_type": "markdown",
   "id": "84edb193",
   "metadata": {},
   "source": [
    "❏ Write a Python program to input any alphabet and check whether it is vowel or\n",
    "consonant."
   ]
  },
  {
   "cell_type": "code",
   "execution_count": null,
   "id": "37724f5d",
   "metadata": {},
   "outputs": [],
   "source": []
  }
 ],
 "metadata": {
  "kernelspec": {
   "display_name": "Python 3 (ipykernel)",
   "language": "python",
   "name": "python3"
  },
  "language_info": {
   "codemirror_mode": {
    "name": "ipython",
    "version": 3
   },
   "file_extension": ".py",
   "mimetype": "text/x-python",
   "name": "python",
   "nbconvert_exporter": "python",
   "pygments_lexer": "ipython3",
   "version": "3.11.0"
  }
 },
 "nbformat": 4,
 "nbformat_minor": 5
}
