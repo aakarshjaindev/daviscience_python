{
 "cells": [
  {
   "cell_type": "code",
   "execution_count": 11,
   "id": "d345448f",
   "metadata": {},
   "outputs": [
    {
     "name": "stdout",
     "output_type": "stream",
     "text": [
      "Method :  30\n"
     ]
    },
    {
     "data": {
      "text/plain": [
       "10"
      ]
     },
     "execution_count": 11,
     "metadata": {},
     "output_type": "execute_result"
    }
   ],
   "source": [
    "class A:\n",
    "    a = 10 # class level\n",
    "    def fun(self):\n",
    "        a = 30 #method level\n",
    "        print(\"Method : \",a)\n",
    "#object creation\n",
    "obj = A()\n",
    "obj.fun()\n",
    "obj.a"
   ]
  },
  {
   "cell_type": "code",
   "execution_count": 13,
   "id": "fe78dfe0",
   "metadata": {},
   "outputs": [
    {
     "name": "stdout",
     "output_type": "stream",
     "text": [
      "Constructor\n",
      "Method\n"
     ]
    }
   ],
   "source": [
    "#constructor\n",
    "class A:\n",
    "    x = 0\n",
    "    def __init__(self,x):\n",
    "        self.x = x\n",
    "        #print(\"Constructor\")\n",
    "    def fun(self):\n",
    "        print(\"Method: \",self.x)\n",
    "        \n",
    "obj = A(20)\n",
    "obj.fun()"
   ]
  },
  {
   "cell_type": "markdown",
   "id": "a590b930",
   "metadata": {},
   "source": [
    "How to Define a Class in Python?\n",
    "Classes in Python can be defined by the keyword class, which is followed by the name of the class and a colon.\n"
   ]
  },
  {
   "cell_type": "code",
   "execution_count": 20,
   "id": "c594743c",
   "metadata": {},
   "outputs": [
    {
     "name": "stdout",
     "output_type": "stream",
     "text": [
      "Destructor\n",
      "Class Level a is :  10\n",
      "M1 a is :  56\n",
      "class level a is :  5\n",
      "Class Level Variable is :  5\n"
     ]
    }
   ],
   "source": [
    "class Human:\n",
    "    def m1(self,a):\n",
    "        self.a = 5\n",
    "        print(\"M1 a is : \",a)#2\n",
    "        print(\"class level a is : \",self.a)#2\n",
    "    def m2(self,b):\n",
    "        self.a = 10\n",
    "        print(\"Class Level a is : \",self.a)\n",
    "        self.m1(56)\n",
    "    \n",
    "    \n",
    "obj = Human()    \n",
    "\n",
    "obj.m2(23)\n",
    "print(\"Class Level Variable is : \",obj.a)"
   ]
  },
  {
   "cell_type": "code",
   "execution_count": 21,
   "id": "32734216",
   "metadata": {},
   "outputs": [
    {
     "name": "stdout",
     "output_type": "stream",
     "text": [
      "Area Rectangle :  12\n"
     ]
    }
   ],
   "source": [
    "# class\n",
    "class Test:\n",
    "    #class level\n",
    "    #constructor\n",
    "    def __init__(self,l,b):\n",
    "        self.l = l\n",
    "        self.b = b\n",
    "       # print(\"Constructor\")    \n",
    "    def fun(self):\n",
    "        #method Level\n",
    "        #print(\"value of a is : \",self.a)\n",
    "        print(\"Area Rectangle : \",self.l*self.b)\n",
    "\n",
    "#object \n",
    "obj = Test(3,4)\n",
    "obj.fun()\n"
   ]
  },
  {
   "cell_type": "code",
   "execution_count": 22,
   "id": "14b4208e",
   "metadata": {},
   "outputs": [
    {
     "name": "stdout",
     "output_type": "stream",
     "text": [
      "Result is :  44\n"
     ]
    }
   ],
   "source": [
    "#constructor\n",
    "class Test:\n",
    "    #a = 10\n",
    "    def __init__(self,x):\n",
    "        self.a=x\n",
    "    def m1(self): \n",
    "        print(\"Result is : \",self.a)\n",
    "obj = Test(34)\n",
    "obj = Test(44)\n",
    "obj.m1()\n"
   ]
  },
  {
   "cell_type": "code",
   "execution_count": 23,
   "id": "5fdb7726",
   "metadata": {},
   "outputs": [
    {
     "name": "stdout",
     "output_type": "stream",
     "text": [
      "Method1\n",
      "Prachi\n"
     ]
    }
   ],
   "source": [
    "class Student:\n",
    "    stu_nm = \"Davi\"\n",
    "    cous_nm = \"Python\"\n",
    "    def __init__(self,stu_nm,cous_nm):\n",
    "        self.stu_nm = stu_nm\n",
    "        #Student.stu_nm = stu_nm\n",
    "        #print(stu_nm)\n",
    "        \n",
    "    def m1(self):\n",
    "        print(\"Method1\")\n",
    "        #print(id(self.stu_nm))\n",
    "            \n",
    "\n",
    "#obj = Student(\"Rahul\",\"JAVA\")\n",
    "x = Student(\"Prachi\",\"C++\")\n",
    "x.m1()\n",
    "print(x.stu_nm)\n",
    "#Student.m1(obj)\n",
    "#print(obj)\n",
    "#Student.stu_nm= \"rohit\"\n",
    "#print(Student.stu_nm)\n"
   ]
  },
  {
   "cell_type": "code",
   "execution_count": 7,
   "id": "f5a38ec4",
   "metadata": {},
   "outputs": [
    {
     "name": "stdout",
     "output_type": "stream",
     "text": [
      "10\n"
     ]
    }
   ],
   "source": [
    "class Python:\n",
    "    a = 10\n",
    "\n",
    "obj = Python()\n",
    "print(obj.a)\n",
    "    "
   ]
  },
  {
   "cell_type": "code",
   "execution_count": null,
   "id": "b7f5e006",
   "metadata": {},
   "outputs": [],
   "source": []
  },
  {
   "cell_type": "markdown",
   "id": "5aac740f",
   "metadata": {},
   "source": [
    "'pass' is commonly used as placeholders, in the place of code whose implementation we may skip for the time being. \"pass\" allows us to run the code without throwing an error in Python."
   ]
  },
  {
   "cell_type": "markdown",
   "id": "82097007",
   "metadata": {},
   "source": [
    "\" __init__ \" method"
   ]
  },
  {
   "cell_type": "markdown",
   "id": "e27e9808",
   "metadata": {},
   "source": [
    "The Default __init__ Constructor in C++ and Java. Constructors are used to initializing the object’s state. The task of constructors is to initialize(assign values) to the data members of the class when an object of the class is created. Like methods, a constructor also contains a collection of statements(i.e. instructions) that are executed at the time of Object creation. It is run as soon as an object of a class is instantiated. The method is useful to do any initialization you want to do with your object."
   ]
  },
  {
   "cell_type": "markdown",
   "id": "7c4fa70c",
   "metadata": {},
   "source": [
    "The self parameter is a reference to the current instance of the class, and is used to access variables that belongs to the class."
   ]
  },
  {
   "cell_type": "markdown",
   "id": "ebf196c4",
   "metadata": {},
   "source": [
    "Class Attribute:\n",
    "These are the variables that are same for all instances of the class. They do not have new values for each new instance created. They are defined just below the class definition."
   ]
  },
  {
   "cell_type": "code",
   "execution_count": 4,
   "id": "81ab99ff",
   "metadata": {},
   "outputs": [],
   "source": [
    "class Human:\n",
    "    #class attribute\n",
    "    species = \"Homo Sapiens\""
   ]
  },
  {
   "cell_type": "markdown",
   "id": "4fe4304a",
   "metadata": {},
   "source": [
    "the species will have a fixed value for any object we create.\n",
    "\n"
   ]
  },
  {
   "cell_type": "markdown",
   "id": "bb1bed78",
   "metadata": {},
   "source": [
    "Instance Attribute:\n",
    "Instance attributes are the variables which are defined inside of any function in class. Instance attribute have different values for every instance of the class. These values depends upon the value we pass while creating the instance."
   ]
  },
  {
   "cell_type": "code",
   "execution_count": 5,
   "id": "dcf15520",
   "metadata": {},
   "outputs": [],
   "source": [
    "class Human:\n",
    "    #class attribute\n",
    "    #name,age,gender\n",
    "    species = \"Homo Sapiens\"\n",
    "    def __init__(self, name, age, gender):\n",
    "        self.name = name\n",
    "        self.age = age\n",
    "        self.gender = gender"
   ]
  },
  {
   "cell_type": "markdown",
   "id": "2b3fb3ab",
   "metadata": {},
   "source": [
    "Here, name,age and gender are the instance attributes. They will have different values as for new instances of class."
   ]
  },
  {
   "cell_type": "markdown",
   "id": "3ad49c97",
   "metadata": {},
   "source": [
    "Creating an Object in Class\n",
    "When we create a new object from a class, it is called instantiating an object. An object can be instantiated by the class name followed by the parantheses. We can assign the object of a class to any variable."
   ]
  },
  {
   "cell_type": "markdown",
   "id": "cc0d315a",
   "metadata": {},
   "source": [
    " x = ClassName()"
   ]
  },
  {
   "cell_type": "code",
   "execution_count": 25,
   "id": "f40ff9a8",
   "metadata": {},
   "outputs": [],
   "source": [
    "class Human:\n",
    "    #class attribute\n",
    "    #species = \"Homo Sapiens\"\n",
    "    def __init__(self, name, age, gender):\n",
    "        self.name = name\n",
    "        self.age = age\n",
    "        self.gender = gender\n",
    "        \n",
    "x = Human(\"Ron\", 15, \"Male\") \n",
    "y = Human(\"Miley\", 22, \"Female\")"
   ]
  },
  {
   "cell_type": "markdown",
   "id": "d97f74f8",
   "metadata": {},
   "source": [
    "NOTE : If we do not pass the required arguments, it will throw a TypeError: TypeError: init() missing 3 required positional arguments: 'name', 'age' and 'gender'."
   ]
  },
  {
   "cell_type": "markdown",
   "id": "fdd754a1",
   "metadata": {},
   "source": [
    " We can access the values of the instances by using the dot notation."
   ]
  },
  {
   "cell_type": "code",
   "execution_count": 27,
   "id": "945f50de",
   "metadata": {},
   "outputs": [
    {
     "name": "stdout",
     "output_type": "stream",
     "text": [
      "Ron\n",
      "Female\n"
     ]
    }
   ],
   "source": [
    "class Human:\n",
    "    #class attribute\n",
    "    #species = \"Homo Sapiens\"\n",
    "    def __init__(self, name, age, gender):\n",
    "        self.name = name\n",
    "        self.age = age\n",
    "        self.gender = gender\n",
    "        \n",
    "x = Human(\"Ron\", 15, \"Male\") \n",
    "y = Human(\"Miley\", 22, \"Female\")\n",
    "print(x.age)\n",
    "print(y.gender)"
   ]
  },
  {
   "cell_type": "code",
   "execution_count": 2,
   "id": "3b9267f9",
   "metadata": {},
   "outputs": [
    {
     "name": "stdout",
     "output_type": "stream",
     "text": [
      "23\n",
      "34\n",
      "method 54\n"
     ]
    }
   ],
   "source": [
    "class Test:\n",
    "    def __init__(self,a,b,c):\n",
    "        self.a = a\n",
    "        self.b = b\n",
    "        self.c = c\n",
    "    def fun(self,*a):\n",
    "        print(\"method\",a[2])\n",
    "        \n",
    "k = Test(23,45,67)\n",
    "l = Test(45,65,34)\n",
    "print(k.a)\n",
    "print(l.c)\n",
    "k.fun(23,34,54)"
   ]
  },
  {
   "cell_type": "code",
   "execution_count": 28,
   "id": "9f870406",
   "metadata": {},
   "outputs": [
    {
     "name": "stdout",
     "output_type": "stream",
     "text": [
      "Constructor\n",
      "Constructor\n",
      "Homo Sapiens\n",
      "Homo Sapiens\n",
      "Hi! My name is Rehan. I am a male, and I am 15 years old\n",
      "Hi! My name is Miley. I am a female, and I am 22 years old\n"
     ]
    }
   ],
   "source": [
    "class Human:\n",
    "    species = \"Homo Sapiens\"\n",
    "\n",
    "    def __init__(self, *args):\n",
    "        self.name = args[0]\n",
    "        self.age = args[1]\n",
    "        self.gender = args[2]\n",
    "        #self.nm = args[3]\n",
    "        print(\"Constructor\")\n",
    "    def method(self):\n",
    "        pass\n",
    "\n",
    "#[rehan,15,male]\n",
    "# x and y are instances of class Human\n",
    "x = Human(\"Rehan\", 15, \"male\",\"Shubham\")\n",
    "y = Human(\"Miley\", 22, \"female\")\n",
    "\n",
    "print(x.species)  # species are class attributes, hence will have same value for all instances\n",
    "print(y.species)\n",
    "\n",
    "# name, gender and age will have different values per instance, because they are instance attributes\n",
    "print(f\"Hi! My name is {x.name}. I am a {x.gender}, and I am {x.age} years old\")\n",
    "print(f\"Hi! My name is {y.name}. I am a {y.gender}, and I am {y.age} years old\")\n",
    "#del x\n",
    "#del y"
   ]
  },
  {
   "cell_type": "code",
   "execution_count": 22,
   "id": "666dde59",
   "metadata": {},
   "outputs": [
    {
     "name": "stdout",
     "output_type": "stream",
     "text": [
      "Contructor.\n"
     ]
    }
   ],
   "source": [
    "class Test:\n",
    "    def __init__(self):\n",
    "        print(\"Contructor.\")\n",
    "    def __del__(self):\n",
    "        print(\"Destructor.\")\n",
    "    \n",
    "obj = Test()\n",
    "#del obj\n"
   ]
  },
  {
   "cell_type": "code",
   "execution_count": 29,
   "id": "1c578904",
   "metadata": {},
   "outputs": [
    {
     "name": "stdout",
     "output_type": "stream",
     "text": [
      "Recei1, 2, ved: (1, 2, 3)\n",
      "Destructor\n",
      "Recei1, 2, ved: ([1, 2, 3], 2)\n",
      "Received a list\n"
     ]
    }
   ],
   "source": [
    "class Dataset():\n",
    "    def __init__(self, *args):\n",
    "        if isinstance(args[0], list) and len(args) == 1:\n",
    "            print('Received a list')\n",
    "        else:\n",
    "            print('Recei1, 2, ved:', args)\n",
    "\n",
    "obj = Dataset(1,2,3)\n",
    "obj = Dataset([1,2,3], 2)\n",
    "obj = Dataset([1,2,3])"
   ]
  },
  {
   "cell_type": "code",
   "execution_count": null,
   "id": "d7b7abe2",
   "metadata": {},
   "outputs": [],
   "source": []
  }
 ],
 "metadata": {
  "kernelspec": {
   "display_name": "Python 3 (ipykernel)",
   "language": "python",
   "name": "python3"
  },
  "language_info": {
   "codemirror_mode": {
    "name": "ipython",
    "version": 3
   },
   "file_extension": ".py",
   "mimetype": "text/x-python",
   "name": "python",
   "nbconvert_exporter": "python",
   "pygments_lexer": "ipython3",
   "version": "3.11.0"
  }
 },
 "nbformat": 4,
 "nbformat_minor": 5
}
