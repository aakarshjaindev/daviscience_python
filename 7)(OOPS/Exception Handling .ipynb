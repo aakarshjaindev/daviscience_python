{
 "cells": [
  {
   "cell_type": "markdown",
   "id": "ba4fa0ec",
   "metadata": {},
   "source": [
    "Exceptions are errors that are detected during execution. Whenever there is an error in a program, exceptions are raised."
   ]
  },
  {
   "cell_type": "markdown",
   "id": "2502545a",
   "metadata": {},
   "source": [
    "an exception is a class that represents error. If these exceptions are not handled, our application or programs go into a crash state. As a developer, we definitely have the power to write code and solve problems but it becomes our responsibility to handle these exceptions that might occur and disrupt the code flow."
   ]
  },
  {
   "cell_type": "code",
   "execution_count": 2,
   "id": "b6b5f361",
   "metadata": {
    "scrolled": true
   },
   "outputs": [
    {
     "ename": "ZeroDivisionError",
     "evalue": "division by zero",
     "output_type": "error",
     "traceback": [
      "\u001b[1;31m---------------------------------------------------------------------------\u001b[0m",
      "\u001b[1;31mZeroDivisionError\u001b[0m                         Traceback (most recent call last)",
      "Cell \u001b[1;32mIn[2], line 3\u001b[0m\n\u001b[0;32m      1\u001b[0m a \u001b[38;5;241m=\u001b[39m \u001b[38;5;241m10\u001b[39m\n\u001b[0;32m      2\u001b[0m b \u001b[38;5;241m=\u001b[39m \u001b[38;5;241m0\u001b[39m\n\u001b[1;32m----> 3\u001b[0m \u001b[38;5;28mprint\u001b[39m(\u001b[43ma\u001b[49m\u001b[38;5;241;43m/\u001b[39;49m\u001b[43mb\u001b[49m)\n",
      "\u001b[1;31mZeroDivisionError\u001b[0m: division by zero"
     ]
    }
   ],
   "source": [
    "a = 10\n",
    "b = 0\n",
    "print(a/b)"
   ]
  },
  {
   "cell_type": "markdown",
   "id": "844b3e51",
   "metadata": {},
   "source": [
    "Exceptions can be unexpected or in some cases, a developer might expect some disruption in the code flow due to an exception that might come up in a specific scenario. Either way, it needs to be handled."
   ]
  },
  {
   "cell_type": "markdown",
   "id": "fe48b730",
   "metadata": {},
   "source": [
    "Try block allows us to write the code that is prone to exceptions or errors. If any exception occurs inside the try block, the except block is triggered, in which you can handle the exception as now the code will not go into a halt state but the control will flow into the except block where it can be manually handled."
   ]
  },
  {
   "cell_type": "markdown",
   "id": "6e8a00ca",
   "metadata": {},
   "source": [
    "Any critical code block can be written inside a try clause. Once the expected or unexpected exception is raised inside this try, it can be handled inside the except clause (This ‘except’ clause is triggered when an exception is raised inside ‘try’), as this except block detects any exception raised in the try block. By default, except detects all types of exceptions, as all the built-in exceptions in python are inherited from common class Exception."
   ]
  },
  {
   "cell_type": "code",
   "execution_count": null,
   "id": "155a34f8",
   "metadata": {},
   "outputs": [],
   "source": [
    "try:\n",
    "    # Some Code\n",
    "except:\n",
    "    # Executed if we get an error in the try block\n",
    "    # Handle exception here"
   ]
  },
  {
   "cell_type": "markdown",
   "id": "a2cf2b48",
   "metadata": {},
   "source": [
    "Try and except go hand in hand i.e. the syntax is to write and use both of them. Writing just try or except will give an error."
   ]
  },
  {
   "cell_type": "code",
   "execution_count": 4,
   "id": "41031f71",
   "metadata": {},
   "outputs": [
    {
     "name": "stdout",
     "output_type": "stream",
     "text": [
      "some exception occured\n"
     ]
    }
   ],
   "source": [
    "def divideNos(a, b):\n",
    "    return a/b\n",
    " \n",
    "try:\n",
    "    print(divideNos(10, 0))\n",
    "except:\n",
    "    print('some exception occured')"
   ]
  },
  {
   "cell_type": "code",
   "execution_count": 5,
   "id": "0ecb784e",
   "metadata": {},
   "outputs": [
    {
     "name": "stdout",
     "output_type": "stream",
     "text": [
      "division by zero\n",
      "<class 'ZeroDivisionError'>\n"
     ]
    }
   ],
   "source": [
    "def divideNos(a, b):\n",
    "    return a/b\n",
    "try:\n",
    "    print(divideNos(10, 0))\n",
    "# Any exception raised by the python interpreter, is inherited by the base class ‘Exception’, hence any exception raised in the try block will be detected and collected further in the except block for handling.\n",
    "except Exception as e:\n",
    "    print(e) # as e is an object of type Exception, Printing here to see what message it holds. \n",
    "    print(type(e))\n",
    "    #print(\"Cannot divide by zero\")"
   ]
  },
  {
   "cell_type": "markdown",
   "id": "cc149d52",
   "metadata": {},
   "source": [
    "In the above code, we used the Exception class with the except statement. It is used by using the as keyword. This object will contain the cause of the exception and we’re printing it in order to look what the reason is inside this Exception object."
   ]
  },
  {
   "cell_type": "code",
   "execution_count": null,
   "id": "fecc3834",
   "metadata": {},
   "outputs": [],
   "source": [
    "Exception Name\tDescription\n",
    "Exception\tAll exceptions inherit this class as the base class for all exceptions.\n",
    "StopIteration\tRaised when the next() method of an iterator while iteration does not point to any object\n",
    "StandardError\tAll exceptions inherit this class except stop StopIteration and SystemExit\n",
    "ArithmeticError\tErrors that occur during numeric calculation are inherited by it.\n",
    "OverflowError\tWhen a calculation exceeds the max limit for a specific numeric data type\n",
    "ZeroDivisionError\tRaised when division or modulo by zero takes place.\n",
    "AssertionError\tRaised when an assert statement fails\n",
    "AttributeError\tRaised in case of failure of attribute assignment\n",
    "EOFError\tRaised when the end of file is reached, usually occurs when there is no input from input() function\n",
    "ImportError\tRaised when an import statement fails\n",
    "NameError\tRaised when an identifier is not found in the local or non-local or global scope.\n",
    "SyntaxError\tRaised when there is an error in python syntax.\n",
    "IndentationError\tRaised when indentation is not proper\n",
    "TypeError\tRaised when a specific operation of a function is triggered for an invalid data type\n",
    "ValueError\tRaised when invalid values are provided to the arguments of some builtIn function for a data type that has a valid type of arguments.\n",
    "RuntimeError\tRaised when an error does not fall into any other category\n",
    "NotImplementedError\tRaised when an abstract method that needs to be implemented in an inherited class is not actually implemented."
   ]
  },
  {
   "cell_type": "code",
   "execution_count": 17,
   "id": "a4f4b547",
   "metadata": {},
   "outputs": [
    {
     "name": "stdout",
     "output_type": "stream",
     "text": [
      "enter a:2\n",
      "enter b:3\n",
      "after division 0.6666666666666666\n",
      "index error\n"
     ]
    }
   ],
   "source": [
    "def divideNos(a,b):\n",
    "    return a/b # An exception might raise here if b is 0 (ZeroDivisionError)\n",
    "try:\n",
    "    a = int(input('enter a:'))\n",
    "    b = int(input('enter b:'))\n",
    "   \n",
    "    x = [1, 2, 3]\n",
    "    print('after division',divideNos(a,b))\n",
    "    print(x[4]) # An exception will raise here as size of array ‘a’ is 3 hence is accessible only up until 2nd index\n",
    "# if IndexError exception is raised\n",
    "except IndexError:            \n",
    "    print('index error')\n",
    "# if ZeroDivisionError exception is raised\n",
    "except ZeroDivisionError:\n",
    "    print('zero division error')\n",
    "except Exception as e :\n",
    "    print(\"Some error occurred\")"
   ]
  },
  {
   "cell_type": "markdown",
   "id": "d4019987",
   "metadata": {},
   "source": [
    "In the above code the exceptions raised totally depend upon the input that the user might enter. Hence if a user enters a value as 0 for ‘b’, the python interpreter will raise a ZeroDivisionError."
   ]
  },
  {
   "cell_type": "markdown",
   "id": "d166cdd4",
   "metadata": {},
   "source": [
    "And as the array ‘a’ has a length of 3, and the user is trying to access an element at index 3, an IndexError will be raised by the python interpreter."
   ]
  },
  {
   "cell_type": "markdown",
   "id": "7dd3d980",
   "metadata": {},
   "source": [
    "Each except block has been defined for both the exceptions as one of them receives exceptions of type IndexError and the other receives of type ZeroDivisionError."
   ]
  },
  {
   "cell_type": "markdown",
   "id": "6d93afe0",
   "metadata": {},
   "source": [
    "catch exception for both IndexError OR ZeroDivisionError"
   ]
  },
  {
   "cell_type": "code",
   "execution_count": 10,
   "id": "e2bd7184",
   "metadata": {},
   "outputs": [
    {
     "name": "stdout",
     "output_type": "stream",
     "text": [
      "enter a:2\n",
      "enter b:0\n",
      "index error OR zero division error\n"
     ]
    }
   ],
   "source": [
    "def divideNos(a, b):\n",
    "     return a/b\n",
    "try:\n",
    "    a = int(input('enter a:'))\n",
    "    b = int(input('enter b:'))\n",
    "    print('after division', divideNos(a,b))\n",
    "    a = [1, 2, 3]\n",
    "    print(a[3])\n",
    "except (IndexError, ZeroDivisionError):\n",
    "    print('index error OR zero division error')"
   ]
  },
  {
   "cell_type": "markdown",
   "id": "f9df2477",
   "metadata": {},
   "source": [
    "Even though exceptions in python are automatically raised in runtime when some error occurs. Custom and predefined exceptions can also be thrown manually by raising it for specific conditions or a scenario using the raise keyword. "
   ]
  },
  {
   "cell_type": "raw",
   "id": "460cfc9c",
   "metadata": {},
   "source": [
    "try:\n",
    "    # on some specific condition or otherwise\n",
    "    raise SomeError(OptionalMsg)\n",
    "Except SomeError as e:\n",
    "    # Executed if we get an error in the try block\n",
    "    # Handle exception ‘e’ accordingly"
   ]
  },
  {
   "cell_type": "code",
   "execution_count": 16,
   "id": "15e1939a",
   "metadata": {},
   "outputs": [
    {
     "name": "stdout",
     "output_type": "stream",
     "text": [
      "TypeError raised: a has to be string\n"
     ]
    }
   ],
   "source": [
    "def isStringEmpty(a):\n",
    "    if(type(a)!=str):\n",
    "        raise TypeError('a has to be string')\n",
    " \n",
    "    if(a ==''):\n",
    "        return False\n",
    "    return True\n",
    " \n",
    "try:\n",
    "    a=45\n",
    "    print('isStringEmpty:', isStringEmpty(a))\n",
    "\n",
    "except TypeError as t:\n",
    "    print('TypeError raised:', t)"
   ]
  },
  {
   "cell_type": "markdown",
   "id": "60133269",
   "metadata": {},
   "source": [
    "In the above code, the variable ‘a’ can hold whatever value that is assigned to it. Here we assign it a number and we’re passing to a custom method isStringEmpty that checks if a string is an empty string."
   ]
  },
  {
   "cell_type": "markdown",
   "id": "8deb923d",
   "metadata": {},
   "source": [
    "But we orchestrated it to throw a TypeError, by assigning ‘a’ variable a number."
   ]
  },
  {
   "cell_type": "markdown",
   "id": "a5043961",
   "metadata": {},
   "source": [
    "In the method, we’re checking if the variable is a string or not and if it holds a value or not. In this case, it is supposed to be a string, but assigned it as a number as we’re raising an exception by using"
   ]
  },
  {
   "cell_type": "markdown",
   "id": "6e050cc2",
   "metadata": {},
   "source": [
    "try except and ELSE!\n",
    "Sometimes you might have a use case where you want to run some specific code only when there are no exceptions. For such scenarios, the else keyword can be used with the try block. Note that this else keyword and its block are optional.\n",
    "\n"
   ]
  },
  {
   "cell_type": "code",
   "execution_count": null,
   "id": "4a5e6f5f",
   "metadata": {},
   "outputs": [],
   "source": [
    "try:\n",
    "    # on some specific condition or otherwise\n",
    "    raise SomeError(OptionalMsg)\n",
    "except SomeError as e:\n",
    "    # Executed if we get an error in the try block\n",
    "    # Handle exception ‘e’ accordingly\n",
    "else\n",
    "    # Executed if no exceptions are raised"
   ]
  },
  {
   "cell_type": "code",
   "execution_count": 17,
   "id": "cb1085f5",
   "metadata": {},
   "outputs": [
    {
     "name": "stdout",
     "output_type": "stream",
     "text": [
      "Exception raised\n"
     ]
    }
   ],
   "source": [
    "try:\n",
    " b = 10\n",
    " c = 0\n",
    " a = b/c\n",
    " print(a)\n",
    "except:\n",
    " print('Exception raised')\n",
    "else:\n",
    "  print('no exceptions raised')"
   ]
  },
  {
   "cell_type": "markdown",
   "id": "cb09b62c",
   "metadata": {},
   "source": [
    "As both the inputs are greater than 0 which is not a risk to DivideByZeroException, hence try block won’t raise any exception and hence ‘except’ block won’t be triggered. And only when the control doesn’t flow to the except block, it flows to the else block. Further handling can be done inside this else block if there is something you want to do.\n",
    "\n"
   ]
  },
  {
   "cell_type": "code",
   "execution_count": 18,
   "id": "0fb83f4c",
   "metadata": {},
   "outputs": [
    {
     "name": "stdout",
     "output_type": "stream",
     "text": [
      "5.0\n",
      "no exceptions raised\n"
     ]
    }
   ],
   "source": [
    "try:\n",
    "   b  = 10\n",
    "   c = 2\n",
    "   a = b/c\n",
    "   print(a)\n",
    "except Exception as e:\n",
    "   print('Exception raised:', e)\n",
    "else:\n",
    "   print('no exceptions raised')"
   ]
  },
  {
   "cell_type": "code",
   "execution_count": 24,
   "id": "b287afcc",
   "metadata": {},
   "outputs": [
    {
     "name": "stdout",
     "output_type": "stream",
     "text": [
      "5\n",
      "Done with Exception handling\n",
      "Temp Memory Delete\n"
     ]
    },
    {
     "ename": "NameError",
     "evalue": "name 'temp' is not defined",
     "output_type": "error",
     "traceback": [
      "\u001b[1;31m---------------------------------------------------------------------------\u001b[0m",
      "\u001b[1;31mNameError\u001b[0m                                 Traceback (most recent call last)",
      "Cell \u001b[1;32mIn[24], line 12\u001b[0m\n\u001b[0;32m     10\u001b[0m     \u001b[38;5;28;01mdel\u001b[39;00m temp\n\u001b[0;32m     11\u001b[0m     \u001b[38;5;28mprint\u001b[39m(\u001b[38;5;124m\"\u001b[39m\u001b[38;5;124mTemp Memory Delete\u001b[39m\u001b[38;5;124m\"\u001b[39m)\n\u001b[1;32m---> 12\u001b[0m \u001b[38;5;28mprint\u001b[39m(\u001b[43mtemp\u001b[49m)\n",
      "\u001b[1;31mNameError\u001b[0m: name 'temp' is not defined"
     ]
    }
   ],
   "source": [
    "try:\n",
    "    temp = [2,3,4,5]\n",
    "    print(temp[3])\n",
    "except:\n",
    "    print(\"Error Occured\")\n",
    "else:\n",
    "    print(\"Done with Exception handling\")\n",
    "\n",
    "finally:\n",
    "    del temp\n",
    "    print(\"Temp Memory Delete\")\n",
    "print(temp)"
   ]
  },
  {
   "cell_type": "markdown",
   "id": "d27a75d3",
   "metadata": {},
   "source": [
    "Try Clause with Finally\n",
    "Finally is a keyword that is used along with try and except, when we have a piece of code that is to be run irrespective of if try raises an exception or not. Code inside finally will always run after try and catch."
   ]
  },
  {
   "cell_type": "code",
   "execution_count": 25,
   "id": "43b354f4",
   "metadata": {},
   "outputs": [
    {
     "name": "stdout",
     "output_type": "stream",
     "text": [
      "in exception block:  list index out of range\n",
      "in finally block\n"
     ]
    }
   ],
   "source": [
    "try:\n",
    "    temp = [1, 2, 3]\n",
    "    print(temp[7])\n",
    "except Exception as e:\n",
    " print('in exception block: ', e)\n",
    "else:\n",
    " print('in else block')\n",
    "finally:\n",
    " print('in finally block')\n",
    " del temp\n"
   ]
  },
  {
   "cell_type": "markdown",
   "id": "cb1666d1",
   "metadata": {},
   "source": [
    "we’re creating an array with 3 elements, i.e. max index up till 2. But when we try to access the 4th index, it will raise an exception of index out of range and will be caught in the except block. But here we need to observe that the finally block has also been triggered."
   ]
  },
  {
   "cell_type": "markdown",
   "id": "0c957d4d",
   "metadata": {},
   "source": [
    "Note: else block will always be triggered before finally and finally will always trigger irrespective of any exceptions raised or not."
   ]
  },
  {
   "cell_type": "code",
   "execution_count": 17,
   "id": "63d65095",
   "metadata": {},
   "outputs": [
    {
     "name": "stdout",
     "output_type": "stream",
     "text": [
      "in else block\n",
      "in finally block\n"
     ]
    }
   ],
   "source": [
    "try:\n",
    " temp = [1, 2, 3]\n",
    " temp[1]\n",
    "except Exception as e:\n",
    " print('in exception block: ', e)\n",
    "else:\n",
    " print('in else block')\n",
    "finally:\n",
    " print('in finally block')"
   ]
  },
  {
   "cell_type": "code",
   "execution_count": 30,
   "id": "57268013",
   "metadata": {},
   "outputs": [
    {
     "name": "stdout",
     "output_type": "stream",
     "text": [
      "4 4 4 4 4 4 4 \n",
      "4           4 \n",
      "4           4 \n",
      "4           4 \n",
      "4           4 \n",
      "4           4 \n",
      "4 4 4 4 4 4 4 \n"
     ]
    }
   ],
   "source": [
    "for i in range(1,8):\n",
    "    for j in range(1,8):\n",
    "        #if(j==1 or i==1 or i==7 or j==7):\n",
    "        print(n,end=\" \")\n",
    "        else:\n",
    "            print(end=\"  \")\n",
    "        n-=1\n",
    "    print()\n",
    "        "
   ]
  },
  {
   "cell_type": "code",
   "execution_count": null,
   "id": "437e74b3",
   "metadata": {},
   "outputs": [],
   "source": []
  }
 ],
 "metadata": {
  "kernelspec": {
   "display_name": "Python 3 (ipykernel)",
   "language": "python",
   "name": "python3"
  },
  "language_info": {
   "codemirror_mode": {
    "name": "ipython",
    "version": 3
   },
   "file_extension": ".py",
   "mimetype": "text/x-python",
   "name": "python",
   "nbconvert_exporter": "python",
   "pygments_lexer": "ipython3",
   "version": "3.11.0"
  }
 },
 "nbformat": 4,
 "nbformat_minor": 5
}
