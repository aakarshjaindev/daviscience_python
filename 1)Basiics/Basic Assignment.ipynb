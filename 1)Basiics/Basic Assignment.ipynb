{
 "cells": [
  {
   "cell_type": "code",
   "execution_count": 1,
   "id": "53bf97e5",
   "metadata": {},
   "outputs": [
    {
     "name": "stdout",
     "output_type": "stream",
     "text": [
      "Enter the length of rectangle : 12\n",
      "Enter the breadth of rectangle : 2\n",
      "Perimeter of rectangle is :  28\n"
     ]
    }
   ],
   "source": [
    "#Perimeter of rectangle  --  formula  2(l+b)\n",
    "length = eval(input(\"Enter the length of rectangle : \"))\n",
    "breadth = eval(input(\"Enter the breadth of rectangle : \"))\n",
    "perimeter = 2 * ( length + breadth ) \n",
    "print(\"Perimeter of rectangle is : \",perimeter)"
   ]
  },
  {
   "cell_type": "code",
   "execution_count": 3,
   "id": "3c15aedf",
   "metadata": {},
   "outputs": [
    {
     "name": "stdout",
     "output_type": "stream",
     "text": [
      "Enter the principal amount : 10000\n",
      "Enter the rate of interest : 2.5\n",
      "Enter the year : 3\n",
      "Simple Interest is  :  750.0\n"
     ]
    }
   ],
   "source": [
    "#simple Interest \n",
    "principal_amount = eval(input(\"Enter the principal amount : \"))\n",
    "rate = eval(input(\"Enter the rate of interest : \"))\n",
    "time = int(input(\"Enter the year : \"))\n",
    "si = principal_amount*rate*time / 100\n",
    "print(\"Simple Interest is  : \",si)"
   ]
  },
  {
   "cell_type": "code",
   "execution_count": 4,
   "id": "caa5ec47",
   "metadata": {},
   "outputs": [
    {
     "name": "stdout",
     "output_type": "stream",
     "text": [
      "Enter the principal amount : 10000\n",
      "Enter the rate of interest : 2.5\n",
      "Enter the year : 3\n",
      "Compound Interest is  :  10768.906249999996\n"
     ]
    }
   ],
   "source": [
    "#compund interest \n",
    "principal_amount = eval(input(\"Enter the principal amount : \"))\n",
    "rate = eval(input(\"Enter the rate of interest : \"))\n",
    "time = int(input(\"Enter the year : \"))\n",
    "ci = principal_amount*(1+rate/100)**time\n",
    "print(\"Compound Interest is  : \",ci)"
   ]
  },
  {
   "cell_type": "code",
   "execution_count": 5,
   "id": "026792dc",
   "metadata": {},
   "outputs": [
    {
     "name": "stdout",
     "output_type": "stream",
     "text": [
      "Enter the principal amount : 10000\n",
      "Enter the rate of interest : 2.5\n",
      "Enter the year : 3\n",
      "Compound Interest is  : 10768.91\n"
     ]
    }
   ],
   "source": [
    "#compund interest \n",
    "principal_amount = eval(input(\"Enter the principal amount : \"))\n",
    "rate = eval(input(\"Enter the rate of interest : \"))\n",
    "time = int(input(\"Enter the year : \"))\n",
    "ci = principal_amount*(1+rate/100)**time\n",
    "print(\"Compound Interest is  : %.2f\"%ci)"
   ]
  },
  {
   "cell_type": "code",
   "execution_count": 6,
   "id": "29e3fe31",
   "metadata": {},
   "outputs": [
    {
     "name": "stdout",
     "output_type": "stream",
     "text": [
      "Enter the radius of circle : 12\n",
      "Area of Circle is  :  452.16\n"
     ]
    }
   ],
   "source": [
    "#Area of circle \n",
    "rad = eval(input(\"Enter the radius of circle : \"))\n",
    "area_of_circle = 3.14 * rad**2\n",
    "print(\"Area of Circle is  : \",area_of_circle)"
   ]
  },
  {
   "cell_type": "code",
   "execution_count": 7,
   "id": "7cd8b8fe",
   "metadata": {},
   "outputs": [
    {
     "name": "stdout",
     "output_type": "stream",
     "text": [
      "Value of PIE :  3.141592653589793\n"
     ]
    }
   ],
   "source": [
    "import math\n",
    "print(\"Value of PIE : \",math.pi)"
   ]
  },
  {
   "cell_type": "code",
   "execution_count": 9,
   "id": "867233ad",
   "metadata": {},
   "outputs": [
    {
     "name": "stdout",
     "output_type": "stream",
     "text": [
      "Enter the radius of circle : 12\n",
      "Area of Circle is  : 452.39 \n"
     ]
    }
   ],
   "source": [
    "#Area of circle \n",
    "rad = eval(input(\"Enter the radius of circle : \"))\n",
    "area_of_circle = math.pi * rad**2\n",
    "print(\"Area of Circle is  : %.2f \"%area_of_circle)"
   ]
  },
  {
   "cell_type": "code",
   "execution_count": 11,
   "id": "8fd0b842",
   "metadata": {},
   "outputs": [
    {
     "name": "stdout",
     "output_type": "stream",
     "text": [
      "Enter the First angle : 45\n",
      "Enter the Second angle : 45\n",
      "Third angle is  :  90\n"
     ]
    }
   ],
   "source": [
    "#find the third angle \n",
    "a = eval(input(\"Enter the First angle : \"))\n",
    "b = eval(input(\"Enter the Second angle : \"))\n",
    "c = 180 - (a + b)\n",
    "print(\"Third angle is  : \",c)"
   ]
  },
  {
   "cell_type": "code",
   "execution_count": null,
   "id": "87fefd46",
   "metadata": {},
   "outputs": [],
   "source": [
    "P - Parenthesis ()\n",
    "E - exponent **\n",
    "M - Multiplication *\n",
    "D - Division / or //\n",
    "A - addition +\n",
    "S - Subtraction -"
   ]
  },
  {
   "cell_type": "code",
   "execution_count": null,
   "id": "043073b7",
   "metadata": {},
   "outputs": [],
   "source": [
    "Control Statement \n",
    "     if-else\n",
    "     match-case\n",
    "     Looping\n",
    "range()\n",
    "transfer statements\n",
    " pass\n",
    " continue\n",
    " break"
   ]
  }
 ],
 "metadata": {
  "kernelspec": {
   "display_name": "Python 3 (ipykernel)",
   "language": "python",
   "name": "python3"
  },
  "language_info": {
   "codemirror_mode": {
    "name": "ipython",
    "version": 3
   },
   "file_extension": ".py",
   "mimetype": "text/x-python",
   "name": "python",
   "nbconvert_exporter": "python",
   "pygments_lexer": "ipython3",
   "version": "3.11.0"
  }
 },
 "nbformat": 4,
 "nbformat_minor": 5
}
