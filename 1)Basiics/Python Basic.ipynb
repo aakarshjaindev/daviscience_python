{
 "cells": [
  {
   "cell_type": "code",
   "execution_count": null,
   "id": "6a9304f7",
   "metadata": {},
   "outputs": [],
   "source": [
    "help()"
   ]
  },
  {
   "cell_type": "markdown",
   "id": "1635920f",
   "metadata": {},
   "source": [
    "# Variable"
   ]
  },
  {
   "cell_type": "code",
   "execution_count": 3,
   "id": "f9747dd0",
   "metadata": {},
   "outputs": [],
   "source": [
    "a = 10"
   ]
  },
  {
   "cell_type": "code",
   "execution_count": 4,
   "id": "7cf44a81",
   "metadata": {},
   "outputs": [
    {
     "name": "stdout",
     "output_type": "stream",
     "text": [
      "Value of a is :  10\n"
     ]
    }
   ],
   "source": [
    "print(\"Value of a is : \",a)"
   ]
  },
  {
   "cell_type": "code",
   "execution_count": 7,
   "id": "d266bc99",
   "metadata": {},
   "outputs": [
    {
     "name": "stdout",
     "output_type": "stream",
     "text": [
      "<class 'str'>\n"
     ]
    }
   ],
   "source": [
    "print(type(a))"
   ]
  },
  {
   "cell_type": "code",
   "execution_count": 5,
   "id": "f29123ec",
   "metadata": {},
   "outputs": [
    {
     "name": "stdout",
     "output_type": "stream",
     "text": [
      "<class 'int'>\n"
     ]
    }
   ],
   "source": [
    "print(a.__class__)"
   ]
  },
  {
   "cell_type": "code",
   "execution_count": 6,
   "id": "f370ba81",
   "metadata": {},
   "outputs": [],
   "source": [
    "a = \"Jupiter\""
   ]
  },
  {
   "cell_type": "markdown",
   "id": "82dd5b4c",
   "metadata": {},
   "source": [
    "# Variable Assignment"
   ]
  },
  {
   "cell_type": "code",
   "execution_count": null,
   "id": "d6d738de",
   "metadata": {},
   "outputs": [],
   "source": [
    "#addition\n",
    "a = 10\n",
    "b = 20\n",
    "#Logic\n",
    "res = a + b\n",
    "print(\"Result is : \",res)"
   ]
  },
  {
   "cell_type": "code",
   "execution_count": null,
   "id": "3fc618fd",
   "metadata": {},
   "outputs": [],
   "source": [
    "a,b=10,20\n",
    "print(\"Value of a is : \",a,\"Value of b is : \",b)"
   ]
  },
  {
   "cell_type": "code",
   "execution_count": null,
   "id": "203b3188",
   "metadata": {},
   "outputs": [],
   "source": [
    "a = b = 20\n",
    "print(\"value of a is : \",a,\"Value of b is : \",b)"
   ]
  },
  {
   "cell_type": "code",
   "execution_count": null,
   "id": "e5a805b1",
   "metadata": {},
   "outputs": [],
   "source": [
    "a,b = 20\n",
    "print(\"value of a is : \",a,\"Value of b is : \",b)"
   ]
  },
  {
   "cell_type": "code",
   "execution_count": null,
   "id": "f4092f91",
   "metadata": {},
   "outputs": [],
   "source": [
    "a = 10,20\n",
    "print(\"Value of a is  : \",a)\n",
    "print(type(a))"
   ]
  },
  {
   "cell_type": "code",
   "execution_count": null,
   "id": "7789037a",
   "metadata": {},
   "outputs": [],
   "source": [
    "a=10,b=20\n",
    "print(\"Value of a is : \",a,\"value of b is : \",b)"
   ]
  },
  {
   "cell_type": "code",
   "execution_count": null,
   "id": "7d0e67e1",
   "metadata": {},
   "outputs": [],
   "source": [
    "a=10;b=20\n",
    "print(\"Value of a is : \",a,\"value of b is : \",b)"
   ]
  },
  {
   "cell_type": "markdown",
   "id": "87461611",
   "metadata": {},
   "source": [
    "# User Input"
   ]
  },
  {
   "cell_type": "code",
   "execution_count": null,
   "id": "12cbbc28",
   "metadata": {},
   "outputs": [],
   "source": [
    "x = input(\"Enter the Number : \")\n",
    "print(type(x))\n",
    "x = int(x)\n",
    "print(type(x))"
   ]
  },
  {
   "cell_type": "code",
   "execution_count": null,
   "id": "9a9139b9",
   "metadata": {},
   "outputs": [],
   "source": [
    "#addition\n",
    "x = int(input(\"Enter the first number : \"))\n",
    "y = int(input(\"Enter the second number : \"))\n",
    "c = x + y\n",
    "print(\"Sum of two digits is  : \",c)"
   ]
  },
  {
   "cell_type": "code",
   "execution_count": null,
   "id": "c8ef32df",
   "metadata": {},
   "outputs": [],
   "source": [
    "#addition\n",
    "x = int(input(\"Enter the first number : \"))\n",
    "y = float(input(\"Enter the second number : \"))\n",
    "c = x + y\n",
    "print(\"Sum of two digits is  : \",c)"
   ]
  },
  {
   "cell_type": "code",
   "execution_count": null,
   "id": "73c4321c",
   "metadata": {},
   "outputs": [],
   "source": [
    "#addition\n",
    "x = eval(input(\"Enter the first number : \"))\n",
    "y = eval(input(\"Enter the second number : \"))\n",
    "c = x + y\n",
    "print(\"Sum of two digits is  : \",c)"
   ]
  },
  {
   "cell_type": "markdown",
   "id": "69f55e15",
   "metadata": {},
   "source": [
    "# Arithmetic Operator"
   ]
  },
  {
   "cell_type": "code",
   "execution_count": null,
   "id": "055990b1",
   "metadata": {},
   "outputs": [],
   "source": [
    "+ , - ,* ,/-float division, //-floor division, %-modulus,**-exponent(power)"
   ]
  },
  {
   "cell_type": "code",
   "execution_count": null,
   "id": "2081d73c",
   "metadata": {},
   "outputs": [],
   "source": [
    "9/2"
   ]
  },
  {
   "cell_type": "code",
   "execution_count": null,
   "id": "791ce928",
   "metadata": {},
   "outputs": [],
   "source": [
    "9//2"
   ]
  },
  {
   "cell_type": "code",
   "execution_count": null,
   "id": "fa5694f2",
   "metadata": {},
   "outputs": [],
   "source": [
    "9%2"
   ]
  },
  {
   "cell_type": "code",
   "execution_count": null,
   "id": "be6fe943",
   "metadata": {},
   "outputs": [],
   "source": [
    "2**3"
   ]
  },
  {
   "cell_type": "code",
   "execution_count": null,
   "id": "18d7bc8f",
   "metadata": {},
   "outputs": [],
   "source": [
    "n = 123 # output = 6\n",
    "x = n%10 #3\n",
    "n = n//10 #12\n",
    "y = n%10 #2\n",
    "n = n//10 #1\n",
    "z = n%10 #1\n",
    "n = n//10 # 0\n",
    "res = x+y+z\n",
    "print(\"result is :\",res)"
   ]
  },
  {
   "cell_type": "code",
   "execution_count": null,
   "id": "147cd835",
   "metadata": {},
   "outputs": [],
   "source": [
    "n=123 #output : 321\n",
    "res = x*100 + y*10 + z\n",
    "print(\"reverse number is  : \",res)"
   ]
  },
  {
   "cell_type": "code",
   "execution_count": null,
   "id": "e85ee635",
   "metadata": {},
   "outputs": [],
   "source": [
    "n = 123 #output : 4\n",
    "first = n%10\n",
    "last = n//100\n",
    "res = first + last\n",
    "print(\"Output is : \",res)"
   ]
  },
  {
   "cell_type": "code",
   "execution_count": null,
   "id": "fb98d471",
   "metadata": {},
   "outputs": [],
   "source": [
    "#Swapping  L = 30 , D = 20\n",
    "L = 20\n",
    "D = 30\n",
    "C = 0\n",
    "C = L\n",
    "L = D\n",
    "D = C\n",
    "print(\"Value of L is  : \",L,\"Value of D is  : \",D)"
   ]
  },
  {
   "cell_type": "code",
   "execution_count": null,
   "id": "e6b6aeeb",
   "metadata": {},
   "outputs": [],
   "source": [
    "#Swapping  L = 30 , D = 20\n",
    "L = 20\n",
    "D = 30\n",
    "L,D = D,L\n",
    "print(\"Value of L is  : \",L,\"Value of D is  : \",D)"
   ]
  },
  {
   "cell_type": "code",
   "execution_count": null,
   "id": "dbced7cd",
   "metadata": {},
   "outputs": [],
   "source": [
    "#Swapping  L = 30 , D = 20\n",
    "L = 20\n",
    "D = 30\n",
    "L = L+D\n",
    "D = L-D\n",
    "L = L-D\n",
    "print(\"Value of L is  : \",L,\"Value of D is  : \",D)"
   ]
  },
  {
   "cell_type": "code",
   "execution_count": null,
   "id": "495f8be1",
   "metadata": {},
   "outputs": [],
   "source": [
    "# square root \n",
    "import math \n",
    "x = 16\n",
    "res = math.sqrt(16)\n",
    "print(\"Square root  : \",res)"
   ]
  },
  {
   "cell_type": "code",
   "execution_count": null,
   "id": "3d0a8cd6",
   "metadata": {},
   "outputs": [],
   "source": [
    "#square root\n",
    "x = 16\n",
    "res = x**0.5\n",
    "print(\"Square Root : \",res)"
   ]
  },
  {
   "cell_type": "code",
   "execution_count": null,
   "id": "c406b288",
   "metadata": {},
   "outputs": [],
   "source": [
    "n = 2\n",
    "po = 3\n",
    "res = math.pow(n,po)\n",
    "print(\"Power is :\",res )"
   ]
  },
  {
   "cell_type": "code",
   "execution_count": null,
   "id": "97be532b",
   "metadata": {},
   "outputs": [],
   "source": [
    "n = 5\n",
    "res = math.factorial(n)\n",
    "print(\"Factorial is : \",res)"
   ]
  },
  {
   "cell_type": "code",
   "execution_count": null,
   "id": "6001048e",
   "metadata": {},
   "outputs": [],
   "source": []
  }
 ],
 "metadata": {
  "kernelspec": {
   "display_name": "Python 3 (ipykernel)",
   "language": "python",
   "name": "python3"
  },
  "language_info": {
   "codemirror_mode": {
    "name": "ipython",
    "version": 3
   },
   "file_extension": ".py",
   "mimetype": "text/x-python",
   "name": "python",
   "nbconvert_exporter": "python",
   "pygments_lexer": "ipython3",
   "version": "3.13.3"
  }
 },
 "nbformat": 4,
 "nbformat_minor": 5
}
