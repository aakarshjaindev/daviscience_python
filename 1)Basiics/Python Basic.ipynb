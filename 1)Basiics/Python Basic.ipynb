{
 "cells": [
  {
   "cell_type": "code",
   "execution_count": 1,
   "id": "6a9304f7",
   "metadata": {},
   "outputs": [
    {
     "name": "stdout",
     "output_type": "stream",
     "text": [
      "\n",
      "Welcome to Python 3.11's help utility!\n",
      "\n",
      "If this is your first time using Python, you should definitely check out\n",
      "the tutorial on the internet at https://docs.python.org/3.11/tutorial/.\n",
      "\n",
      "Enter the name of any module, keyword, or topic to get help on writing\n",
      "Python programs and using Python modules.  To quit this help utility and\n",
      "return to the interpreter, just type \"quit\".\n",
      "\n",
      "To get a list of available modules, keywords, symbols, or topics, type\n",
      "\"modules\", \"keywords\", \"symbols\", or \"topics\".  Each module also comes\n",
      "with a one-line summary of what it does; to list the modules whose name\n",
      "or summary contain a given string such as \"spam\", type \"modules spam\".\n",
      "\n",
      "help> symbols\n",
      "\n",
      "Here is a list of the punctuation symbols which Python assigns special meaning\n",
      "to. Enter any symbol to get more help.\n",
      "\n",
      "!=                  +                   <=                  __\n",
      "\"                   +=                  <>                  `\n",
      "\"\"\"                 ,                   ==                  b\"\n",
      "%                   -                   >                   b'\n",
      "%=                  -=                  >=                  f\"\n",
      "&                   .                   >>                  f'\n",
      "&=                  ...                 >>=                 j\n",
      "'                   /                   @                   r\"\n",
      "'''                 //                  J                   r'\n",
      "(                   //=                 [                   u\"\n",
      ")                   /=                  \\                   u'\n",
      "*                   :                   ]                   |\n",
      "**                  <                   ^                   |=\n",
      "**=                 <<                  ^=                  ~\n",
      "*=                  <<=                 _                   \n",
      "\n",
      "help> keywords\n",
      "\n",
      "Here is a list of the Python keywords.  Enter any keyword to get more help.\n",
      "\n",
      "False               class               from                or\n",
      "None                continue            global              pass\n",
      "True                def                 if                  raise\n",
      "and                 del                 import              return\n",
      "as                  elif                in                  try\n",
      "assert              else                is                  while\n",
      "async               except              lambda              with\n",
      "await               finally             nonlocal            yield\n",
      "break               for                 not                 \n",
      "\n",
      "help> \n",
      "\n",
      "You are now leaving help and returning to the Python interpreter.\n",
      "If you want to ask for help on a particular object directly from the\n",
      "interpreter, you can type \"help(object)\".  Executing \"help('string')\"\n",
      "has the same effect as typing a particular string at the help> prompt.\n"
     ]
    }
   ],
   "source": [
    "help()"
   ]
  },
  {
   "cell_type": "markdown",
   "id": "1635920f",
   "metadata": {},
   "source": [
    "# Variable"
   ]
  },
  {
   "cell_type": "code",
   "execution_count": 2,
   "id": "f9747dd0",
   "metadata": {},
   "outputs": [],
   "source": [
    "a = 10"
   ]
  },
  {
   "cell_type": "code",
   "execution_count": 3,
   "id": "7cf44a81",
   "metadata": {},
   "outputs": [
    {
     "name": "stdout",
     "output_type": "stream",
     "text": [
      "Value of a is :  10\n"
     ]
    }
   ],
   "source": [
    "print(\"Value of a is : \",a)"
   ]
  },
  {
   "cell_type": "code",
   "execution_count": 4,
   "id": "d266bc99",
   "metadata": {},
   "outputs": [
    {
     "name": "stdout",
     "output_type": "stream",
     "text": [
      "<class 'int'>\n"
     ]
    }
   ],
   "source": [
    "print(type(a))"
   ]
  },
  {
   "cell_type": "code",
   "execution_count": 7,
   "id": "f29123ec",
   "metadata": {},
   "outputs": [
    {
     "name": "stdout",
     "output_type": "stream",
     "text": [
      "<class 'str'>\n"
     ]
    }
   ],
   "source": [
    "print(a.__class__)"
   ]
  },
  {
   "cell_type": "code",
   "execution_count": 6,
   "id": "f370ba81",
   "metadata": {},
   "outputs": [],
   "source": [
    "a = \"Jupiter\""
   ]
  },
  {
   "cell_type": "markdown",
   "id": "82dd5b4c",
   "metadata": {},
   "source": [
    "# Variable Assignment"
   ]
  },
  {
   "cell_type": "code",
   "execution_count": 10,
   "id": "d6d738de",
   "metadata": {},
   "outputs": [
    {
     "name": "stdout",
     "output_type": "stream",
     "text": [
      "Result is :  30\n"
     ]
    }
   ],
   "source": [
    "#addition\n",
    "a = 10\n",
    "b = 20\n",
    "#Logic\n",
    "res = a + b\n",
    "print(\"Result is : \",res)"
   ]
  },
  {
   "cell_type": "code",
   "execution_count": 12,
   "id": "3fc618fd",
   "metadata": {},
   "outputs": [
    {
     "name": "stdout",
     "output_type": "stream",
     "text": [
      "Value of a is :  10 Value of b is :  20\n"
     ]
    }
   ],
   "source": [
    "a,b=10,20\n",
    "print(\"Value of a is : \",a,\"Value of b is : \",b)"
   ]
  },
  {
   "cell_type": "code",
   "execution_count": 13,
   "id": "203b3188",
   "metadata": {},
   "outputs": [
    {
     "name": "stdout",
     "output_type": "stream",
     "text": [
      "value of a is :  20 Value of b is :  20\n"
     ]
    }
   ],
   "source": [
    "a = b = 20\n",
    "print(\"value of a is : \",a,\"Value of b is : \",b)"
   ]
  },
  {
   "cell_type": "code",
   "execution_count": 14,
   "id": "e5a805b1",
   "metadata": {},
   "outputs": [
    {
     "ename": "TypeError",
     "evalue": "cannot unpack non-iterable int object",
     "output_type": "error",
     "traceback": [
      "\u001b[1;31m---------------------------------------------------------------------------\u001b[0m",
      "\u001b[1;31mTypeError\u001b[0m                                 Traceback (most recent call last)",
      "Cell \u001b[1;32mIn[14], line 1\u001b[0m\n\u001b[1;32m----> 1\u001b[0m a,b \u001b[38;5;241m=\u001b[39m \u001b[38;5;241m20\u001b[39m\n\u001b[0;32m      2\u001b[0m \u001b[38;5;28mprint\u001b[39m(\u001b[38;5;124m\"\u001b[39m\u001b[38;5;124mvalue of a is : \u001b[39m\u001b[38;5;124m\"\u001b[39m,a,\u001b[38;5;124m\"\u001b[39m\u001b[38;5;124mValue of b is : \u001b[39m\u001b[38;5;124m\"\u001b[39m,b)\n",
      "\u001b[1;31mTypeError\u001b[0m: cannot unpack non-iterable int object"
     ]
    }
   ],
   "source": [
    "a,b = 20\n",
    "print(\"value of a is : \",a,\"Value of b is : \",b)"
   ]
  },
  {
   "cell_type": "code",
   "execution_count": 16,
   "id": "f4092f91",
   "metadata": {},
   "outputs": [
    {
     "name": "stdout",
     "output_type": "stream",
     "text": [
      "Value of a is  :  (10, 20)\n",
      "<class 'tuple'>\n"
     ]
    }
   ],
   "source": [
    "a = 10,20\n",
    "print(\"Value of a is  : \",a)\n",
    "print(type(a))"
   ]
  },
  {
   "cell_type": "code",
   "execution_count": 17,
   "id": "7789037a",
   "metadata": {},
   "outputs": [
    {
     "ename": "SyntaxError",
     "evalue": "invalid syntax. Maybe you meant '==' or ':=' instead of '='? (3693282669.py, line 1)",
     "output_type": "error",
     "traceback": [
      "\u001b[1;36m  Cell \u001b[1;32mIn[17], line 1\u001b[1;36m\u001b[0m\n\u001b[1;33m    a=10,b=20\u001b[0m\n\u001b[1;37m    ^\u001b[0m\n\u001b[1;31mSyntaxError\u001b[0m\u001b[1;31m:\u001b[0m invalid syntax. Maybe you meant '==' or ':=' instead of '='?\n"
     ]
    }
   ],
   "source": [
    "a=10,b=20\n",
    "print(\"Value of a is : \",a,\"value of b is : \",b)"
   ]
  },
  {
   "cell_type": "code",
   "execution_count": 18,
   "id": "7d0e67e1",
   "metadata": {},
   "outputs": [
    {
     "name": "stdout",
     "output_type": "stream",
     "text": [
      "Value of a is :  10 value of b is :  20\n"
     ]
    }
   ],
   "source": [
    "a=10;b=20\n",
    "print(\"Value of a is : \",a,\"value of b is : \",b)"
   ]
  },
  {
   "cell_type": "markdown",
   "id": "87461611",
   "metadata": {},
   "source": [
    "# User Input"
   ]
  },
  {
   "cell_type": "code",
   "execution_count": 4,
   "id": "12cbbc28",
   "metadata": {},
   "outputs": [
    {
     "name": "stdout",
     "output_type": "stream",
     "text": [
      "Enter the Number : 67\n",
      "<class 'str'>\n",
      "<class 'int'>\n"
     ]
    }
   ],
   "source": [
    "x = input(\"Enter the Number : \")\n",
    "print(type(x))\n",
    "x = int(x)\n",
    "print(type(x))"
   ]
  },
  {
   "cell_type": "code",
   "execution_count": 5,
   "id": "9a9139b9",
   "metadata": {},
   "outputs": [
    {
     "name": "stdout",
     "output_type": "stream",
     "text": [
      "Enter the first number : 34\n",
      "Enter the second number : 20\n",
      "Sum of two digits is  :  54\n"
     ]
    }
   ],
   "source": [
    "#addition\n",
    "x = int(input(\"Enter the first number : \"))\n",
    "y = int(input(\"Enter the second number : \"))\n",
    "c = x + y\n",
    "print(\"Sum of two digits is  : \",c)"
   ]
  },
  {
   "cell_type": "code",
   "execution_count": 8,
   "id": "c8ef32df",
   "metadata": {},
   "outputs": [
    {
     "name": "stdout",
     "output_type": "stream",
     "text": [
      "Enter the first number : 34\n",
      "Enter the second number : 55\n",
      "Sum of two digits is  :  89.0\n"
     ]
    }
   ],
   "source": [
    "#addition\n",
    "x = int(input(\"Enter the first number : \"))\n",
    "y = float(input(\"Enter the second number : \"))\n",
    "c = x + y\n",
    "print(\"Sum of two digits is  : \",c)"
   ]
  },
  {
   "cell_type": "code",
   "execution_count": 10,
   "id": "73c4321c",
   "metadata": {},
   "outputs": [
    {
     "name": "stdout",
     "output_type": "stream",
     "text": [
      "Enter the first number : 3.5\n",
      "Enter the second number : 6.7\n",
      "Sum of two digits is  :  10.2\n"
     ]
    }
   ],
   "source": [
    "#addition\n",
    "x = eval(input(\"Enter the first number : \"))\n",
    "y = eval(input(\"Enter the second number : \"))\n",
    "c = x + y\n",
    "print(\"Sum of two digits is  : \",c)"
   ]
  },
  {
   "cell_type": "markdown",
   "id": "69f55e15",
   "metadata": {},
   "source": [
    "# Arithmetic Operator"
   ]
  },
  {
   "cell_type": "code",
   "execution_count": null,
   "id": "055990b1",
   "metadata": {},
   "outputs": [],
   "source": [
    "+ , - ,* ,/-float division, //-floor division, %-modulus,**-exponent(power)"
   ]
  },
  {
   "cell_type": "code",
   "execution_count": 11,
   "id": "2081d73c",
   "metadata": {},
   "outputs": [
    {
     "data": {
      "text/plain": [
       "4.5"
      ]
     },
     "execution_count": 11,
     "metadata": {},
     "output_type": "execute_result"
    }
   ],
   "source": [
    "9/2"
   ]
  },
  {
   "cell_type": "code",
   "execution_count": 12,
   "id": "791ce928",
   "metadata": {},
   "outputs": [
    {
     "data": {
      "text/plain": [
       "4"
      ]
     },
     "execution_count": 12,
     "metadata": {},
     "output_type": "execute_result"
    }
   ],
   "source": [
    "9//2"
   ]
  },
  {
   "cell_type": "code",
   "execution_count": 13,
   "id": "fa5694f2",
   "metadata": {},
   "outputs": [
    {
     "data": {
      "text/plain": [
       "1"
      ]
     },
     "execution_count": 13,
     "metadata": {},
     "output_type": "execute_result"
    }
   ],
   "source": [
    "9%2"
   ]
  },
  {
   "cell_type": "code",
   "execution_count": 14,
   "id": "be6fe943",
   "metadata": {},
   "outputs": [
    {
     "data": {
      "text/plain": [
       "8"
      ]
     },
     "execution_count": 14,
     "metadata": {},
     "output_type": "execute_result"
    }
   ],
   "source": [
    "2**3"
   ]
  },
  {
   "cell_type": "code",
   "execution_count": 15,
   "id": "18d7bc8f",
   "metadata": {},
   "outputs": [
    {
     "name": "stdout",
     "output_type": "stream",
     "text": [
      "result is : 6\n"
     ]
    }
   ],
   "source": [
    "n = 123 # output = 6\n",
    "x = n%10 #3\n",
    "n = n//10 #12\n",
    "y = n%10 #2\n",
    "n = n//10 #1\n",
    "z = n%10 #1\n",
    "n = n//10 # 0\n",
    "res = x+y+z\n",
    "print(\"result is :\",res)"
   ]
  },
  {
   "cell_type": "code",
   "execution_count": 16,
   "id": "147cd835",
   "metadata": {},
   "outputs": [
    {
     "name": "stdout",
     "output_type": "stream",
     "text": [
      "reverse number is  :  321\n"
     ]
    }
   ],
   "source": [
    "n=123 #output : 321\n",
    "res = x*100 + y*10 + z\n",
    "print(\"reverse number is  : \",res)"
   ]
  },
  {
   "cell_type": "code",
   "execution_count": 17,
   "id": "e85ee635",
   "metadata": {},
   "outputs": [
    {
     "name": "stdout",
     "output_type": "stream",
     "text": [
      "Output is :  4\n"
     ]
    }
   ],
   "source": [
    "n = 123 #output : 4\n",
    "first = n%10\n",
    "last = n//100\n",
    "res = first + last\n",
    "print(\"Output is : \",res)"
   ]
  },
  {
   "cell_type": "code",
   "execution_count": 18,
   "id": "fb98d471",
   "metadata": {},
   "outputs": [
    {
     "name": "stdout",
     "output_type": "stream",
     "text": [
      "Value of L is  :  30 Value of D is  :  20\n"
     ]
    }
   ],
   "source": [
    "#Swapping  L = 30 , D = 20\n",
    "L = 20\n",
    "D = 30\n",
    "C = 0\n",
    "C = L\n",
    "L = D\n",
    "D = C\n",
    "print(\"Value of L is  : \",L,\"Value of D is  : \",D)"
   ]
  },
  {
   "cell_type": "code",
   "execution_count": 19,
   "id": "e6b6aeeb",
   "metadata": {},
   "outputs": [
    {
     "name": "stdout",
     "output_type": "stream",
     "text": [
      "Value of L is  :  30 Value of D is  :  20\n"
     ]
    }
   ],
   "source": [
    "#Swapping  L = 30 , D = 20\n",
    "L = 20\n",
    "D = 30\n",
    "L,D = D,L\n",
    "print(\"Value of L is  : \",L,\"Value of D is  : \",D)"
   ]
  },
  {
   "cell_type": "code",
   "execution_count": 20,
   "id": "dbced7cd",
   "metadata": {},
   "outputs": [
    {
     "name": "stdout",
     "output_type": "stream",
     "text": [
      "Value of L is  :  30 Value of D is  :  20\n"
     ]
    }
   ],
   "source": [
    "#Swapping  L = 30 , D = 20\n",
    "L = 20\n",
    "D = 30\n",
    "L = L+D\n",
    "D = L-D\n",
    "L = L-D\n",
    "print(\"Value of L is  : \",L,\"Value of D is  : \",D)"
   ]
  },
  {
   "cell_type": "code",
   "execution_count": 21,
   "id": "495f8be1",
   "metadata": {},
   "outputs": [
    {
     "name": "stdout",
     "output_type": "stream",
     "text": [
      "Square root  :  4.0\n"
     ]
    }
   ],
   "source": [
    "# square root \n",
    "import math \n",
    "x = 16\n",
    "res = math.sqrt(16)\n",
    "print(\"Square root  : \",res)"
   ]
  },
  {
   "cell_type": "code",
   "execution_count": 22,
   "id": "3d0a8cd6",
   "metadata": {},
   "outputs": [
    {
     "name": "stdout",
     "output_type": "stream",
     "text": [
      "Square Root :  4.0\n"
     ]
    }
   ],
   "source": [
    "#square root\n",
    "x = 16\n",
    "res = x**0.5\n",
    "print(\"Square Root : \",res)"
   ]
  },
  {
   "cell_type": "code",
   "execution_count": 23,
   "id": "c406b288",
   "metadata": {},
   "outputs": [
    {
     "name": "stdout",
     "output_type": "stream",
     "text": [
      "Power is : 8.0\n"
     ]
    }
   ],
   "source": [
    "n = 2\n",
    "po = 3\n",
    "res = math.pow(n,po)\n",
    "print(\"Power is :\",res )"
   ]
  },
  {
   "cell_type": "code",
   "execution_count": 24,
   "id": "97be532b",
   "metadata": {},
   "outputs": [
    {
     "name": "stdout",
     "output_type": "stream",
     "text": [
      "Factorial is :  120\n"
     ]
    }
   ],
   "source": [
    "n = 5\n",
    "res = math.factorial(n)\n",
    "print(\"Factorial is : \",res)"
   ]
  },
  {
   "cell_type": "code",
   "execution_count": null,
   "id": "6001048e",
   "metadata": {},
   "outputs": [],
   "source": []
  }
 ],
 "metadata": {
  "kernelspec": {
   "display_name": "Python 3 (ipykernel)",
   "language": "python",
   "name": "python3"
  },
  "language_info": {
   "codemirror_mode": {
    "name": "ipython",
    "version": 3
   },
   "file_extension": ".py",
   "mimetype": "text/x-python",
   "name": "python",
   "nbconvert_exporter": "python",
   "pygments_lexer": "ipython3",
   "version": "3.11.0"
  }
 },
 "nbformat": 4,
 "nbformat_minor": 5
}
