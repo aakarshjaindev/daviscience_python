{
 "cells": [
  {
   "cell_type": "code",
   "execution_count": null,
   "id": "cf95c96c",
   "metadata": {},
   "outputs": [],
   "source": []
  },
  {
   "cell_type": "markdown",
   "id": "58d17364",
   "metadata": {},
   "source": [
    "##### 4.) compute area "
   ]
  },
  {
   "cell_type": "code",
   "execution_count": null,
   "id": "c5bdf2ca",
   "metadata": {},
   "outputs": [],
   "source": [
    "radius = int(input('what is the radius'))\n",
    "area = 3.14 * int(radius) * int(radius)\n",
    "print(dr)"
   ]
  },
  {
   "cell_type": "markdown",
   "id": "64b690bb",
   "metadata": {},
   "source": [
    "##### 5.) Name reversing"
   ]
  },
  {
   "cell_type": "code",
   "execution_count": 7,
   "id": "94bdacec",
   "metadata": {},
   "outputs": [
    {
     "name": "stdout",
     "output_type": "stream",
     "text": [
      "Reversed First Name: timus\n",
      "Reversed Last Name: anar\n"
     ]
    }
   ],
   "source": [
    "first_name = input(\"what is you first name\")\n",
    "last_name = input(\"what is you last name\")\n",
    "reverse_fname = \"\"\n",
    "for x in first_name:\n",
    "    reverse_fname = x + reverse_fname  # Add each character in reverse order\n",
    "\n",
    "reverse_lname = \"\"\n",
    "for x in last_name:\n",
    "    reverse_lname = x + reverse_lname  # Add each character in reverse order\n",
    "\n",
    "print(\"Reversed First Name:\", reverse_fname)\n",
    "print(\"Reversed Last Name:\", reverse_lname)\n",
    "\n",
    "    "
   ]
  },
  {
   "cell_type": "code",
   "execution_count": 8,
   "id": "085968c4",
   "metadata": {},
   "outputs": [
    {
     "name": "stdout",
     "output_type": "stream",
     "text": [
      "Reversed First Name:  itmus\n",
      "Reversed Last Name: anar\n"
     ]
    }
   ],
   "source": [
    "first_name = input(\"What is your first name? \")\n",
    "last_name = input(\"What is your last name? \")\n",
    "\n",
    "# Initialize an empty list for both names\n",
    "reverse_fname = []\n",
    "reverse_lname = []\n",
    "\n",
    "# Reverse the first name\n",
    "for x in first_name:\n",
    "    reverse_fname.append(x)  # Add each character to the list\n",
    "\n",
    "# Reverse the last name\n",
    "for x in last_name:\n",
    "    reverse_lname.append(x)  # Add each character to the list\n",
    "\n",
    "# Reverse the lists\n",
    "reverse_fname.reverse()  # Reverses the list in place\n",
    "reverse_lname.reverse()  # Reverses the list in place\n",
    "\n",
    "# Convert the lists back to strings\n",
    "reverse_fname = ''.join(reverse_fname)  # Join list elements into a string\n",
    "reverse_lname = ''.join(reverse_lname)  # Join list elements into a string\n",
    "\n",
    "# Print the reversed names\n",
    "print(\"Reversed First Name:\", reverse_fname)\n",
    "print(\"Reversed Last Name:\", reverse_lname)\n"
   ]
  },
  {
   "cell_type": "markdown",
   "id": "cd0a4389",
   "metadata": {},
   "source": [
    "##### 6.) Creating strings and tuples from data\n"
   ]
  },
  {
   "cell_type": "code",
   "execution_count": 13,
   "id": "124a7725",
   "metadata": {},
   "outputs": [
    {
     "name": "stdout",
     "output_type": "stream",
     "text": [
      "List: ['6,3,3,65,21,56,3,145,1,65435,854,251,54,35,654,31,3543,3']\n",
      "Tuple: ('6,3,3,65,21,56,3,145,1,65435,854,251,54,35,654,31,3543,3',)\n",
      "set: {'6,3,3,65,21,56,3,145,1,65435,854,251,54,35,654,31,3543,3'}\n"
     ]
    }
   ],
   "source": [
    "# Accept comma-separated input from the user\n",
    "input_string = input(\"Enter comma-separated numbers: \")\n",
    "\n",
    "# Split the input string by commas to create a list of numbers (as strings)\n",
    "number_list = input_string.split(\", \")\n",
    "\n",
    "# Convert the list into a tuple\n",
    "number_tuple = tuple(number_list)\n",
    "number_set = set(number_list)\n",
    "\n",
    "# Output the list and tuple\n",
    "print(\"List:\", number_list)\n",
    "print(\"Tuple:\", number_tuple)\n",
    "print(\"set:\", number_set)\n"
   ]
  },
  {
   "cell_type": "markdown",
   "id": "82a5659e",
   "metadata": {},
   "source": [
    "7.) file name extension "
   ]
  },
  {
   "cell_type": "code",
   "execution_count": 14,
   "id": "fbb18829",
   "metadata": {},
   "outputs": [
    {
     "name": "stdout",
     "output_type": "stream",
     "text": [
      "File extension: java\n"
     ]
    }
   ],
   "source": [
    "# Accept the filename from the user\n",
    "file_name = input(\"Enter the filename: \")\n",
    "\n",
    "# Split the filename by the dot (.)\n",
    "parts = file_name.split(\".\")\n",
    "\n",
    "# The last part is the extension\n",
    "extension = parts[-1]\n",
    "\n",
    "# Print the extension\n",
    "print(\"File extension:\", extension)\n"
   ]
  },
  {
   "cell_type": "code",
   "execution_count": null,
   "id": "5b7f4b1d",
   "metadata": {},
   "outputs": [],
   "source": [
    "file_name = input(\"Enter the filename: \")\n",
    "\n",
    "# Use partition to split at the first dot\n",
    "before_dot, dot, extension = file_name.partition(\".\")\n",
    "\n",
    "# If the dot is found, print the extension\n",
    "if extension:\n",
    "    print(\"File extension:\", extension)\n",
    "else:\n",
    "    print(\"No extension found.\")\n"
   ]
  },
  {
   "cell_type": "code",
   "execution_count": null,
   "id": "3268c974",
   "metadata": {},
   "outputs": [],
   "source": [
    "import os\n",
    "\n",
    "file_name = input(\"Enter the filename: \")\n",
    "\n",
    "# Use os.path.splitext() to split the file into root and extension\n",
    "root, extension = os.path.splitext(file_name)\n",
    "\n",
    "# Check if the extension exists\n",
    "if extension:\n",
    "    print(\"File extension:\", extension[1:])  # Remove the dot (.)\n",
    "else:\n",
    "    print(\"No extension found.\")\n"
   ]
  },
  {
   "cell_type": "markdown",
   "id": "13706e17",
   "metadata": {},
   "source": [
    "##### 8.)Write a Python program to display the first and last colors from the following list.\n",
    "* color_list = [\"Red\",\"Green\",\"White\" ,\"Black\"]"
   ]
  },
  {
   "cell_type": "code",
   "execution_count": 16,
   "id": "f0f82523",
   "metadata": {},
   "outputs": [
    {
     "name": "stdout",
     "output_type": "stream",
     "text": [
      "Red\n",
      "Black\n"
     ]
    }
   ],
   "source": [
    "color_list = [\"Red\",\"Green\",\"White\" ,\"Black\"]\n",
    "first = color_list[0] \n",
    "last = color_list[-1] \n",
    "print(first)\n",
    "print(last)\n"
   ]
  },
  {
   "cell_type": "code",
   "execution_count": null,
   "id": "958afb54",
   "metadata": {},
   "outputs": [],
   "source": []
  }
 ],
 "metadata": {
  "kernelspec": {
   "display_name": "Python 3",
   "language": "python",
   "name": "python3"
  },
  "language_info": {
   "codemirror_mode": {
    "name": "ipython",
    "version": 3
   },
   "file_extension": ".py",
   "mimetype": "text/x-python",
   "name": "python",
   "nbconvert_exporter": "python",
   "pygments_lexer": "ipython3",
   "version": "3.13.3"
  }
 },
 "nbformat": 4,
 "nbformat_minor": 5
}
