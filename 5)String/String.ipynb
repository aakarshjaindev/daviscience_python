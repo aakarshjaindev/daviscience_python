{
 "cells": [
  {
   "cell_type": "markdown",
   "id": "3689f8c0",
   "metadata": {},
   "source": [
    "string  :  A bunch of character "
   ]
  },
  {
   "cell_type": "markdown",
   "id": "9b951a49",
   "metadata": {},
   "source": [
    "single line string"
   ]
  },
  {
   "cell_type": "code",
   "execution_count": 1,
   "id": "c98e0596",
   "metadata": {},
   "outputs": [],
   "source": [
    "x = \"I am Python Developer.\""
   ]
  },
  {
   "cell_type": "code",
   "execution_count": 2,
   "id": "5bd9f02a",
   "metadata": {},
   "outputs": [
    {
     "name": "stdout",
     "output_type": "stream",
     "text": [
      "I am Python Developer.\n"
     ]
    }
   ],
   "source": [
    "print(x)"
   ]
  },
  {
   "cell_type": "code",
   "execution_count": 6,
   "id": "2a925a33",
   "metadata": {},
   "outputs": [
    {
     "ename": "SyntaxError",
     "evalue": "unterminated string literal (detected at line 1) (2433414006.py, line 1)",
     "output_type": "error",
     "traceback": [
      "\u001b[1;36m  Cell \u001b[1;32mIn[6], line 1\u001b[1;36m\u001b[0m\n\u001b[1;33m    x = 'I am python\u001b[0m\n\u001b[1;37m        ^\u001b[0m\n\u001b[1;31mSyntaxError\u001b[0m\u001b[1;31m:\u001b[0m unterminated string literal (detected at line 1)\n"
     ]
    }
   ],
   "source": [
    "x = 'I am python developer.'\n",
    "print(x)"
   ]
  },
  {
   "cell_type": "markdown",
   "id": "e8a64870",
   "metadata": {},
   "source": [
    "doc string"
   ]
  },
  {
   "cell_type": "code",
   "execution_count": 4,
   "id": "ef4383f3",
   "metadata": {},
   "outputs": [
    {
     "name": "stdout",
     "output_type": "stream",
     "text": [
      "I am python\n",
      "developer.\n",
      "\n"
     ]
    }
   ],
   "source": [
    "x = \"\"\"I am python\n",
    "developer.\n",
    "\"\"\"\n",
    "print(x)"
   ]
  },
  {
   "cell_type": "code",
   "execution_count": 5,
   "id": "015caa90",
   "metadata": {},
   "outputs": [
    {
     "name": "stdout",
     "output_type": "stream",
     "text": [
      "I am python\n",
      "developer.\n",
      "\n"
     ]
    }
   ],
   "source": [
    "x = '''I am python\n",
    "developer.\n",
    "'''\n",
    "print(x)"
   ]
  },
  {
   "cell_type": "markdown",
   "id": "e2079ff2",
   "metadata": {},
   "source": [
    "\"\" vs ''"
   ]
  },
  {
   "cell_type": "code",
   "execution_count": 10,
   "id": "5d24e266",
   "metadata": {},
   "outputs": [
    {
     "name": "stdout",
     "output_type": "stream",
     "text": [
      "Akhil's\n"
     ]
    }
   ],
   "source": [
    "x = \"Akhil's\"\n",
    "print(x)"
   ]
  },
  {
   "cell_type": "code",
   "execution_count": 11,
   "id": "191a1348",
   "metadata": {},
   "outputs": [],
   "source": [
    "x = \"Yaduvanshi\""
   ]
  },
  {
   "cell_type": "code",
   "execution_count": 12,
   "id": "1e504ca1",
   "metadata": {},
   "outputs": [
    {
     "data": {
      "text/plain": [
       "'Y'"
      ]
     },
     "execution_count": 12,
     "metadata": {},
     "output_type": "execute_result"
    }
   ],
   "source": [
    "x[0]"
   ]
  },
  {
   "cell_type": "code",
   "execution_count": 13,
   "id": "9585ab34",
   "metadata": {},
   "outputs": [
    {
     "data": {
      "text/plain": [
       "'i'"
      ]
     },
     "execution_count": 13,
     "metadata": {},
     "output_type": "execute_result"
    }
   ],
   "source": [
    "x[-1]"
   ]
  },
  {
   "cell_type": "code",
   "execution_count": 14,
   "id": "9912a6cd",
   "metadata": {},
   "outputs": [
    {
     "data": {
      "text/plain": [
       "10"
      ]
     },
     "execution_count": 14,
     "metadata": {},
     "output_type": "execute_result"
    }
   ],
   "source": [
    "len(x)"
   ]
  },
  {
   "cell_type": "code",
   "execution_count": 16,
   "id": "c8c0bebb",
   "metadata": {},
   "outputs": [
    {
     "name": "stdout",
     "output_type": "stream",
     "text": [
      "Y a d u v a n s h i "
     ]
    }
   ],
   "source": [
    "for i in range(len(x)):\n",
    "    #print(i,end=\" \")\n",
    "    print(x[i],end=\" \")"
   ]
  },
  {
   "cell_type": "code",
   "execution_count": 17,
   "id": "57a83350",
   "metadata": {},
   "outputs": [
    {
     "name": "stdout",
     "output_type": "stream",
     "text": [
      "Y a d u v a n s h i "
     ]
    }
   ],
   "source": [
    "for i in x:\n",
    "    print(i,end=\" \")"
   ]
  },
  {
   "cell_type": "code",
   "execution_count": 18,
   "id": "f42b13fd",
   "metadata": {},
   "outputs": [
    {
     "data": {
      "text/plain": [
       "'A'"
      ]
     },
     "execution_count": 18,
     "metadata": {},
     "output_type": "execute_result"
    }
   ],
   "source": [
    "chr(65)"
   ]
  },
  {
   "cell_type": "code",
   "execution_count": 24,
   "id": "8f1df443",
   "metadata": {},
   "outputs": [
    {
     "data": {
      "text/plain": [
       "90"
      ]
     },
     "execution_count": 24,
     "metadata": {},
     "output_type": "execute_result"
    }
   ],
   "source": [
    "ord('Z')"
   ]
  },
  {
   "cell_type": "code",
   "execution_count": 25,
   "id": "98c88b09",
   "metadata": {},
   "outputs": [],
   "source": [
    "x = \"w\""
   ]
  },
  {
   "cell_type": "code",
   "execution_count": 30,
   "id": "26da55a9",
   "metadata": {},
   "outputs": [
    {
     "data": {
      "text/plain": [
       "'www'"
      ]
     },
     "execution_count": 30,
     "metadata": {},
     "output_type": "execute_result"
    }
   ],
   "source": [
    "x*3"
   ]
  },
  {
   "cell_type": "code",
   "execution_count": 28,
   "id": "c4c2a5c6",
   "metadata": {},
   "outputs": [
    {
     "data": {
      "text/plain": [
       "'wrr'"
      ]
     },
     "execution_count": 28,
     "metadata": {},
     "output_type": "execute_result"
    }
   ],
   "source": [
    "x+\"r\"*2"
   ]
  },
  {
   "cell_type": "code",
   "execution_count": 29,
   "id": "d485ddb3",
   "metadata": {},
   "outputs": [
    {
     "data": {
      "text/plain": [
       "'wewewe'"
      ]
     },
     "execution_count": 29,
     "metadata": {},
     "output_type": "execute_result"
    }
   ],
   "source": [
    "(x+\"e\")*3"
   ]
  },
  {
   "cell_type": "markdown",
   "id": "712abc81",
   "metadata": {},
   "source": [
    "String Slicing"
   ]
  },
  {
   "cell_type": "code",
   "execution_count": 31,
   "id": "e0f8cd68",
   "metadata": {},
   "outputs": [],
   "source": [
    "x = \"India, officially the Republic of India (ISO: Bhārat Gaṇarājya),[21] is a country in South Asia. It is the seventh-largest country by area; the most populous country as of June 2023\""
   ]
  },
  {
   "cell_type": "code",
   "execution_count": 32,
   "id": "1014f9f3",
   "metadata": {},
   "outputs": [
    {
     "data": {
      "text/plain": [
       "'India, officially the Republic of India (ISO: Bhārat Gaṇarājya),[21] is a country in South Asia. It is the seventh-largest country by area; the most populous country as of June 2023'"
      ]
     },
     "execution_count": 32,
     "metadata": {},
     "output_type": "execute_result"
    }
   ],
   "source": [
    "x"
   ]
  },
  {
   "cell_type": "code",
   "execution_count": 33,
   "id": "dcc48cb8",
   "metadata": {},
   "outputs": [
    {
     "data": {
      "text/plain": [
       "181"
      ]
     },
     "execution_count": 33,
     "metadata": {},
     "output_type": "execute_result"
    }
   ],
   "source": [
    "len(x)"
   ]
  },
  {
   "cell_type": "code",
   "execution_count": 34,
   "id": "1da2ab15",
   "metadata": {},
   "outputs": [
    {
     "data": {
      "text/plain": [
       "'dia'"
      ]
     },
     "execution_count": 34,
     "metadata": {},
     "output_type": "execute_result"
    }
   ],
   "source": [
    "x[2:5:1]"
   ]
  },
  {
   "cell_type": "code",
   "execution_count": 35,
   "id": "6f6f99d1",
   "metadata": {},
   "outputs": [
    {
     "data": {
      "text/plain": [
       "'Ii filt pl  d S āta'"
      ]
     },
     "execution_count": 35,
     "metadata": {},
     "output_type": "execute_result"
    }
   ],
   "source": [
    "x[:56:3]"
   ]
  },
  {
   "cell_type": "code",
   "execution_count": 36,
   "id": "1ce15a9d",
   "metadata": {},
   "outputs": [
    {
     "data": {
      "text/plain": [
       "'ei aOāGā,  tntittehgcr ;  lcr u0'"
      ]
     },
     "execution_count": 36,
     "metadata": {},
     "output_type": "execute_result"
    }
   ],
   "source": [
    "x[23::5]"
   ]
  },
  {
   "cell_type": "code",
   "execution_count": 37,
   "id": "ee44296d",
   "metadata": {},
   "outputs": [
    {
     "data": {
      "text/plain": [
       "'3202 enuJ fo sa yrtnuoc suolupop tsom eht ;aera yb yrtnuoc tsegral-htneves eht si tI .aisA htuoS ni yrtnuoc a si ]12[,)ayjāraṇaG tarāhB :OSI( aidnI fo cilbupeR eht yllaiciffo ,aidnI'"
      ]
     },
     "execution_count": 37,
     "metadata": {},
     "output_type": "execute_result"
    }
   ],
   "source": [
    "x[::-1]"
   ]
  },
  {
   "cell_type": "code",
   "execution_count": 38,
   "id": "23d673d4",
   "metadata": {},
   "outputs": [
    {
     "data": {
      "text/plain": [
       "'India, officially the Republic of India (ISO: Bhārat Gaṇarājya),[21] is a country in South Asia. It is the seventh-largest country by area; the most populous country as of June 2023'"
      ]
     },
     "execution_count": 38,
     "metadata": {},
     "output_type": "execute_result"
    }
   ],
   "source": [
    "x[:]"
   ]
  },
  {
   "cell_type": "code",
   "execution_count": 39,
   "id": "9f2ade07",
   "metadata": {},
   "outputs": [
    {
     "data": {
      "text/plain": [
       "''"
      ]
     },
     "execution_count": 39,
     "metadata": {},
     "output_type": "execute_result"
    }
   ],
   "source": [
    "x[203:223:3]"
   ]
  },
  {
   "cell_type": "code",
   "execution_count": 40,
   "id": "f8bc9dd4",
   "metadata": {},
   "outputs": [
    {
     "name": "stdout",
     "output_type": "stream",
     "text": [
      "Total Vowels is :  4 Total Consonent is :  6\n"
     ]
    }
   ],
   "source": [
    "x = \"Yaduvanshi\"\n",
    "#extract count of Consonant and vowels\n",
    "vo = 0\n",
    "con = 0\n",
    "for i in x:\n",
    "    if i==\"a\" or i==\"A\" or i==\"e\" or i==\"E\" or i==\"i\" or i==\"I\" or i==\"o\" or i==\"O\" or i==\"u\" or i==\"U\":\n",
    "        vo+=1\n",
    "    else:\n",
    "        con+=1\n",
    "print(\"Total Vowels is : \",vo,\"Total Consonent is : \",con)        "
   ]
  },
  {
   "cell_type": "code",
   "execution_count": 43,
   "id": "6c48c93f",
   "metadata": {},
   "outputs": [],
   "source": [
    "x = \"\"\"India, officially the Republic of India (ISO: Bhārat Gaṇarājya),[21] is a country in South Asia. It is the seventh-largest country by area; the most populous country as of June 2023;[22][23] and from the time of its independence in 1947, the world's most populous democracy.[24][25][26] Bounded by the Indian Ocean on the south, the Arabian Sea on the southwest, and the Bay of Bengal on the southeast, it shares land borders with Pakistan to the west;[j] China, Nepal, and Bhutan to the north; and Bangladesh and Myanmar to the east. In the Indian Ocean, India is in the vicinity of Sri Lanka and the Maldives; its Andaman and Nicobar \n",
    "Islands share a maritime border with Thailand, Myanmar, and Indonesia.\n",
    "\"\"\""
   ]
  },
  {
   "cell_type": "code",
   "execution_count": 44,
   "id": "427938bc",
   "metadata": {},
   "outputs": [
    {
     "data": {
      "text/plain": [
       "\"India, officially the Republic of India (ISO: Bhārat Gaṇarājya),[21] is a country in South Asia. It is the seventh-largest country by area; the most populous country as of June 2023;[22][23] and from the time of its independence in 1947, the world's most populous democracy.[24][25][26] Bounded by the Indian Ocean on the south, the Arabian Sea on the southwest, and the Bay of Bengal on the southeast, it shares land borders with Pakistan to the west;[j] China, Nepal, and Bhutan to the north; and Bangladesh and Myanmar to the east. In the Indian Ocean, India is in the vicinity of Sri Lanka and the Maldives; its Andaman and Nicobar \\nIslands share a maritime border with Thailand, Myanmar, and Indonesia.\\n\""
      ]
     },
     "execution_count": 44,
     "metadata": {},
     "output_type": "execute_result"
    }
   ],
   "source": [
    "x"
   ]
  },
  {
   "cell_type": "code",
   "execution_count": 52,
   "id": "3cac0b1d",
   "metadata": {},
   "outputs": [
    {
     "name": "stdout",
     "output_type": "stream",
     "text": [
      "Count of e is  :  12\n"
     ]
    }
   ],
   "source": [
    "c = 0\n",
    "for i in x:\n",
    "    if i=='y' or i=='Y':\n",
    "        c+=1\n",
    "print(\"Count of e is  : \",c)"
   ]
  },
  {
   "cell_type": "code",
   "execution_count": 54,
   "id": "3b152a33",
   "metadata": {},
   "outputs": [
    {
     "name": "stdout",
     "output_type": "stream",
     "text": [
      "nahoR"
     ]
    }
   ],
   "source": [
    "x = \"Rohan\"\n",
    "#x = nahoR\n",
    "for i in range(-1,-(len(x)+1),-1):\n",
    "    print(x[i],end=\"\")"
   ]
  },
  {
   "cell_type": "code",
   "execution_count": 55,
   "id": "ec40e588",
   "metadata": {},
   "outputs": [
    {
     "data": {
      "text/plain": [
       "'nahoR'"
      ]
     },
     "execution_count": 55,
     "metadata": {},
     "output_type": "execute_result"
    }
   ],
   "source": [
    "x[::-1]"
   ]
  },
  {
   "cell_type": "code",
   "execution_count": null,
   "id": "b452e1e3",
   "metadata": {},
   "outputs": [],
   "source": []
  }
 ],
 "metadata": {
  "kernelspec": {
   "display_name": "Python 3 (ipykernel)",
   "language": "python",
   "name": "python3"
  },
  "language_info": {
   "codemirror_mode": {
    "name": "ipython",
    "version": 3
   },
   "file_extension": ".py",
   "mimetype": "text/x-python",
   "name": "python",
   "nbconvert_exporter": "python",
   "pygments_lexer": "ipython3",
   "version": "3.11.0"
  }
 },
 "nbformat": 4,
 "nbformat_minor": 5
}
